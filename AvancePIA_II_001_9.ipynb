{
  "nbformat": 4,
  "nbformat_minor": 0,
  "metadata": {
    "colab": {
      "name": "Avance2_PIA_Equipo_9.ipynb",
      "provenance": [],
      "collapsed_sections": []
    },
    "kernelspec": {
      "name": "python3",
      "display_name": "Python 3"
    },
    "language_info": {
      "name": "python"
    }
  },
  "cells": [
    {
      "cell_type": "markdown",
      "metadata": {
        "id": "z1AgwRgxd0l2"
      },
      "source": [
        "# **Segundo avance PIA**\n",
        "## Grupo 001 - Lunes 7-10 PM\n",
        "## Equipo 9\n",
        "+ 1842161 Torres Guerrero Saul Ángel\n",
        "+ 1844656 Maldonado Ramirez Alejandra\n",
        "+ 1857712 Morales Tovar Carlos de Jesús\n",
        "+ 1941500 Espinosa Orrante Jesús Alejandro\n",
        "+ 1857810 Rivera Castillo Saúl Andrés\n",
        "\n"
      ]
    },
    {
      "cell_type": "markdown",
      "metadata": {
        "id": "XhGxUPq-d58U"
      },
      "source": [
        "## **Stock Exchange Data** \n",
        "URL: https://www.kaggle.com/mattiuzc/stock-exchange-data \n",
        "\n",
        "### **Descripción de los datos** \n",
        "\n",
        " \n",
        "*   Esta base contiene datos diarios de los puntos (o precios) de índices bursátiles de todo el mundo como: Estados Unidos, Canadá, Japón, Alemania, China, etc. Estos datos que nos muestran son recopilados de Yahoo Finance y son cotizados en la moneda nacional en donde se encuentra cada cambio, además de su precio de cierre convertido al dólar estadounidense.\n",
        "\n",
        "* Un **índice bursátil** es un indicador de la bolsa de valores que actúa como un termómetro: tiene la capacidad de hacernos ver, en un solo vistazo, el movimiento mayoritario de las empresas de dicho mercado. \n",
        "\n",
        "**Descripción de columnas**\n",
        "\n",
        "Los tipos de datos que nos presentan son en su mayoría números, enteros o decimales, también nos dan fechas.\n",
        "\n",
        "* Index: Siglas del índice\n",
        "* Date: Fecha de observación\n",
        "* Open: Precio de apertura\n",
        "* High: Precio más alto que tuvo el índice en todo el día\n",
        "* Low: Precio más bajo que tuvo el índice en todo el día\n",
        "* Close: Precio de cierre, es decir el precio con el que la acción termino el día\n",
        "* Adj Close: Precio de cierre ajustado a dividendos y divisiones, prácticamente es igual al precio de cierre\n",
        "* Volume: Número de acciones que se negociaron en el día\n",
        "* CloseUSD: Precio de cierre en dólares\n",
        "\n",
        "\n",
        "\n",
        "\n",
        "### **Justificación del uso de Datos** \n",
        "\n",
        "\n",
        "  * Una de las características que nos llamó más la atención es que la base nos muestra diferentes índices bursátiles y sus valores con el paso del tiempo, teniendo referencia de otras materias como Productos Financieros Derivados sobre los tipos de inversiones que se pueden realizar con los índices nos empujó a considerar esta base.\n",
        "\n",
        "*   Lo que nos beneficia de trabajar con esta base de datos es tener información organizada sobre distintos índices de todo el mundo, además de una columna dedicada a convertir todos los precios al dolár estadounidense lo cual hace la información más manejable.\n",
        "\n",
        "### **Objetivos** \n",
        "\n",
        "\n",
        "*   Objetivo Principal: Realizar predicciones sobre los índices bursátiles.\n",
        "*   Objetivos Secundarios: Comparar el comportamiento de los índices a través del tiempo.\n",
        "\n",
        "\n",
        "\n",
        "\n",
        "\n",
        "\n",
        "   \n",
        "\n",
        "\n",
        "\n",
        "\n",
        "\n",
        "\n",
        "\n"
      ]
    },
    {
      "cell_type": "markdown",
      "metadata": {
        "id": "3Ccp0iaJ1kyC"
      },
      "source": [
        "## **DESARROLLO DE HERRAMIENTAS**  \n",
        "### **1. Limpieza de Datos** "
      ]
    },
    {
      "cell_type": "code",
      "metadata": {
        "id": "OtlqTfZQ17uC"
      },
      "source": [
        "import pandas as pd\n",
        "import numpy as np\n",
        "import json\n",
        "#Importando la base de datos bajo el nombre IP\n",
        "IP = pd.read_csv(\"indexProcessed.csv\", encoding='utf8')"
      ],
      "execution_count": null,
      "outputs": []
    },
    {
      "cell_type": "code",
      "metadata": {
        "colab": {
          "base_uri": "https://localhost:8080/"
        },
        "id": "kVatrBmVmHpM",
        "outputId": "10a2772d-73f6-47a8-8d08-ce2e70b131b1"
      },
      "source": [
        "#Cantidad de filas y columnas\n",
        "IP.shape"
      ],
      "execution_count": null,
      "outputs": [
        {
          "output_type": "execute_result",
          "data": {
            "text/plain": [
              "(104224, 9)"
            ]
          },
          "metadata": {},
          "execution_count": 3
        }
      ]
    },
    {
      "cell_type": "code",
      "metadata": {
        "colab": {
          "base_uri": "https://localhost:8080/",
          "height": 238
        },
        "id": "3sUWl5tkmRjN",
        "outputId": "d0531f19-0bca-492c-a52e-216a55bb36bb"
      },
      "source": [
        "#Mostrando las primeras 6 filas de la base de datos IP\n",
        "IP.head(6)"
      ],
      "execution_count": null,
      "outputs": [
        {
          "output_type": "execute_result",
          "data": {
            "text/html": [
              "<div>\n",
              "<style scoped>\n",
              "    .dataframe tbody tr th:only-of-type {\n",
              "        vertical-align: middle;\n",
              "    }\n",
              "\n",
              "    .dataframe tbody tr th {\n",
              "        vertical-align: top;\n",
              "    }\n",
              "\n",
              "    .dataframe thead th {\n",
              "        text-align: right;\n",
              "    }\n",
              "</style>\n",
              "<table border=\"1\" class=\"dataframe\">\n",
              "  <thead>\n",
              "    <tr style=\"text-align: right;\">\n",
              "      <th></th>\n",
              "      <th>Index</th>\n",
              "      <th>Date</th>\n",
              "      <th>Open</th>\n",
              "      <th>High</th>\n",
              "      <th>Low</th>\n",
              "      <th>Close</th>\n",
              "      <th>Adj Close</th>\n",
              "      <th>Volume</th>\n",
              "      <th>CloseUSD</th>\n",
              "    </tr>\n",
              "  </thead>\n",
              "  <tbody>\n",
              "    <tr>\n",
              "      <th>0</th>\n",
              "      <td>HSI</td>\n",
              "      <td>1986-12-31</td>\n",
              "      <td>2568.300049</td>\n",
              "      <td>2568.300049</td>\n",
              "      <td>2568.300049</td>\n",
              "      <td>2568.300049</td>\n",
              "      <td>2568.300049</td>\n",
              "      <td>0.0</td>\n",
              "      <td>333.879006</td>\n",
              "    </tr>\n",
              "    <tr>\n",
              "      <th>1</th>\n",
              "      <td>HSI</td>\n",
              "      <td>1987-01-02</td>\n",
              "      <td>2540.100098</td>\n",
              "      <td>2540.100098</td>\n",
              "      <td>2540.100098</td>\n",
              "      <td>2540.100098</td>\n",
              "      <td>2540.100098</td>\n",
              "      <td>0.0</td>\n",
              "      <td>330.213013</td>\n",
              "    </tr>\n",
              "    <tr>\n",
              "      <th>2</th>\n",
              "      <td>HSI</td>\n",
              "      <td>1987-01-05</td>\n",
              "      <td>2552.399902</td>\n",
              "      <td>2552.399902</td>\n",
              "      <td>2552.399902</td>\n",
              "      <td>2552.399902</td>\n",
              "      <td>2552.399902</td>\n",
              "      <td>0.0</td>\n",
              "      <td>331.811987</td>\n",
              "    </tr>\n",
              "    <tr>\n",
              "      <th>3</th>\n",
              "      <td>HSI</td>\n",
              "      <td>1987-01-06</td>\n",
              "      <td>2583.899902</td>\n",
              "      <td>2583.899902</td>\n",
              "      <td>2583.899902</td>\n",
              "      <td>2583.899902</td>\n",
              "      <td>2583.899902</td>\n",
              "      <td>0.0</td>\n",
              "      <td>335.906987</td>\n",
              "    </tr>\n",
              "    <tr>\n",
              "      <th>4</th>\n",
              "      <td>HSI</td>\n",
              "      <td>1987-01-07</td>\n",
              "      <td>2607.100098</td>\n",
              "      <td>2607.100098</td>\n",
              "      <td>2607.100098</td>\n",
              "      <td>2607.100098</td>\n",
              "      <td>2607.100098</td>\n",
              "      <td>0.0</td>\n",
              "      <td>338.923013</td>\n",
              "    </tr>\n",
              "    <tr>\n",
              "      <th>5</th>\n",
              "      <td>HSI</td>\n",
              "      <td>1987-01-08</td>\n",
              "      <td>2603.300049</td>\n",
              "      <td>2603.300049</td>\n",
              "      <td>2603.300049</td>\n",
              "      <td>2603.300049</td>\n",
              "      <td>2603.300049</td>\n",
              "      <td>0.0</td>\n",
              "      <td>338.429006</td>\n",
              "    </tr>\n",
              "  </tbody>\n",
              "</table>\n",
              "</div>"
            ],
            "text/plain": [
              "  Index        Date         Open  ...    Adj Close  Volume    CloseUSD\n",
              "0   HSI  1986-12-31  2568.300049  ...  2568.300049     0.0  333.879006\n",
              "1   HSI  1987-01-02  2540.100098  ...  2540.100098     0.0  330.213013\n",
              "2   HSI  1987-01-05  2552.399902  ...  2552.399902     0.0  331.811987\n",
              "3   HSI  1987-01-06  2583.899902  ...  2583.899902     0.0  335.906987\n",
              "4   HSI  1987-01-07  2607.100098  ...  2607.100098     0.0  338.923013\n",
              "5   HSI  1987-01-08  2603.300049  ...  2603.300049     0.0  338.429006\n",
              "\n",
              "[6 rows x 9 columns]"
            ]
          },
          "metadata": {},
          "execution_count": 4
        }
      ]
    },
    {
      "cell_type": "code",
      "metadata": {
        "colab": {
          "base_uri": "https://localhost:8080/"
        },
        "id": "kgR5LC_hmYSf",
        "outputId": "757fac4d-f796-4832-8073-a12b4b405935"
      },
      "source": [
        "#Desplegando el nombre de todas las columnas que conforman la base de datos IP\n",
        "IP.columns"
      ],
      "execution_count": null,
      "outputs": [
        {
          "output_type": "execute_result",
          "data": {
            "text/plain": [
              "Index(['Index', 'Date', 'Open', 'High', 'Low', 'Close', 'Adj Close', 'Volume',\n",
              "       'CloseUSD'],\n",
              "      dtype='object')"
            ]
          },
          "metadata": {},
          "execution_count": 5
        }
      ]
    },
    {
      "cell_type": "code",
      "metadata": {
        "colab": {
          "base_uri": "https://localhost:8080/"
        },
        "id": "saPLXymYmiC0",
        "outputId": "48e84a73-7d3e-4b5e-8f33-acc07240cc8f"
      },
      "source": [
        "#Indicando el tipo de dato que contiene cada columna de la base de datos IP\n",
        "#Verificando la presencia o no de datos nulos en cada columna de la base de datos IP\n",
        "for i in range(0,9):\n",
        "    print(\"La columna\",IP.columns[i],\"contiene datos de tipo\",IP[IP.columns[i]].dtype)\n",
        "    DN=IP.isnull().any()[IP.columns[i]]\n",
        "    if DN == False:\n",
        "      print(\"La columna\",IP.columns[i],\"no presenta datos nulos\")\n",
        "      print()\n",
        "    else:\n",
        "      print(\"La columna\",IP.columns[i],\"presenta\",IP.isnull().sum()[IP.columns[i]],\"datos nulos\")\n",
        "      print()"
      ],
      "execution_count": null,
      "outputs": [
        {
          "output_type": "stream",
          "name": "stdout",
          "text": [
            "La columna Index contiene datos de tipo object\n",
            "La columna Index no presenta datos nulos\n",
            "\n",
            "La columna Date contiene datos de tipo object\n",
            "La columna Date no presenta datos nulos\n",
            "\n",
            "La columna Open contiene datos de tipo float64\n",
            "La columna Open no presenta datos nulos\n",
            "\n",
            "La columna High contiene datos de tipo float64\n",
            "La columna High no presenta datos nulos\n",
            "\n",
            "La columna Low contiene datos de tipo float64\n",
            "La columna Low no presenta datos nulos\n",
            "\n",
            "La columna Close contiene datos de tipo float64\n",
            "La columna Close no presenta datos nulos\n",
            "\n",
            "La columna Adj Close contiene datos de tipo float64\n",
            "La columna Adj Close no presenta datos nulos\n",
            "\n",
            "La columna Volume contiene datos de tipo float64\n",
            "La columna Volume no presenta datos nulos\n",
            "\n",
            "La columna CloseUSD contiene datos de tipo float64\n",
            "La columna CloseUSD no presenta datos nulos\n",
            "\n"
          ]
        }
      ]
    },
    {
      "cell_type": "code",
      "metadata": {
        "colab": {
          "base_uri": "https://localhost:8080/",
          "height": 238
        },
        "id": "pl3CDp9Bmo1N",
        "outputId": "83801fab-48bc-4727-df67-5de45dd8aefd"
      },
      "source": [
        "#Eliminando columnas\n",
        "NIP=IP.drop(columns=['Open','High','Low','Close','Adj Close'])\n",
        "NIP.head(6)"
      ],
      "execution_count": null,
      "outputs": [
        {
          "output_type": "execute_result",
          "data": {
            "text/html": [
              "<div>\n",
              "<style scoped>\n",
              "    .dataframe tbody tr th:only-of-type {\n",
              "        vertical-align: middle;\n",
              "    }\n",
              "\n",
              "    .dataframe tbody tr th {\n",
              "        vertical-align: top;\n",
              "    }\n",
              "\n",
              "    .dataframe thead th {\n",
              "        text-align: right;\n",
              "    }\n",
              "</style>\n",
              "<table border=\"1\" class=\"dataframe\">\n",
              "  <thead>\n",
              "    <tr style=\"text-align: right;\">\n",
              "      <th></th>\n",
              "      <th>Index</th>\n",
              "      <th>Date</th>\n",
              "      <th>Volume</th>\n",
              "      <th>CloseUSD</th>\n",
              "    </tr>\n",
              "  </thead>\n",
              "  <tbody>\n",
              "    <tr>\n",
              "      <th>0</th>\n",
              "      <td>HSI</td>\n",
              "      <td>1986-12-31</td>\n",
              "      <td>0.0</td>\n",
              "      <td>333.879006</td>\n",
              "    </tr>\n",
              "    <tr>\n",
              "      <th>1</th>\n",
              "      <td>HSI</td>\n",
              "      <td>1987-01-02</td>\n",
              "      <td>0.0</td>\n",
              "      <td>330.213013</td>\n",
              "    </tr>\n",
              "    <tr>\n",
              "      <th>2</th>\n",
              "      <td>HSI</td>\n",
              "      <td>1987-01-05</td>\n",
              "      <td>0.0</td>\n",
              "      <td>331.811987</td>\n",
              "    </tr>\n",
              "    <tr>\n",
              "      <th>3</th>\n",
              "      <td>HSI</td>\n",
              "      <td>1987-01-06</td>\n",
              "      <td>0.0</td>\n",
              "      <td>335.906987</td>\n",
              "    </tr>\n",
              "    <tr>\n",
              "      <th>4</th>\n",
              "      <td>HSI</td>\n",
              "      <td>1987-01-07</td>\n",
              "      <td>0.0</td>\n",
              "      <td>338.923013</td>\n",
              "    </tr>\n",
              "    <tr>\n",
              "      <th>5</th>\n",
              "      <td>HSI</td>\n",
              "      <td>1987-01-08</td>\n",
              "      <td>0.0</td>\n",
              "      <td>338.429006</td>\n",
              "    </tr>\n",
              "  </tbody>\n",
              "</table>\n",
              "</div>"
            ],
            "text/plain": [
              "  Index        Date  Volume    CloseUSD\n",
              "0   HSI  1986-12-31     0.0  333.879006\n",
              "1   HSI  1987-01-02     0.0  330.213013\n",
              "2   HSI  1987-01-05     0.0  331.811987\n",
              "3   HSI  1987-01-06     0.0  335.906987\n",
              "4   HSI  1987-01-07     0.0  338.923013\n",
              "5   HSI  1987-01-08     0.0  338.429006"
            ]
          },
          "metadata": {},
          "execution_count": 7
        }
      ]
    },
    {
      "cell_type": "markdown",
      "metadata": {
        "id": "6uPOG7Him3rL"
      },
      "source": [
        "Se eliminaron las columnas Open, High, Low, Close y Adj Close porque para nuestro objetivo lo más eficiente es tener todos los datos en la misma moneda (USD), aparte de que eran redundantes entre ellas."
      ]
    },
    {
      "cell_type": "markdown",
      "metadata": {
        "id": "CNug85gw19Ac"
      },
      "source": [
        "### **2. Estadística básica de los datos** \n"
      ]
    },
    {
      "cell_type": "code",
      "metadata": {
        "id": "VONiLfPl2VVT",
        "colab": {
          "base_uri": "https://localhost:8080/"
        },
        "outputId": "d0f294f3-01cd-4cae-89a3-e04b85ad67ee"
      },
      "source": [
        "#Resumen estadístico de la columna CloseUSD\n",
        "NIP['CloseUSD'].describe()"
      ],
      "execution_count": null,
      "outputs": [
        {
          "output_type": "execute_result",
          "data": {
            "text/plain": [
              "count    104224.000000\n",
              "mean       3046.729177\n",
              "std        3747.865623\n",
              "min          10.204900\n",
              "25%         320.460898\n",
              "50%        1371.598486\n",
              "75%        4383.045241\n",
              "max       18934.376173\n",
              "Name: CloseUSD, dtype: float64"
            ]
          },
          "metadata": {},
          "execution_count": 8
        }
      ]
    },
    {
      "cell_type": "code",
      "metadata": {
        "id": "7KT6xUTuo_sY"
      },
      "source": [
        "NYA=NIP[NIP.Index==\"NYA\"]"
      ],
      "execution_count": null,
      "outputs": []
    },
    {
      "cell_type": "code",
      "metadata": {
        "colab": {
          "base_uri": "https://localhost:8080/"
        },
        "id": "j5uIM7nMpSpa",
        "outputId": "18562de5-e915-47c8-9520-658a12297a68"
      },
      "source": [
        "#Resumen estadístico de la columna CloseUSD solo del índice NYA\n",
        "NYA['CloseUSD'].describe()"
      ],
      "execution_count": null,
      "outputs": [
        {
          "output_type": "execute_result",
          "data": {
            "text/plain": [
              "count    13947.000000\n",
              "mean      4452.174711\n",
              "std       4075.459366\n",
              "min        347.769989\n",
              "25%        654.940002\n",
              "50%       2631.800049\n",
              "75%       7337.935059\n",
              "max      16590.429690\n",
              "Name: CloseUSD, dtype: float64"
            ]
          },
          "metadata": {},
          "execution_count": 10
        }
      ]
    },
    {
      "cell_type": "markdown",
      "metadata": {
        "id": "3RD3YAinBQ44"
      },
      "source": [
        "Con el resumen estadístico encontramos que tenemos una gran cantidad de observaciones del índice NYA y un promedio de puntos mayor al que se tiene de todos los índices en general."
      ]
    },
    {
      "cell_type": "markdown",
      "metadata": {
        "id": "HNds62rT2V84"
      },
      "source": [
        "## **3. Gráficas** "
      ]
    },
    {
      "cell_type": "code",
      "metadata": {
        "id": "RXAyBiFP2ddG",
        "colab": {
          "base_uri": "https://localhost:8080/",
          "height": 330
        },
        "outputId": "c9f37882-1977-4806-c23b-bbe6a8253268"
      },
      "source": [
        "(NIP['Index'].value_counts() / len(NIP)).plot.bar()"
      ],
      "execution_count": null,
      "outputs": [
        {
          "output_type": "execute_result",
          "data": {
            "text/plain": [
              "<matplotlib.axes._subplots.AxesSubplot at 0x7f701c356f50>"
            ]
          },
          "metadata": {},
          "execution_count": 11
        },
        {
          "output_type": "display_data",
          "data": {
            "image/png": "[encoded data removed]",
            "text/plain": [
              "<Figure size 432x288 with 1 Axes>"
            ]
          },
          "metadata": {
            "needs_background": "light"
          }
        }
      ]
    },
    {
      "cell_type": "markdown",
      "metadata": {
        "id": "4ptqazHstEix"
      },
      "source": [
        "Con esta gráfica nos podemos dar cuenta que el índice \"NYA\" abarca el mayor porcentaje de observaciones, para tener gráficas con resultados más específicos podemos realizarlos con los datos de este índice."
      ]
    },
    {
      "cell_type": "code",
      "metadata": {
        "colab": {
          "base_uri": "https://localhost:8080/",
          "height": 282
        },
        "id": "V1GwWcPotdko",
        "outputId": "159a7693-d93a-4ee8-afc5-6816c8e58ba1"
      },
      "source": [
        "NYA['CloseUSD'].plot.hist()"
      ],
      "execution_count": null,
      "outputs": [
        {
          "output_type": "execute_result",
          "data": {
            "text/plain": [
              "<matplotlib.axes._subplots.AxesSubplot at 0x7f701c299f50>"
            ]
          },
          "metadata": {},
          "execution_count": 12
        },
        {
          "output_type": "display_data",
          "data": {
            "image/png": "[encoded data removed]",
            "text/plain": [
              "<Figure size 432x288 with 1 Axes>"
            ]
          },
          "metadata": {
            "needs_background": "light"
          }
        }
      ]
    },
    {
      "cell_type": "markdown",
      "metadata": {
        "id": "NDFUi6MHy2Zf"
      },
      "source": [
        "Observamos que la mayor parte de las observaciones de puntos del índice están situadas en el intervalo de 347 a 2000"
      ]
    },
    {
      "cell_type": "code",
      "metadata": {
        "id": "TlSFUX1pMunn"
      },
      "source": [
        "NNIP = pd.read_csv(\"indexProcessed.csv\",parse_dates=['Date'],index_col= ['Date'])"
      ],
      "execution_count": null,
      "outputs": []
    },
    {
      "cell_type": "code",
      "metadata": {
        "colab": {
          "base_uri": "https://localhost:8080/",
          "height": 238
        },
        "id": "4hDrNlsHOp02",
        "outputId": "03c33d82-1786-4430-93f3-0603c8d02478"
      },
      "source": [
        "NNYA=NNIP[NNIP.Index==\"NYA\"]\n",
        "NNYA.head(5)"
      ],
      "execution_count": null,
      "outputs": [
        {
          "output_type": "execute_result",
          "data": {
            "text/html": [
              "<div>\n",
              "<style scoped>\n",
              "    .dataframe tbody tr th:only-of-type {\n",
              "        vertical-align: middle;\n",
              "    }\n",
              "\n",
              "    .dataframe tbody tr th {\n",
              "        vertical-align: top;\n",
              "    }\n",
              "\n",
              "    .dataframe thead th {\n",
              "        text-align: right;\n",
              "    }\n",
              "</style>\n",
              "<table border=\"1\" class=\"dataframe\">\n",
              "  <thead>\n",
              "    <tr style=\"text-align: right;\">\n",
              "      <th></th>\n",
              "      <th>Index</th>\n",
              "      <th>Open</th>\n",
              "      <th>High</th>\n",
              "      <th>Low</th>\n",
              "      <th>Close</th>\n",
              "      <th>Adj Close</th>\n",
              "      <th>Volume</th>\n",
              "      <th>CloseUSD</th>\n",
              "    </tr>\n",
              "    <tr>\n",
              "      <th>Date</th>\n",
              "      <th></th>\n",
              "      <th></th>\n",
              "      <th></th>\n",
              "      <th></th>\n",
              "      <th></th>\n",
              "      <th></th>\n",
              "      <th></th>\n",
              "      <th></th>\n",
              "    </tr>\n",
              "  </thead>\n",
              "  <tbody>\n",
              "    <tr>\n",
              "      <th>1965-12-31</th>\n",
              "      <td>NYA</td>\n",
              "      <td>528.690002</td>\n",
              "      <td>528.690002</td>\n",
              "      <td>528.690002</td>\n",
              "      <td>528.690002</td>\n",
              "      <td>528.690002</td>\n",
              "      <td>0.0</td>\n",
              "      <td>528.690002</td>\n",
              "    </tr>\n",
              "    <tr>\n",
              "      <th>1966-01-03</th>\n",
              "      <td>NYA</td>\n",
              "      <td>527.210022</td>\n",
              "      <td>527.210022</td>\n",
              "      <td>527.210022</td>\n",
              "      <td>527.210022</td>\n",
              "      <td>527.210022</td>\n",
              "      <td>0.0</td>\n",
              "      <td>527.210022</td>\n",
              "    </tr>\n",
              "    <tr>\n",
              "      <th>1966-01-04</th>\n",
              "      <td>NYA</td>\n",
              "      <td>527.840027</td>\n",
              "      <td>527.840027</td>\n",
              "      <td>527.840027</td>\n",
              "      <td>527.840027</td>\n",
              "      <td>527.840027</td>\n",
              "      <td>0.0</td>\n",
              "      <td>527.840027</td>\n",
              "    </tr>\n",
              "    <tr>\n",
              "      <th>1966-01-05</th>\n",
              "      <td>NYA</td>\n",
              "      <td>531.119995</td>\n",
              "      <td>531.119995</td>\n",
              "      <td>531.119995</td>\n",
              "      <td>531.119995</td>\n",
              "      <td>531.119995</td>\n",
              "      <td>0.0</td>\n",
              "      <td>531.119995</td>\n",
              "    </tr>\n",
              "    <tr>\n",
              "      <th>1966-01-06</th>\n",
              "      <td>NYA</td>\n",
              "      <td>532.070007</td>\n",
              "      <td>532.070007</td>\n",
              "      <td>532.070007</td>\n",
              "      <td>532.070007</td>\n",
              "      <td>532.070007</td>\n",
              "      <td>0.0</td>\n",
              "      <td>532.070007</td>\n",
              "    </tr>\n",
              "  </tbody>\n",
              "</table>\n",
              "</div>"
            ],
            "text/plain": [
              "           Index        Open        High  ...   Adj Close  Volume    CloseUSD\n",
              "Date                                      ...                                \n",
              "1965-12-31   NYA  528.690002  528.690002  ...  528.690002     0.0  528.690002\n",
              "1966-01-03   NYA  527.210022  527.210022  ...  527.210022     0.0  527.210022\n",
              "1966-01-04   NYA  527.840027  527.840027  ...  527.840027     0.0  527.840027\n",
              "1966-01-05   NYA  531.119995  531.119995  ...  531.119995     0.0  531.119995\n",
              "1966-01-06   NYA  532.070007  532.070007  ...  532.070007     0.0  532.070007\n",
              "\n",
              "[5 rows x 8 columns]"
            ]
          },
          "metadata": {},
          "execution_count": 14
        }
      ]
    },
    {
      "cell_type": "code",
      "metadata": {
        "colab": {
          "base_uri": "https://localhost:8080/",
          "height": 269
        },
        "id": "DqxrA8M2Ott0",
        "outputId": "6c00fab2-8739-4f62-a113-14cae2df46b1"
      },
      "source": [
        "ENYA=NNYA.drop(columns=['Open','High','Low','Close','Adj Close'])\n",
        "ENYA.head(6)"
      ],
      "execution_count": null,
      "outputs": [
        {
          "output_type": "execute_result",
          "data": {
            "text/html": [
              "<div>\n",
              "<style scoped>\n",
              "    .dataframe tbody tr th:only-of-type {\n",
              "        vertical-align: middle;\n",
              "    }\n",
              "\n",
              "    .dataframe tbody tr th {\n",
              "        vertical-align: top;\n",
              "    }\n",
              "\n",
              "    .dataframe thead th {\n",
              "        text-align: right;\n",
              "    }\n",
              "</style>\n",
              "<table border=\"1\" class=\"dataframe\">\n",
              "  <thead>\n",
              "    <tr style=\"text-align: right;\">\n",
              "      <th></th>\n",
              "      <th>Index</th>\n",
              "      <th>Volume</th>\n",
              "      <th>CloseUSD</th>\n",
              "    </tr>\n",
              "    <tr>\n",
              "      <th>Date</th>\n",
              "      <th></th>\n",
              "      <th></th>\n",
              "      <th></th>\n",
              "    </tr>\n",
              "  </thead>\n",
              "  <tbody>\n",
              "    <tr>\n",
              "      <th>1965-12-31</th>\n",
              "      <td>NYA</td>\n",
              "      <td>0.0</td>\n",
              "      <td>528.690002</td>\n",
              "    </tr>\n",
              "    <tr>\n",
              "      <th>1966-01-03</th>\n",
              "      <td>NYA</td>\n",
              "      <td>0.0</td>\n",
              "      <td>527.210022</td>\n",
              "    </tr>\n",
              "    <tr>\n",
              "      <th>1966-01-04</th>\n",
              "      <td>NYA</td>\n",
              "      <td>0.0</td>\n",
              "      <td>527.840027</td>\n",
              "    </tr>\n",
              "    <tr>\n",
              "      <th>1966-01-05</th>\n",
              "      <td>NYA</td>\n",
              "      <td>0.0</td>\n",
              "      <td>531.119995</td>\n",
              "    </tr>\n",
              "    <tr>\n",
              "      <th>1966-01-06</th>\n",
              "      <td>NYA</td>\n",
              "      <td>0.0</td>\n",
              "      <td>532.070007</td>\n",
              "    </tr>\n",
              "    <tr>\n",
              "      <th>1966-01-07</th>\n",
              "      <td>NYA</td>\n",
              "      <td>0.0</td>\n",
              "      <td>532.599976</td>\n",
              "    </tr>\n",
              "  </tbody>\n",
              "</table>\n",
              "</div>"
            ],
            "text/plain": [
              "           Index  Volume    CloseUSD\n",
              "Date                                \n",
              "1965-12-31   NYA     0.0  528.690002\n",
              "1966-01-03   NYA     0.0  527.210022\n",
              "1966-01-04   NYA     0.0  527.840027\n",
              "1966-01-05   NYA     0.0  531.119995\n",
              "1966-01-06   NYA     0.0  532.070007\n",
              "1966-01-07   NYA     0.0  532.599976"
            ]
          },
          "metadata": {},
          "execution_count": 15
        }
      ]
    },
    {
      "cell_type": "code",
      "metadata": {
        "colab": {
          "base_uri": "https://localhost:8080/",
          "height": 238
        },
        "id": "dzW7JpNFOxQr",
        "outputId": "92f91078-be78-42bb-83e0-c09305d0172d"
      },
      "source": [
        "IPP = ENYA['2020-01-01':'2021-01-01']\n",
        "IPP.head()"
      ],
      "execution_count": null,
      "outputs": [
        {
          "output_type": "execute_result",
          "data": {
            "text/html": [
              "<div>\n",
              "<style scoped>\n",
              "    .dataframe tbody tr th:only-of-type {\n",
              "        vertical-align: middle;\n",
              "    }\n",
              "\n",
              "    .dataframe tbody tr th {\n",
              "        vertical-align: top;\n",
              "    }\n",
              "\n",
              "    .dataframe thead th {\n",
              "        text-align: right;\n",
              "    }\n",
              "</style>\n",
              "<table border=\"1\" class=\"dataframe\">\n",
              "  <thead>\n",
              "    <tr style=\"text-align: right;\">\n",
              "      <th></th>\n",
              "      <th>Index</th>\n",
              "      <th>Volume</th>\n",
              "      <th>CloseUSD</th>\n",
              "    </tr>\n",
              "    <tr>\n",
              "      <th>Date</th>\n",
              "      <th></th>\n",
              "      <th></th>\n",
              "      <th></th>\n",
              "    </tr>\n",
              "  </thead>\n",
              "  <tbody>\n",
              "    <tr>\n",
              "      <th>2020-01-02</th>\n",
              "      <td>NYA</td>\n",
              "      <td>3.458250e+09</td>\n",
              "      <td>14002.49023</td>\n",
              "    </tr>\n",
              "    <tr>\n",
              "      <th>2020-01-03</th>\n",
              "      <td>NYA</td>\n",
              "      <td>3.461290e+09</td>\n",
              "      <td>13917.04981</td>\n",
              "    </tr>\n",
              "    <tr>\n",
              "      <th>2020-01-06</th>\n",
              "      <td>NYA</td>\n",
              "      <td>3.674070e+09</td>\n",
              "      <td>13941.79981</td>\n",
              "    </tr>\n",
              "    <tr>\n",
              "      <th>2020-01-07</th>\n",
              "      <td>NYA</td>\n",
              "      <td>3.420380e+09</td>\n",
              "      <td>13898.45020</td>\n",
              "    </tr>\n",
              "    <tr>\n",
              "      <th>2020-01-08</th>\n",
              "      <td>NYA</td>\n",
              "      <td>3.720890e+09</td>\n",
              "      <td>13934.44043</td>\n",
              "    </tr>\n",
              "  </tbody>\n",
              "</table>\n",
              "</div>"
            ],
            "text/plain": [
              "           Index        Volume     CloseUSD\n",
              "Date                                       \n",
              "2020-01-02   NYA  3.458250e+09  14002.49023\n",
              "2020-01-03   NYA  3.461290e+09  13917.04981\n",
              "2020-01-06   NYA  3.674070e+09  13941.79981\n",
              "2020-01-07   NYA  3.420380e+09  13898.45020\n",
              "2020-01-08   NYA  3.720890e+09  13934.44043"
            ]
          },
          "metadata": {},
          "execution_count": 19
        }
      ]
    },
    {
      "cell_type": "code",
      "metadata": {
        "colab": {
          "base_uri": "https://localhost:8080/",
          "height": 424
        },
        "id": "uDoa9Tv0OyRu",
        "outputId": "809c0734-e6ee-4fef-cc2b-f9f3e540caa7"
      },
      "source": [
        "IPP.reset_index()"
      ],
      "execution_count": null,
      "outputs": [
        {
          "output_type": "execute_result",
          "data": {
            "text/html": [
              "<div>\n",
              "<style scoped>\n",
              "    .dataframe tbody tr th:only-of-type {\n",
              "        vertical-align: middle;\n",
              "    }\n",
              "\n",
              "    .dataframe tbody tr th {\n",
              "        vertical-align: top;\n",
              "    }\n",
              "\n",
              "    .dataframe thead th {\n",
              "        text-align: right;\n",
              "    }\n",
              "</style>\n",
              "<table border=\"1\" class=\"dataframe\">\n",
              "  <thead>\n",
              "    <tr style=\"text-align: right;\">\n",
              "      <th></th>\n",
              "      <th>Date</th>\n",
              "      <th>Index</th>\n",
              "      <th>Volume</th>\n",
              "      <th>CloseUSD</th>\n",
              "    </tr>\n",
              "  </thead>\n",
              "  <tbody>\n",
              "    <tr>\n",
              "      <th>0</th>\n",
              "      <td>2020-01-02</td>\n",
              "      <td>NYA</td>\n",
              "      <td>3.458250e+09</td>\n",
              "      <td>14002.49023</td>\n",
              "    </tr>\n",
              "    <tr>\n",
              "      <th>1</th>\n",
              "      <td>2020-01-03</td>\n",
              "      <td>NYA</td>\n",
              "      <td>3.461290e+09</td>\n",
              "      <td>13917.04981</td>\n",
              "    </tr>\n",
              "    <tr>\n",
              "      <th>2</th>\n",
              "      <td>2020-01-06</td>\n",
              "      <td>NYA</td>\n",
              "      <td>3.674070e+09</td>\n",
              "      <td>13941.79981</td>\n",
              "    </tr>\n",
              "    <tr>\n",
              "      <th>3</th>\n",
              "      <td>2020-01-07</td>\n",
              "      <td>NYA</td>\n",
              "      <td>3.420380e+09</td>\n",
              "      <td>13898.45020</td>\n",
              "    </tr>\n",
              "    <tr>\n",
              "      <th>4</th>\n",
              "      <td>2020-01-08</td>\n",
              "      <td>NYA</td>\n",
              "      <td>3.720890e+09</td>\n",
              "      <td>13934.44043</td>\n",
              "    </tr>\n",
              "    <tr>\n",
              "      <th>...</th>\n",
              "      <td>...</td>\n",
              "      <td>...</td>\n",
              "      <td>...</td>\n",
              "      <td>...</td>\n",
              "    </tr>\n",
              "    <tr>\n",
              "      <th>248</th>\n",
              "      <td>2020-12-24</td>\n",
              "      <td>NYA</td>\n",
              "      <td>1.885090e+09</td>\n",
              "      <td>14382.50000</td>\n",
              "    </tr>\n",
              "    <tr>\n",
              "      <th>249</th>\n",
              "      <td>2020-12-28</td>\n",
              "      <td>NYA</td>\n",
              "      <td>3.527460e+09</td>\n",
              "      <td>14405.76953</td>\n",
              "    </tr>\n",
              "    <tr>\n",
              "      <th>250</th>\n",
              "      <td>2020-12-29</td>\n",
              "      <td>NYA</td>\n",
              "      <td>3.387030e+09</td>\n",
              "      <td>14397.91992</td>\n",
              "    </tr>\n",
              "    <tr>\n",
              "      <th>251</th>\n",
              "      <td>2020-12-30</td>\n",
              "      <td>NYA</td>\n",
              "      <td>3.145200e+09</td>\n",
              "      <td>14477.48047</td>\n",
              "    </tr>\n",
              "    <tr>\n",
              "      <th>252</th>\n",
              "      <td>2020-12-31</td>\n",
              "      <td>NYA</td>\n",
              "      <td>3.172510e+09</td>\n",
              "      <td>14524.79981</td>\n",
              "    </tr>\n",
              "  </tbody>\n",
              "</table>\n",
              "<p>253 rows × 4 columns</p>\n",
              "</div>"
            ],
            "text/plain": [
              "          Date Index        Volume     CloseUSD\n",
              "0   2020-01-02   NYA  3.458250e+09  14002.49023\n",
              "1   2020-01-03   NYA  3.461290e+09  13917.04981\n",
              "2   2020-01-06   NYA  3.674070e+09  13941.79981\n",
              "3   2020-01-07   NYA  3.420380e+09  13898.45020\n",
              "4   2020-01-08   NYA  3.720890e+09  13934.44043\n",
              "..         ...   ...           ...          ...\n",
              "248 2020-12-24   NYA  1.885090e+09  14382.50000\n",
              "249 2020-12-28   NYA  3.527460e+09  14405.76953\n",
              "250 2020-12-29   NYA  3.387030e+09  14397.91992\n",
              "251 2020-12-30   NYA  3.145200e+09  14477.48047\n",
              "252 2020-12-31   NYA  3.172510e+09  14524.79981\n",
              "\n",
              "[253 rows x 4 columns]"
            ]
          },
          "metadata": {},
          "execution_count": 25
        }
      ]
    },
    {
      "cell_type": "markdown",
      "metadata": {
        "id": "Fs-72Qe5PDZ_"
      },
      "source": [
        "Realizamos los pasos anteriores para aislar el intervalo que comprende el año 2020 y de esa forma la gráfica de dispersión se pueda entender mejor"
      ]
    },
    {
      "cell_type": "code",
      "metadata": {
        "colab": {
          "base_uri": "https://localhost:8080/",
          "height": 296
        },
        "id": "vMXNswA1O2cx",
        "outputId": "96878a29-b7b4-4d10-e449-ee642cb13720"
      },
      "source": [
        "IPP.reset_index().plot.scatter(x='Date', y='CloseUSD')"
      ],
      "execution_count": null,
      "outputs": [
        {
          "output_type": "execute_result",
          "data": {
            "text/plain": [
              "<matplotlib.axes._subplots.AxesSubplot at 0x7f701ba28e90>"
            ]
          },
          "metadata": {},
          "execution_count": 28
        },
        {
          "output_type": "display_data",
          "data": {
            "image/png": "[encoded data removed]",
            "text/plain": [
              "<Figure size 432x288 with 1 Axes>"
            ]
          },
          "metadata": {
            "needs_background": "light"
          }
        }
      ]
    },
    {
      "cell_type": "markdown",
      "metadata": {
        "id": "HSL2uKX3QkjC"
      },
      "source": [
        "Con la gráfica de dispersión del 2020 para el índice NYA podemos ver que se vio afectado en el primer trimestre muy probablemente debido a los efectos del COVID-19 en la economía mundial, recuperandose poco a poco a lo largo del año."
      ]
    },
    {
      "cell_type": "code",
      "metadata": {
        "colab": {
          "base_uri": "https://localhost:8080/",
          "height": 238
        },
        "id": "xeJsCZgSUOFK",
        "outputId": "de7969eb-2885-4d89-dcd1-97fb628e6d4f"
      },
      "source": [
        "N225=NNIP[NNIP.Index==\"N225\"]\n",
        "N225.head(5)"
      ],
      "execution_count": null,
      "outputs": [
        {
          "output_type": "execute_result",
          "data": {
            "text/html": [
              "<div>\n",
              "<style scoped>\n",
              "    .dataframe tbody tr th:only-of-type {\n",
              "        vertical-align: middle;\n",
              "    }\n",
              "\n",
              "    .dataframe tbody tr th {\n",
              "        vertical-align: top;\n",
              "    }\n",
              "\n",
              "    .dataframe thead th {\n",
              "        text-align: right;\n",
              "    }\n",
              "</style>\n",
              "<table border=\"1\" class=\"dataframe\">\n",
              "  <thead>\n",
              "    <tr style=\"text-align: right;\">\n",
              "      <th></th>\n",
              "      <th>Index</th>\n",
              "      <th>Open</th>\n",
              "      <th>High</th>\n",
              "      <th>Low</th>\n",
              "      <th>Close</th>\n",
              "      <th>Adj Close</th>\n",
              "      <th>Volume</th>\n",
              "      <th>CloseUSD</th>\n",
              "    </tr>\n",
              "    <tr>\n",
              "      <th>Date</th>\n",
              "      <th></th>\n",
              "      <th></th>\n",
              "      <th></th>\n",
              "      <th></th>\n",
              "      <th></th>\n",
              "      <th></th>\n",
              "      <th></th>\n",
              "      <th></th>\n",
              "    </tr>\n",
              "  </thead>\n",
              "  <tbody>\n",
              "    <tr>\n",
              "      <th>1965-01-05</th>\n",
              "      <td>N225</td>\n",
              "      <td>1257.719971</td>\n",
              "      <td>1257.719971</td>\n",
              "      <td>1257.719971</td>\n",
              "      <td>1257.719971</td>\n",
              "      <td>1257.719971</td>\n",
              "      <td>0.0</td>\n",
              "      <td>12.577200</td>\n",
              "    </tr>\n",
              "    <tr>\n",
              "      <th>1965-01-06</th>\n",
              "      <td>N225</td>\n",
              "      <td>1263.989990</td>\n",
              "      <td>1263.989990</td>\n",
              "      <td>1263.989990</td>\n",
              "      <td>1263.989990</td>\n",
              "      <td>1263.989990</td>\n",
              "      <td>0.0</td>\n",
              "      <td>12.639900</td>\n",
              "    </tr>\n",
              "    <tr>\n",
              "      <th>1965-01-07</th>\n",
              "      <td>N225</td>\n",
              "      <td>1274.270020</td>\n",
              "      <td>1274.270020</td>\n",
              "      <td>1274.270020</td>\n",
              "      <td>1274.270020</td>\n",
              "      <td>1274.270020</td>\n",
              "      <td>0.0</td>\n",
              "      <td>12.742700</td>\n",
              "    </tr>\n",
              "    <tr>\n",
              "      <th>1965-01-08</th>\n",
              "      <td>N225</td>\n",
              "      <td>1286.430054</td>\n",
              "      <td>1286.430054</td>\n",
              "      <td>1286.430054</td>\n",
              "      <td>1286.430054</td>\n",
              "      <td>1286.430054</td>\n",
              "      <td>0.0</td>\n",
              "      <td>12.864301</td>\n",
              "    </tr>\n",
              "    <tr>\n",
              "      <th>1965-01-12</th>\n",
              "      <td>N225</td>\n",
              "      <td>1288.540039</td>\n",
              "      <td>1288.540039</td>\n",
              "      <td>1288.540039</td>\n",
              "      <td>1288.540039</td>\n",
              "      <td>1288.540039</td>\n",
              "      <td>0.0</td>\n",
              "      <td>12.885400</td>\n",
              "    </tr>\n",
              "  </tbody>\n",
              "</table>\n",
              "</div>"
            ],
            "text/plain": [
              "           Index         Open         High  ...    Adj Close  Volume   CloseUSD\n",
              "Date                                        ...                                \n",
              "1965-01-05  N225  1257.719971  1257.719971  ...  1257.719971     0.0  12.577200\n",
              "1965-01-06  N225  1263.989990  1263.989990  ...  1263.989990     0.0  12.639900\n",
              "1965-01-07  N225  1274.270020  1274.270020  ...  1274.270020     0.0  12.742700\n",
              "1965-01-08  N225  1286.430054  1286.430054  ...  1286.430054     0.0  12.864301\n",
              "1965-01-12  N225  1288.540039  1288.540039  ...  1288.540039     0.0  12.885400\n",
              "\n",
              "[5 rows x 8 columns]"
            ]
          },
          "metadata": {},
          "execution_count": 23
        }
      ]
    },
    {
      "cell_type": "code",
      "metadata": {
        "colab": {
          "base_uri": "https://localhost:8080/",
          "height": 269
        },
        "id": "UvFpD5XhUZrL",
        "outputId": "3af72663-a94b-4c21-e199-7398e65ae067"
      },
      "source": [
        "EN225=N225.drop(columns=['Open','High','Low','Close','Adj Close'])\n",
        "EN225.head(6)"
      ],
      "execution_count": null,
      "outputs": [
        {
          "output_type": "execute_result",
          "data": {
            "text/html": [
              "<div>\n",
              "<style scoped>\n",
              "    .dataframe tbody tr th:only-of-type {\n",
              "        vertical-align: middle;\n",
              "    }\n",
              "\n",
              "    .dataframe tbody tr th {\n",
              "        vertical-align: top;\n",
              "    }\n",
              "\n",
              "    .dataframe thead th {\n",
              "        text-align: right;\n",
              "    }\n",
              "</style>\n",
              "<table border=\"1\" class=\"dataframe\">\n",
              "  <thead>\n",
              "    <tr style=\"text-align: right;\">\n",
              "      <th></th>\n",
              "      <th>Index</th>\n",
              "      <th>Volume</th>\n",
              "      <th>CloseUSD</th>\n",
              "    </tr>\n",
              "    <tr>\n",
              "      <th>Date</th>\n",
              "      <th></th>\n",
              "      <th></th>\n",
              "      <th></th>\n",
              "    </tr>\n",
              "  </thead>\n",
              "  <tbody>\n",
              "    <tr>\n",
              "      <th>1965-01-05</th>\n",
              "      <td>N225</td>\n",
              "      <td>0.0</td>\n",
              "      <td>12.577200</td>\n",
              "    </tr>\n",
              "    <tr>\n",
              "      <th>1965-01-06</th>\n",
              "      <td>N225</td>\n",
              "      <td>0.0</td>\n",
              "      <td>12.639900</td>\n",
              "    </tr>\n",
              "    <tr>\n",
              "      <th>1965-01-07</th>\n",
              "      <td>N225</td>\n",
              "      <td>0.0</td>\n",
              "      <td>12.742700</td>\n",
              "    </tr>\n",
              "    <tr>\n",
              "      <th>1965-01-08</th>\n",
              "      <td>N225</td>\n",
              "      <td>0.0</td>\n",
              "      <td>12.864301</td>\n",
              "    </tr>\n",
              "    <tr>\n",
              "      <th>1965-01-12</th>\n",
              "      <td>N225</td>\n",
              "      <td>0.0</td>\n",
              "      <td>12.885400</td>\n",
              "    </tr>\n",
              "    <tr>\n",
              "      <th>1965-01-13</th>\n",
              "      <td>N225</td>\n",
              "      <td>0.0</td>\n",
              "      <td>12.816700</td>\n",
              "    </tr>\n",
              "  </tbody>\n",
              "</table>\n",
              "</div>"
            ],
            "text/plain": [
              "           Index  Volume   CloseUSD\n",
              "Date                               \n",
              "1965-01-05  N225     0.0  12.577200\n",
              "1965-01-06  N225     0.0  12.639900\n",
              "1965-01-07  N225     0.0  12.742700\n",
              "1965-01-08  N225     0.0  12.864301\n",
              "1965-01-12  N225     0.0  12.885400\n",
              "1965-01-13  N225     0.0  12.816700"
            ]
          },
          "metadata": {},
          "execution_count": 24
        }
      ]
    },
    {
      "cell_type": "code",
      "metadata": {
        "colab": {
          "base_uri": "https://localhost:8080/",
          "height": 238
        },
        "id": "H0v6mSTCUiya",
        "outputId": "b218efe8-7f91-4f49-e4a1-5792c3967f81"
      },
      "source": [
        "N2P = EN225['2020-01-01':'2021-01-01']\n",
        "N2P.head()"
      ],
      "execution_count": null,
      "outputs": [
        {
          "output_type": "execute_result",
          "data": {
            "text/html": [
              "<div>\n",
              "<style scoped>\n",
              "    .dataframe tbody tr th:only-of-type {\n",
              "        vertical-align: middle;\n",
              "    }\n",
              "\n",
              "    .dataframe tbody tr th {\n",
              "        vertical-align: top;\n",
              "    }\n",
              "\n",
              "    .dataframe thead th {\n",
              "        text-align: right;\n",
              "    }\n",
              "</style>\n",
              "<table border=\"1\" class=\"dataframe\">\n",
              "  <thead>\n",
              "    <tr style=\"text-align: right;\">\n",
              "      <th></th>\n",
              "      <th>Index</th>\n",
              "      <th>Volume</th>\n",
              "      <th>CloseUSD</th>\n",
              "    </tr>\n",
              "    <tr>\n",
              "      <th>Date</th>\n",
              "      <th></th>\n",
              "      <th></th>\n",
              "      <th></th>\n",
              "    </tr>\n",
              "  </thead>\n",
              "  <tbody>\n",
              "    <tr>\n",
              "      <th>2020-01-06</th>\n",
              "      <td>N225</td>\n",
              "      <td>72800000.0</td>\n",
              "      <td>232.048594</td>\n",
              "    </tr>\n",
              "    <tr>\n",
              "      <th>2020-01-07</th>\n",
              "      <td>N225</td>\n",
              "      <td>64300000.0</td>\n",
              "      <td>235.757207</td>\n",
              "    </tr>\n",
              "    <tr>\n",
              "      <th>2020-01-08</th>\n",
              "      <td>N225</td>\n",
              "      <td>79400000.0</td>\n",
              "      <td>232.047598</td>\n",
              "    </tr>\n",
              "    <tr>\n",
              "      <th>2020-01-09</th>\n",
              "      <td>N225</td>\n",
              "      <td>62200000.0</td>\n",
              "      <td>237.398691</td>\n",
              "    </tr>\n",
              "    <tr>\n",
              "      <th>2020-01-10</th>\n",
              "      <td>N225</td>\n",
              "      <td>55900000.0</td>\n",
              "      <td>238.505703</td>\n",
              "    </tr>\n",
              "  </tbody>\n",
              "</table>\n",
              "</div>"
            ],
            "text/plain": [
              "           Index      Volume    CloseUSD\n",
              "Date                                    \n",
              "2020-01-06  N225  72800000.0  232.048594\n",
              "2020-01-07  N225  64300000.0  235.757207\n",
              "2020-01-08  N225  79400000.0  232.047598\n",
              "2020-01-09  N225  62200000.0  237.398691\n",
              "2020-01-10  N225  55900000.0  238.505703"
            ]
          },
          "metadata": {},
          "execution_count": 26
        }
      ]
    },
    {
      "cell_type": "code",
      "metadata": {
        "colab": {
          "base_uri": "https://localhost:8080/",
          "height": 424
        },
        "id": "CRL6PO5hU392",
        "outputId": "fc130398-1dc5-4e88-9770-8e7c1033057b"
      },
      "source": [
        "N2P.reset_index()"
      ],
      "execution_count": null,
      "outputs": [
        {
          "output_type": "execute_result",
          "data": {
            "text/html": [
              "<div>\n",
              "<style scoped>\n",
              "    .dataframe tbody tr th:only-of-type {\n",
              "        vertical-align: middle;\n",
              "    }\n",
              "\n",
              "    .dataframe tbody tr th {\n",
              "        vertical-align: top;\n",
              "    }\n",
              "\n",
              "    .dataframe thead th {\n",
              "        text-align: right;\n",
              "    }\n",
              "</style>\n",
              "<table border=\"1\" class=\"dataframe\">\n",
              "  <thead>\n",
              "    <tr style=\"text-align: right;\">\n",
              "      <th></th>\n",
              "      <th>Date</th>\n",
              "      <th>Index</th>\n",
              "      <th>Volume</th>\n",
              "      <th>CloseUSD</th>\n",
              "    </tr>\n",
              "  </thead>\n",
              "  <tbody>\n",
              "    <tr>\n",
              "      <th>0</th>\n",
              "      <td>2020-01-06</td>\n",
              "      <td>N225</td>\n",
              "      <td>72800000.0</td>\n",
              "      <td>232.048594</td>\n",
              "    </tr>\n",
              "    <tr>\n",
              "      <th>1</th>\n",
              "      <td>2020-01-07</td>\n",
              "      <td>N225</td>\n",
              "      <td>64300000.0</td>\n",
              "      <td>235.757207</td>\n",
              "    </tr>\n",
              "    <tr>\n",
              "      <th>2</th>\n",
              "      <td>2020-01-08</td>\n",
              "      <td>N225</td>\n",
              "      <td>79400000.0</td>\n",
              "      <td>232.047598</td>\n",
              "    </tr>\n",
              "    <tr>\n",
              "      <th>3</th>\n",
              "      <td>2020-01-09</td>\n",
              "      <td>N225</td>\n",
              "      <td>62200000.0</td>\n",
              "      <td>237.398691</td>\n",
              "    </tr>\n",
              "    <tr>\n",
              "      <th>4</th>\n",
              "      <td>2020-01-10</td>\n",
              "      <td>N225</td>\n",
              "      <td>55900000.0</td>\n",
              "      <td>238.505703</td>\n",
              "    </tr>\n",
              "    <tr>\n",
              "      <th>...</th>\n",
              "      <td>...</td>\n",
              "      <td>...</td>\n",
              "      <td>...</td>\n",
              "      <td>...</td>\n",
              "    </tr>\n",
              "    <tr>\n",
              "      <th>237</th>\n",
              "      <td>2020-12-24</td>\n",
              "      <td>N225</td>\n",
              "      <td>47900000.0</td>\n",
              "      <td>266.683496</td>\n",
              "    </tr>\n",
              "    <tr>\n",
              "      <th>238</th>\n",
              "      <td>2020-12-25</td>\n",
              "      <td>N225</td>\n",
              "      <td>33400000.0</td>\n",
              "      <td>266.566094</td>\n",
              "    </tr>\n",
              "    <tr>\n",
              "      <th>239</th>\n",
              "      <td>2020-12-28</td>\n",
              "      <td>N225</td>\n",
              "      <td>50700000.0</td>\n",
              "      <td>268.540293</td>\n",
              "    </tr>\n",
              "    <tr>\n",
              "      <th>240</th>\n",
              "      <td>2020-12-29</td>\n",
              "      <td>N225</td>\n",
              "      <td>59400000.0</td>\n",
              "      <td>275.681504</td>\n",
              "    </tr>\n",
              "    <tr>\n",
              "      <th>241</th>\n",
              "      <td>2020-12-30</td>\n",
              "      <td>N225</td>\n",
              "      <td>50600000.0</td>\n",
              "      <td>274.441699</td>\n",
              "    </tr>\n",
              "  </tbody>\n",
              "</table>\n",
              "<p>242 rows × 4 columns</p>\n",
              "</div>"
            ],
            "text/plain": [
              "          Date Index      Volume    CloseUSD\n",
              "0   2020-01-06  N225  72800000.0  232.048594\n",
              "1   2020-01-07  N225  64300000.0  235.757207\n",
              "2   2020-01-08  N225  79400000.0  232.047598\n",
              "3   2020-01-09  N225  62200000.0  237.398691\n",
              "4   2020-01-10  N225  55900000.0  238.505703\n",
              "..         ...   ...         ...         ...\n",
              "237 2020-12-24  N225  47900000.0  266.683496\n",
              "238 2020-12-25  N225  33400000.0  266.566094\n",
              "239 2020-12-28  N225  50700000.0  268.540293\n",
              "240 2020-12-29  N225  59400000.0  275.681504\n",
              "241 2020-12-30  N225  50600000.0  274.441699\n",
              "\n",
              "[242 rows x 4 columns]"
            ]
          },
          "metadata": {},
          "execution_count": 27
        }
      ]
    },
    {
      "cell_type": "code",
      "metadata": {
        "colab": {
          "base_uri": "https://localhost:8080/",
          "height": 298
        },
        "id": "IsYB-_nGVAMB",
        "outputId": "8f099e3a-45d9-46ef-f36f-ee1c63624833"
      },
      "source": [
        "N2P.reset_index().plot.scatter(x='Date', y='CloseUSD')"
      ],
      "execution_count": null,
      "outputs": [
        {
          "output_type": "execute_result",
          "data": {
            "text/plain": [
              "<matplotlib.axes._subplots.AxesSubplot at 0x7f701b9ed790>"
            ]
          },
          "metadata": {},
          "execution_count": 29
        },
        {
          "output_type": "display_data",
          "data": {
            "image/png": "[encoded data removed]",
            "text/plain": [
              "<Figure size 432x288 with 1 Axes>"
            ]
          },
          "metadata": {
            "needs_background": "light"
          }
        }
      ]
    },
    {
      "cell_type": "markdown",
      "metadata": {
        "id": "p7_DMVSOVUni"
      },
      "source": [
        "Comparando la gráfica de dispersión del índice N225 de Japón del año 2020 con la del NYA podemos apreciar que son bastante similares, esto debido a que ambos mercados se vieron afectados por la pandemia. Si revisaramos todos los índices disponibles en la base probablemente encontraríamos la misma situación. "
      ]
    },
    {
      "cell_type": "code",
      "metadata": {
        "colab": {
          "base_uri": "https://localhost:8080/",
          "height": 590
        },
        "id": "oPHAUQlyaeD_",
        "outputId": "929b8cf7-1a99-46c9-c8bc-0adaad65a217"
      },
      "source": [
        "#Comparación\n",
        "IPP.reset_index().plot.scatter(x='Date', y='CloseUSD')\n",
        "plt.title(\"NYA\")\n",
        "N2P.reset_index().plot.scatter(x='Date', y='CloseUSD')\n",
        "plt.title(\"N225\")"
      ],
      "execution_count": null,
      "outputs": [
        {
          "output_type": "execute_result",
          "data": {
            "text/plain": [
              "Text(0.5, 1.0, 'N225')"
            ]
          },
          "metadata": {},
          "execution_count": 47
        },
        {
          "output_type": "display_data",
          "data": {
            "image/png": "[encoded data removed]",
            "text/plain": [
              "<Figure size 432x288 with 1 Axes>"
            ]
          },
          "metadata": {
            "needs_background": "light"
          }
        },
        {
          "output_type": "display_data",
          "data": {
            "image/png": "[encoded data removed]",
            "text/plain": [
              "<Figure size 432x288 with 1 Axes>"
            ]
          },
          "metadata": {
            "needs_background": "light"
          }
        }
      ]
    },
    {
      "cell_type": "code",
      "metadata": {
        "colab": {
          "base_uri": "https://localhost:8080/",
          "height": 238
        },
        "id": "uDMaKJgHDnCX",
        "outputId": "be78538f-29ef-4a25-83fd-9d804f3c475c"
      },
      "source": [
        "TI=NNIP[(NNIP[\"Index\"]==\"NYA\") | (NNIP[\"Index\"]==\"N225\")| (NNIP[\"Index\"]==\"HSI\") | (NNIP[\"Index\"]==\"IXIC\") | (NNIP[\"Index\"]==\"GSPTSE\")]\n",
        "TI.head()"
      ],
      "execution_count": null,
      "outputs": [
        {
          "output_type": "execute_result",
          "data": {
            "text/html": [
              "<div>\n",
              "<style scoped>\n",
              "    .dataframe tbody tr th:only-of-type {\n",
              "        vertical-align: middle;\n",
              "    }\n",
              "\n",
              "    .dataframe tbody tr th {\n",
              "        vertical-align: top;\n",
              "    }\n",
              "\n",
              "    .dataframe thead th {\n",
              "        text-align: right;\n",
              "    }\n",
              "</style>\n",
              "<table border=\"1\" class=\"dataframe\">\n",
              "  <thead>\n",
              "    <tr style=\"text-align: right;\">\n",
              "      <th></th>\n",
              "      <th>Index</th>\n",
              "      <th>Open</th>\n",
              "      <th>High</th>\n",
              "      <th>Low</th>\n",
              "      <th>Close</th>\n",
              "      <th>Adj Close</th>\n",
              "      <th>Volume</th>\n",
              "      <th>CloseUSD</th>\n",
              "    </tr>\n",
              "    <tr>\n",
              "      <th>Date</th>\n",
              "      <th></th>\n",
              "      <th></th>\n",
              "      <th></th>\n",
              "      <th></th>\n",
              "      <th></th>\n",
              "      <th></th>\n",
              "      <th></th>\n",
              "      <th></th>\n",
              "    </tr>\n",
              "  </thead>\n",
              "  <tbody>\n",
              "    <tr>\n",
              "      <th>1986-12-31</th>\n",
              "      <td>HSI</td>\n",
              "      <td>2568.300049</td>\n",
              "      <td>2568.300049</td>\n",
              "      <td>2568.300049</td>\n",
              "      <td>2568.300049</td>\n",
              "      <td>2568.300049</td>\n",
              "      <td>0.0</td>\n",
              "      <td>333.879006</td>\n",
              "    </tr>\n",
              "    <tr>\n",
              "      <th>1987-01-02</th>\n",
              "      <td>HSI</td>\n",
              "      <td>2540.100098</td>\n",
              "      <td>2540.100098</td>\n",
              "      <td>2540.100098</td>\n",
              "      <td>2540.100098</td>\n",
              "      <td>2540.100098</td>\n",
              "      <td>0.0</td>\n",
              "      <td>330.213013</td>\n",
              "    </tr>\n",
              "    <tr>\n",
              "      <th>1987-01-05</th>\n",
              "      <td>HSI</td>\n",
              "      <td>2552.399902</td>\n",
              "      <td>2552.399902</td>\n",
              "      <td>2552.399902</td>\n",
              "      <td>2552.399902</td>\n",
              "      <td>2552.399902</td>\n",
              "      <td>0.0</td>\n",
              "      <td>331.811987</td>\n",
              "    </tr>\n",
              "    <tr>\n",
              "      <th>1987-01-06</th>\n",
              "      <td>HSI</td>\n",
              "      <td>2583.899902</td>\n",
              "      <td>2583.899902</td>\n",
              "      <td>2583.899902</td>\n",
              "      <td>2583.899902</td>\n",
              "      <td>2583.899902</td>\n",
              "      <td>0.0</td>\n",
              "      <td>335.906987</td>\n",
              "    </tr>\n",
              "    <tr>\n",
              "      <th>1987-01-07</th>\n",
              "      <td>HSI</td>\n",
              "      <td>2607.100098</td>\n",
              "      <td>2607.100098</td>\n",
              "      <td>2607.100098</td>\n",
              "      <td>2607.100098</td>\n",
              "      <td>2607.100098</td>\n",
              "      <td>0.0</td>\n",
              "      <td>338.923013</td>\n",
              "    </tr>\n",
              "  </tbody>\n",
              "</table>\n",
              "</div>"
            ],
            "text/plain": [
              "           Index         Open         High  ...    Adj Close  Volume    CloseUSD\n",
              "Date                                        ...                                 \n",
              "1986-12-31   HSI  2568.300049  2568.300049  ...  2568.300049     0.0  333.879006\n",
              "1987-01-02   HSI  2540.100098  2540.100098  ...  2540.100098     0.0  330.213013\n",
              "1987-01-05   HSI  2552.399902  2552.399902  ...  2552.399902     0.0  331.811987\n",
              "1987-01-06   HSI  2583.899902  2583.899902  ...  2583.899902     0.0  335.906987\n",
              "1987-01-07   HSI  2607.100098  2607.100098  ...  2607.100098     0.0  338.923013\n",
              "\n",
              "[5 rows x 8 columns]"
            ]
          },
          "metadata": {},
          "execution_count": 63
        }
      ]
    },
    {
      "cell_type": "code",
      "metadata": {
        "colab": {
          "base_uri": "https://localhost:8080/",
          "height": 238
        },
        "id": "S6N6ekslDzRO",
        "outputId": "397b107e-6257-4b46-8853-d0e7d13d394c"
      },
      "source": [
        "NTI=TI.drop(columns=['Open','High','Low','Close','Adj Close'])\n",
        "NTI.head()"
      ],
      "execution_count": null,
      "outputs": [
        {
          "output_type": "execute_result",
          "data": {
            "text/html": [
              "<div>\n",
              "<style scoped>\n",
              "    .dataframe tbody tr th:only-of-type {\n",
              "        vertical-align: middle;\n",
              "    }\n",
              "\n",
              "    .dataframe tbody tr th {\n",
              "        vertical-align: top;\n",
              "    }\n",
              "\n",
              "    .dataframe thead th {\n",
              "        text-align: right;\n",
              "    }\n",
              "</style>\n",
              "<table border=\"1\" class=\"dataframe\">\n",
              "  <thead>\n",
              "    <tr style=\"text-align: right;\">\n",
              "      <th></th>\n",
              "      <th>Index</th>\n",
              "      <th>Volume</th>\n",
              "      <th>CloseUSD</th>\n",
              "    </tr>\n",
              "    <tr>\n",
              "      <th>Date</th>\n",
              "      <th></th>\n",
              "      <th></th>\n",
              "      <th></th>\n",
              "    </tr>\n",
              "  </thead>\n",
              "  <tbody>\n",
              "    <tr>\n",
              "      <th>1986-12-31</th>\n",
              "      <td>HSI</td>\n",
              "      <td>0.0</td>\n",
              "      <td>333.879006</td>\n",
              "    </tr>\n",
              "    <tr>\n",
              "      <th>1987-01-02</th>\n",
              "      <td>HSI</td>\n",
              "      <td>0.0</td>\n",
              "      <td>330.213013</td>\n",
              "    </tr>\n",
              "    <tr>\n",
              "      <th>1987-01-05</th>\n",
              "      <td>HSI</td>\n",
              "      <td>0.0</td>\n",
              "      <td>331.811987</td>\n",
              "    </tr>\n",
              "    <tr>\n",
              "      <th>1987-01-06</th>\n",
              "      <td>HSI</td>\n",
              "      <td>0.0</td>\n",
              "      <td>335.906987</td>\n",
              "    </tr>\n",
              "    <tr>\n",
              "      <th>1987-01-07</th>\n",
              "      <td>HSI</td>\n",
              "      <td>0.0</td>\n",
              "      <td>338.923013</td>\n",
              "    </tr>\n",
              "  </tbody>\n",
              "</table>\n",
              "</div>"
            ],
            "text/plain": [
              "           Index  Volume    CloseUSD\n",
              "Date                                \n",
              "1986-12-31   HSI     0.0  333.879006\n",
              "1987-01-02   HSI     0.0  330.213013\n",
              "1987-01-05   HSI     0.0  331.811987\n",
              "1987-01-06   HSI     0.0  335.906987\n",
              "1987-01-07   HSI     0.0  338.923013"
            ]
          },
          "metadata": {},
          "execution_count": 64
        }
      ]
    },
    {
      "cell_type": "code",
      "metadata": {
        "colab": {
          "base_uri": "https://localhost:8080/",
          "height": 296
        },
        "id": "Douc2weeJguH",
        "outputId": "1e2ebf69-df79-4132-84f6-d2dd3db15fd7"
      },
      "source": [
        "import seaborn as sns\n",
        "sns.boxplot(x='Index', y='CloseUSD', data=NTI)"
      ],
      "execution_count": null,
      "outputs": [
        {
          "output_type": "execute_result",
          "data": {
            "text/plain": [
              "<matplotlib.axes._subplots.AxesSubplot at 0x7f701c1fe8d0>"
            ]
          },
          "metadata": {},
          "execution_count": 71
        },
        {
          "output_type": "display_data",
          "data": {
            "image/png": "[encoded data removed]",
            "text/plain": [
              "<Figure size 432x288 with 1 Axes>"
            ]
          },
          "metadata": {
            "needs_background": "light"
          }
        }
      ]
    },
    {
      "cell_type": "markdown",
      "metadata": {
        "id": "bGH_EouDVvHi"
      },
      "source": [
        "Comparando los boxplot, notamos que el índice HSI es el más \"estable\" a través del tiempo por lo que sería el más facil de predecir para un futuro cercano. Esto se debe a que la mayoría de los precios de cierre se encuentran dentro de la caja provocando así que sus bigotes no sean tan largos. Por el contrario, el índice IXIC es el más \"volatil\" ya que presenta demasiados datos atípicos."
      ]
    },
    {
      "cell_type": "markdown",
      "metadata": {
        "id": "PexzGTnWNLvc"
      },
      "source": [
        "## **Conclusión General**\n",
        "\n",
        "Con los resumenes estadísticos y las gráficas de barras nos dimos cuenta que el índice NYA de la NYSE era el que tenía mayor número de observaciones en nuestra base de datos y su promedio está por encima del general. Gracias a lo anterior empezamos a tomar en cuenta el NYA para realizar comparaciones entre los índices, el cual es nuestro objetivo secundario."
      ]
    }
  ]
}