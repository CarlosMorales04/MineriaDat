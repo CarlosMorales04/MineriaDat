{
  "nbformat": 4,
  "nbformat_minor": 0,
  "metadata": {
    "colab": {
      "name": "Ej_Python_1857712.ipynb",
      "provenance": [],
      "collapsed_sections": []
    },
    "kernelspec": {
      "name": "python3",
      "display_name": "Python 3"
    },
    "language_info": {
      "name": "python"
    }
  },
  "cells": [
    {
      "cell_type": "code",
      "metadata": {
        "colab": {
          "base_uri": "https://localhost:8080/"
        },
        "id": "KUTevwwa_6Il",
        "outputId": "b89b67f5-f3f9-4fe2-f99e-82dac9844f2d"
      },
      "source": [
        "#Ejercicio 1\n",
        "mat=1857712\n",
        "print(\"Carlos de Jesus Morales Tovar,\", mat)"
      ],
      "execution_count": 17,
      "outputs": [
        {
          "output_type": "stream",
          "text": [
            "Carlos de Jesus Morales Tovar, 1857712\n"
          ],
          "name": "stdout"
        }
      ]
    },
    {
      "cell_type": "code",
      "metadata": {
        "colab": {
          "base_uri": "https://localhost:8080/"
        },
        "id": "CYk6YIvxBI0N",
        "outputId": "86d71f81-d7bd-458c-af92-872b72142ee0"
      },
      "source": [
        "#Ejercicio 2\n",
        "a = int(input(\"Introduce un número:\" ))\n",
        "b = int(input(\"Introduce otro número:\"))\n",
        "s=a+b\n",
        "r=a-b\n",
        "m=a*b\n",
        "if b==0:\n",
        "  print(\"No es posible realizar la operacion de división\")\n",
        "else:\n",
        "    d=a/b\n",
        "exp=a**b\n",
        "op=input(\"Introduzca la operación deseada +, -, *, /, ^ usando uno de los signos anteriores  \")\n",
        "if op==\"+\":\n",
        "  output=s\n",
        "  print(\"Su resultado es:\", output)\n",
        "elif op==\"-\":\n",
        "  output=r\n",
        "  print(\"Su resultado es:\", output)\n",
        "elif op==\"*\":\n",
        "  output=m\n",
        "  print(\"Su resultado es:\", output)\n",
        "elif op==\"/\":\n",
        "  output=d\n",
        "  print(\"Su resultado es:\", output)\n",
        "elif op==\"^\":\n",
        "  output=exp\n",
        "  print(\"Su resultado es:\", output)\n",
        "else:\n",
        "  print(\"la operacion no es valida\")"
      ],
      "execution_count": 40,
      "outputs": [
        {
          "output_type": "stream",
          "text": [
            "Introduce un número:2\n",
            "Introduce otro número:3\n",
            "Introduzca la operación deseada +, -, *, /, ^ usando uno de los signos anteriores  ^\n",
            "Su resultado es: 8\n"
          ],
          "name": "stdout"
        }
      ]
    },
    {
      "cell_type": "code",
      "metadata": {
        "colab": {
          "base_uri": "https://localhost:8080/"
        },
        "id": "73M1eU1PJt_j",
        "outputId": "5c9f6ce4-734b-417d-a0d3-b13e100a82e2"
      },
      "source": [
        "#Ejercicio 3\n",
        "#info sacada de https://docs.python.org/3/library/random.html\n",
        "import random\n",
        "#generando numeros aleatorios\n",
        "ran = [random.randrange(0,100,3), random.randrange(0,100,3), random.randrange(0,100,3), random.randrange(0,100,3), random.randrange(0,100,3), random.randrange(0,100,3), random.randrange(0,100,3), random.randrange(0,100,3), random.randrange(0,100,3), random.randrange(0,100,3)] \n",
        "i=0\n",
        "suma=0\n",
        "#sumando los num. aleatorios\n",
        "while i<10:\n",
        "  suma=suma+ran[i]\n",
        "  i=i+1\n",
        "print(suma)"
      ],
      "execution_count": 87,
      "outputs": [
        {
          "output_type": "stream",
          "text": [
            "492\n"
          ],
          "name": "stdout"
        }
      ]
    },
    {
      "cell_type": "code",
      "metadata": {
        "colab": {
          "base_uri": "https://localhost:8080/"
        },
        "id": "k5QbsSJCWDrd",
        "outputId": "ad3474ad-4c51-4fce-cb1d-31e9a3dfe7c0"
      },
      "source": [
        "#Ejercicio 4\n",
        "a = int(input(\"Introduce un numero: \"))\n",
        "if a % 2 == 0:\n",
        "    print(\"El número es par\")\n",
        "else:\n",
        "    print(\"El número es impar\")\n",
        "\n",
        "#numero primo\n",
        "if a > 1:\n",
        "   for i in range(2,a):\n",
        "       if (a % i) == 0:\n",
        "           print(a,\"no es numero primo\")\n",
        "           break\n",
        "   else:\n",
        "       print(a,\"es numero primo\")\n",
        "       \n",
        "#si el numero es menor o igual a 1 no es primo\n",
        "else:\n",
        "   print(a,\"no es numero primo\")"
      ],
      "execution_count": 99,
      "outputs": [
        {
          "output_type": "stream",
          "text": [
            "Introduce un numero: 4\n",
            "El número es par\n",
            "4 no es numero primo\n"
          ],
          "name": "stdout"
        }
      ]
    },
    {
      "cell_type": "code",
      "metadata": {
        "colab": {
          "base_uri": "https://localhost:8080/"
        },
        "id": "7BXXGUg0YgCa",
        "outputId": "9cb9a4be-4329-4bca-aeca-c10c28772659"
      },
      "source": [
        "#Ejercicio 5\n",
        "#Utilizando diferentes clases en python, crea una calculadora con los operadores básicos de suma, resta, multiplicación, división, y exponente\n",
        "a = int(input(\"Introduce un número:\" ))\n",
        "b = int(input(\"Introduce otro número:\"))\n",
        "op=input(\"Introduzca la operación deseada +, -, *, /, ^ usando uno de los signos anteriores  \")\n",
        "class suma:\n",
        "  s=a+b\n",
        "class resta:\n",
        "  s=a-b\n",
        "class mult:\n",
        "  s=a*b\n",
        "class div:\n",
        "  s=a/b\n",
        "class exp:\n",
        "  s=a**b\n",
        "\n",
        "if op==\"+\":\n",
        "  su=suma()\n",
        "  print(\"El resultado es:\",su.s)\n",
        "elif op==\"-\":\n",
        "  re=resta()\n",
        "  print(\"El resultado es:\",re.s)\n",
        "elif op==\"*\":\n",
        "  mu=mult()\n",
        "  print(\"El resultado es:\",mu.s)\n",
        "elif op==\"/\":\n",
        "  di=div()\n",
        "  print(\"El resultado es:\",di.s)\n",
        "elif op==\"^\":\n",
        "  ex=exp()\n",
        "  print(\"El resultado es:\",ex.s)\n",
        "else:\n",
        "  print(\"la operacion no es valida\")"
      ],
      "execution_count": 125,
      "outputs": [
        {
          "output_type": "stream",
          "text": [
            "Introduce un número:2\n",
            "Introduce otro número:3\n",
            "Introduzca la operación deseada +, -, *, /, ^ usando uno de los signos anteriores  ^\n",
            "El resultado es: 8\n"
          ],
          "name": "stdout"
        }
      ]
    },
    {
      "cell_type": "code",
      "metadata": {
        "colab": {
          "base_uri": "https://localhost:8080/"
        },
        "id": "7n_v2PsFZAvH",
        "outputId": "b78e6ed3-4445-4a07-fedb-7152768821cc"
      },
      "source": [
        "#Tuplas\n",
        "#Creacion de variables\n",
        "a=2.5\n",
        "print(\"La variable a es tipo: \", type(a))\n",
        "b=3\n",
        "print(\"La variable b es tipo: \", type(b))\n",
        "c=True\n",
        "print(\"La variable c es tipo: \", type(c))\n",
        "d=3 +6j\n",
        "print(\"La variable d es tipo: \", type(d))\n",
        "\n",
        "#Crear tupla\n",
        "tup = (1,2,3,4,5)\n",
        "print(tup[0], tup[4])\n",
        "\n",
        "#Añadir 3 valores de string a la tupla\n",
        "tup = (1,2,3,4,5,\"hola\",\"mundo\",\"jeje\")\n",
        "\n",
        "#verificar si una variable existe en la tupla\n",
        "2 in (1,2,3,4,5,\"hola\",\"mundo\",\"jeje\")"
      ],
      "execution_count": 1,
      "outputs": [
        {
          "output_type": "stream",
          "text": [
            "La variable a es tipo:  <class 'float'>\n",
            "La variable b es tipo:  <class 'int'>\n",
            "La variable c es tipo:  <class 'bool'>\n",
            "La variable d es tipo:  <class 'complex'>\n",
            "1 5\n"
          ],
          "name": "stdout"
        },
        {
          "output_type": "execute_result",
          "data": {
            "text/plain": [
              "True"
            ]
          },
          "metadata": {},
          "execution_count": 1
        }
      ]
    },
    {
      "cell_type": "code",
      "metadata": {
        "colab": {
          "base_uri": "https://localhost:8080/"
        },
        "id": "4HkMZ56ulfW4",
        "outputId": "214ad220-2be5-4bd1-cf9e-d0eb95db492c"
      },
      "source": [
        "#Listas\n",
        "import random\n",
        "#Crear una lista con 40 elementos aleatorios enteros\n",
        "list1=[]\n",
        "i=0\n",
        "while i<40:\n",
        "  list1.append(random.randrange(0,100,1))\n",
        "  i=i+1\n",
        "print(list1)\n",
        "\n",
        "#Con una funcion (def) crear dos listas nuevas a partir de la lista creada por\n",
        "#numeros aleatorios, en la cual en una esten los elementos pares, y en la otra los elementos impares\n",
        "def obtener_numeros_pares(list1):\n",
        "    listapar = []\n",
        "    for numero in list1:\n",
        "        if numero % 2 == 0:\n",
        "            listapar.append(numero)\n",
        "\n",
        "    return listapar\n",
        "x = obtener_numeros_pares(list1)\n",
        "print(x)\n",
        "\n",
        "def obtener_numeros_impares(list1):\n",
        "  listaimpar = []\n",
        "  for numero in list1:\n",
        "        if numero % 2 == 1:\n",
        "            listaimpar.append(numero)\n",
        "  \n",
        "  return listaimpar\n",
        "y = obtener_numeros_impares(list1)\n",
        "print(y)\n",
        "\n",
        "\n",
        "#Crear dos variables con la longitud de ambas listas nuevas e imprimir las variables\n",
        "var1=len(x)\n",
        "print(\"Existen\",var1,\"elementos pares\")\n",
        "var2=len(y)\n",
        "print(\"Existen\",var2,\"elementos impares\")\n",
        "\n",
        "#Ordenar los elementos de la lista par de mayor a menor, y los de la lista impar de menor a mayor\n",
        "x.sort(reverse=True)\n",
        "print(x)\n",
        "y.sort()\n",
        "print(y)\n",
        "\n",
        "#Utilizar al menos cuatro de las funciones de listas en python en la lista original de 40 elementos\n",
        "list2=list1.copy()\n",
        "list2.append(101)\n",
        "list2.pop()\n",
        "list2.clear()"
      ],
      "execution_count": 65,
      "outputs": [
        {
          "output_type": "stream",
          "text": [
            "[40, 69, 14, 72, 73, 60, 3, 57, 49, 4, 99, 43, 40, 99, 63, 60, 61, 20, 64, 11, 45, 81, 10, 83, 4, 25, 81, 15, 46, 33, 38, 92, 19, 53, 78, 23, 91, 32, 48, 99]\n",
            "[40, 14, 72, 60, 4, 40, 60, 20, 64, 10, 4, 46, 38, 92, 78, 32, 48]\n",
            "[69, 73, 3, 57, 49, 99, 43, 99, 63, 61, 11, 45, 81, 83, 25, 81, 15, 33, 19, 53, 23, 91, 99]\n",
            "Existen 17 elementos pares\n",
            "Existen 23 elementos impares\n",
            "[92, 78, 72, 64, 60, 60, 48, 46, 40, 40, 38, 32, 20, 14, 10, 4, 4]\n",
            "[3, 11, 15, 19, 23, 25, 33, 43, 45, 49, 53, 57, 61, 63, 69, 73, 81, 81, 83, 91, 99, 99, 99]\n"
          ],
          "name": "stdout"
        }
      ]
    },
    {
      "cell_type": "code",
      "metadata": {
        "colab": {
          "base_uri": "https://localhost:8080/"
        },
        "id": "e2eclzwlFmYt",
        "outputId": "bd404b3f-feed-4a3e-998c-5972caaabe73"
      },
      "source": [
        "#Diccionarios\n",
        "#Crear un diccionario de 6 personas que conozcas con su primer nombre y su edad\n",
        "dicc={'Sebas':20,'Leo':19,'Erick':20,'Jesus':21,'Sofia':20,'Mario':20}\n",
        "\n",
        "#Crear una lista con los valores de la edad y reacomodar la lista de menor a mayor valor\n",
        "listadicc=list(dicc.values())\n",
        "listadicc.sort()\n",
        "print(listadicc)\n",
        "\n",
        "#Usando el diccionario y un loop, imprimir solo los nombres\n",
        "for nombre in dicc:\n",
        "  print(nombre)\n",
        "\n",
        "#Añadir dos personas nuevas a tu diccionario, incluyendo edad\n",
        "dicc['Elias'] = '23'\n",
        "dicc['Alejandra'] = '22'"
      ],
      "execution_count": 81,
      "outputs": [
        {
          "output_type": "stream",
          "text": [
            "[19, 20, 20, 20, 20, 21]\n",
            "Sebas\n",
            "Leo\n",
            "Erick\n",
            "Jesus\n",
            "Sofia\n",
            "Mario\n"
          ],
          "name": "stdout"
        }
      ]
    },
    {
      "cell_type": "code",
      "metadata": {
        "colab": {
          "base_uri": "https://localhost:8080/"
        },
        "id": "N1R5tcLqLr5V",
        "outputId": "6e2d8ee5-eaaa-4f56-ed61-75d40f489b25"
      },
      "source": [
        "#Sets\n",
        "#Crea un set con 100 numeros aleatorios enteros del 1 al 25\n",
        "import random\n",
        "s=list()\n",
        "while len(s) < 100:\n",
        "    s.append((random.randint(1,250)))\n",
        "print(s)\n",
        "f=set()\n",
        "for i in s:\n",
        "  if 0 < i < 26:\n",
        "    f.add(i)\n",
        "print(f)\n",
        "#Comprueba la longitud de tu set\n",
        "print(len(f))\n",
        "\n",
        "#Crea una lista de 5 numeros aleatorios del 1 al 10 y comprueba si cada valor aparece en el set inicial\n",
        "e=list()\n",
        "while len(e) < 5:\n",
        "    e.append((random.randint(1,10)))\n",
        "print(e)\n",
        "i=0\n",
        "while i < 5:\n",
        "  valid = e[i] in f\n",
        "  print(\"El elemento\", i, valid)\n",
        "  i=i+1"
      ],
      "execution_count": 121,
      "outputs": [
        {
          "output_type": "stream",
          "text": [
            "[127, 93, 138, 131, 16, 124, 234, 152, 218, 208, 173, 76, 224, 40, 194, 27, 73, 118, 120, 23, 219, 37, 177, 116, 104, 106, 146, 219, 220, 146, 79, 87, 8, 147, 148, 194, 237, 199, 7, 57, 231, 92, 153, 21, 44, 93, 86, 127, 105, 222, 16, 6, 68, 71, 187, 165, 49, 4, 177, 140, 201, 73, 132, 100, 166, 114, 1, 93, 134, 151, 242, 1, 20, 39, 248, 149, 222, 211, 211, 28, 148, 135, 47, 182, 88, 33, 85, 120, 161, 3, 177, 127, 41, 61, 30, 75, 248, 215, 120, 57]\n",
            "{1, 3, 4, 6, 7, 8, 16, 20, 21, 23}\n",
            "10\n",
            "[6, 6, 2, 2, 5]\n",
            "El elemento 0 True\n",
            "El elemento 1 True\n",
            "El elemento 2 False\n",
            "El elemento 3 False\n",
            "El elemento 4 False\n"
          ],
          "name": "stdout"
        }
      ]
    }
  ]
}