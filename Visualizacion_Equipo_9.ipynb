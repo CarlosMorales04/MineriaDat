{
  "nbformat": 4,
  "nbformat_minor": 0,
  "metadata": {
    "orig_nbformat": 4,
    "language_info": {
      "name": "python",
      "version": "3.9.6",
      "mimetype": "text/x-python",
      "codemirror_mode": {
        "name": "ipython",
        "version": 3
      },
      "pygments_lexer": "ipython3",
      "nbconvert_exporter": "python",
      "file_extension": ".py"
    },
    "kernelspec": {
      "name": "python3",
      "display_name": "Python 3.9.6 64-bit"
    },
    "interpreter": {
      "hash": "d0f1a46e1b8bb49f6fe66dfa14ba01e1c4ea6e7377c07a6040c9a42d856a631d"
    },
    "colab": {
      "name": "Visualizacion_Equipo_9.ipynb",
      "provenance": [],
      "collapsed_sections": [
        "fPPFfhRs4MLu",
        "MasTdr7gi55Q"
      ]
    }
  },
  "cells": [
    {
      "cell_type": "markdown",
      "metadata": {
        "id": "iQTN1nYyAIuZ"
      },
      "source": [
        "# **Práctica 2 - Visualización de datos**\n",
        "## Grupo 001 - Lunes 7-10 PM\n",
        "## Equipo 9\n",
        "+ 1842161 Torres Guerrero Saul Ángel\n",
        "+ 1844656 Maldonado Ramirez Alejandra\n",
        "+ 1857712 Morales Tovar Carlos de Jesús\n",
        "+ 1941500 Espinosa Orrante Jesús Alejandro\n",
        "+ 1857810 Rivera Castillo Saúl Andrés"
      ]
    },
    {
      "cell_type": "markdown",
      "metadata": {
        "id": "Rmu3Urm64A2U"
      },
      "source": [
        "## **Stock Exchange Data** \n",
        "URL: https://www.kaggle.com/mattiuzc/stock-exchange-data"
      ]
    },
    {
      "cell_type": "markdown",
      "metadata": {
        "id": "F6cy34xJi54i"
      },
      "source": [
        "## **Estadística básica de los datos**"
      ]
    },
    {
      "cell_type": "code",
      "metadata": {
        "id": "fgySvsxkI9Hg"
      },
      "source": [
        "import pandas as pd\n",
        "import numpy as np\n",
        "import json\n",
        "#Importando la base de datos bajo el nombre IP\n",
        "IP = pd.read_csv(\"indexProcessed.csv\", encoding='utf8')"
      ],
      "execution_count": null,
      "outputs": []
    },
    {
      "cell_type": "code",
      "metadata": {
        "colab": {
          "base_uri": "https://localhost:8080/"
        },
        "id": "yMr9AaYtJKvI",
        "outputId": "09d80aa6-bf37-4590-fd0d-da5627a0c9e3"
      },
      "source": [
        "IP.shape"
      ],
      "execution_count": null,
      "outputs": [
        {
          "output_type": "execute_result",
          "data": {
            "text/plain": [
              "(104224, 9)"
            ]
          },
          "metadata": {},
          "execution_count": 2
        }
      ]
    },
    {
      "cell_type": "code",
      "metadata": {
        "colab": {
          "base_uri": "https://localhost:8080/",
          "height": 238
        },
        "id": "-XVKlq9iKBXO",
        "outputId": "010d5e2b-75c6-45a3-a193-55d4000ef7c2"
      },
      "source": [
        "#Mostrando las primeras 6 filas de la base de datos IP para visualizar una parte de la base\n",
        "IP.head(6)"
      ],
      "execution_count": null,
      "outputs": [
        {
          "output_type": "execute_result",
          "data": {
            "text/html": [
              "<div>\n",
              "<style scoped>\n",
              "    .dataframe tbody tr th:only-of-type {\n",
              "        vertical-align: middle;\n",
              "    }\n",
              "\n",
              "    .dataframe tbody tr th {\n",
              "        vertical-align: top;\n",
              "    }\n",
              "\n",
              "    .dataframe thead th {\n",
              "        text-align: right;\n",
              "    }\n",
              "</style>\n",
              "<table border=\"1\" class=\"dataframe\">\n",
              "  <thead>\n",
              "    <tr style=\"text-align: right;\">\n",
              "      <th></th>\n",
              "      <th>Index</th>\n",
              "      <th>Date</th>\n",
              "      <th>Open</th>\n",
              "      <th>High</th>\n",
              "      <th>Low</th>\n",
              "      <th>Close</th>\n",
              "      <th>Adj Close</th>\n",
              "      <th>Volume</th>\n",
              "      <th>CloseUSD</th>\n",
              "    </tr>\n",
              "  </thead>\n",
              "  <tbody>\n",
              "    <tr>\n",
              "      <th>0</th>\n",
              "      <td>HSI</td>\n",
              "      <td>1986-12-31</td>\n",
              "      <td>2568.300049</td>\n",
              "      <td>2568.300049</td>\n",
              "      <td>2568.300049</td>\n",
              "      <td>2568.300049</td>\n",
              "      <td>2568.300049</td>\n",
              "      <td>0.0</td>\n",
              "      <td>333.879006</td>\n",
              "    </tr>\n",
              "    <tr>\n",
              "      <th>1</th>\n",
              "      <td>HSI</td>\n",
              "      <td>1987-01-02</td>\n",
              "      <td>2540.100098</td>\n",
              "      <td>2540.100098</td>\n",
              "      <td>2540.100098</td>\n",
              "      <td>2540.100098</td>\n",
              "      <td>2540.100098</td>\n",
              "      <td>0.0</td>\n",
              "      <td>330.213013</td>\n",
              "    </tr>\n",
              "    <tr>\n",
              "      <th>2</th>\n",
              "      <td>HSI</td>\n",
              "      <td>1987-01-05</td>\n",
              "      <td>2552.399902</td>\n",
              "      <td>2552.399902</td>\n",
              "      <td>2552.399902</td>\n",
              "      <td>2552.399902</td>\n",
              "      <td>2552.399902</td>\n",
              "      <td>0.0</td>\n",
              "      <td>331.811987</td>\n",
              "    </tr>\n",
              "    <tr>\n",
              "      <th>3</th>\n",
              "      <td>HSI</td>\n",
              "      <td>1987-01-06</td>\n",
              "      <td>2583.899902</td>\n",
              "      <td>2583.899902</td>\n",
              "      <td>2583.899902</td>\n",
              "      <td>2583.899902</td>\n",
              "      <td>2583.899902</td>\n",
              "      <td>0.0</td>\n",
              "      <td>335.906987</td>\n",
              "    </tr>\n",
              "    <tr>\n",
              "      <th>4</th>\n",
              "      <td>HSI</td>\n",
              "      <td>1987-01-07</td>\n",
              "      <td>2607.100098</td>\n",
              "      <td>2607.100098</td>\n",
              "      <td>2607.100098</td>\n",
              "      <td>2607.100098</td>\n",
              "      <td>2607.100098</td>\n",
              "      <td>0.0</td>\n",
              "      <td>338.923013</td>\n",
              "    </tr>\n",
              "    <tr>\n",
              "      <th>5</th>\n",
              "      <td>HSI</td>\n",
              "      <td>1987-01-08</td>\n",
              "      <td>2603.300049</td>\n",
              "      <td>2603.300049</td>\n",
              "      <td>2603.300049</td>\n",
              "      <td>2603.300049</td>\n",
              "      <td>2603.300049</td>\n",
              "      <td>0.0</td>\n",
              "      <td>338.429006</td>\n",
              "    </tr>\n",
              "  </tbody>\n",
              "</table>\n",
              "</div>"
            ],
            "text/plain": [
              "  Index        Date         Open         High          Low        Close  \\\n",
              "0   HSI  1986-12-31  2568.300049  2568.300049  2568.300049  2568.300049   \n",
              "1   HSI  1987-01-02  2540.100098  2540.100098  2540.100098  2540.100098   \n",
              "2   HSI  1987-01-05  2552.399902  2552.399902  2552.399902  2552.399902   \n",
              "3   HSI  1987-01-06  2583.899902  2583.899902  2583.899902  2583.899902   \n",
              "4   HSI  1987-01-07  2607.100098  2607.100098  2607.100098  2607.100098   \n",
              "5   HSI  1987-01-08  2603.300049  2603.300049  2603.300049  2603.300049   \n",
              "\n",
              "     Adj Close  Volume    CloseUSD  \n",
              "0  2568.300049     0.0  333.879006  \n",
              "1  2540.100098     0.0  330.213013  \n",
              "2  2552.399902     0.0  331.811987  \n",
              "3  2583.899902     0.0  335.906987  \n",
              "4  2607.100098     0.0  338.923013  \n",
              "5  2603.300049     0.0  338.429006  "
            ]
          },
          "metadata": {},
          "execution_count": 3
        }
      ]
    },
    {
      "cell_type": "code",
      "metadata": {
        "colab": {
          "base_uri": "https://localhost:8080/"
        },
        "id": "iYN_WV0UKNQW",
        "outputId": "5eb4ebab-39bc-4340-879c-7b301bbcb8c8"
      },
      "source": [
        "#Suma de todos los elementos de la columna Open(Precio de apertura)\n",
        "IP['Open'].sum()\n"
      ],
      "execution_count": null,
      "outputs": [
        {
          "output_type": "execute_result",
          "data": {
            "text/plain": [
              "835392185.868491"
            ]
          },
          "metadata": {},
          "execution_count": 4
        }
      ]
    },
    {
      "cell_type": "code",
      "metadata": {
        "colab": {
          "base_uri": "https://localhost:8080/"
        },
        "id": "k2fbMeHjLJjX",
        "outputId": "06f1981e-c18c-490b-f76a-5ab78444a83f"
      },
      "source": [
        "#Mostrar el promedio de la columna High(Precio mas alto durante el dia de negociacion)\n",
        "IP['High'].mean()"
      ],
      "execution_count": null,
      "outputs": [
        {
          "output_type": "execute_result",
          "data": {
            "text/plain": [
              "8063.324234438219"
            ]
          },
          "metadata": {},
          "execution_count": 5
        }
      ]
    },
    {
      "cell_type": "code",
      "metadata": {
        "colab": {
          "base_uri": "https://localhost:8080/"
        },
        "id": "uvQxoOfeLk6q",
        "outputId": "9bbb31a1-9286-45e3-c5e0-9e55d0f875f6"
      },
      "source": [
        "#Suma acululada del precio de cierre\n",
        "IP['CloseUSD'].cumsum()"
      ],
      "execution_count": null,
      "outputs": [
        {
          "output_type": "execute_result",
          "data": {
            "text/plain": [
              "0         3.338790e+02\n",
              "1         6.640920e+02\n",
              "2         9.959040e+02\n",
              "3         1.331811e+03\n",
              "4         1.670734e+03\n",
              "              ...     \n",
              "104219    3.175235e+08\n",
              "104220    3.175281e+08\n",
              "104221    3.175328e+08\n",
              "104222    3.175375e+08\n",
              "104223    3.175423e+08\n",
              "Name: CloseUSD, Length: 104224, dtype: float64"
            ]
          },
          "metadata": {},
          "execution_count": 6
        }
      ]
    },
    {
      "cell_type": "code",
      "metadata": {
        "colab": {
          "base_uri": "https://localhost:8080/"
        },
        "id": "nh2TOI7zL4rY",
        "outputId": "b4f887bc-847d-4476-e55c-9af1b238422c"
      },
      "source": [
        "#resumen estadistico de la columna closeUSD\n",
        "IP['CloseUSD'].describe()"
      ],
      "execution_count": null,
      "outputs": [
        {
          "output_type": "execute_result",
          "data": {
            "text/plain": [
              "count    104224.000000\n",
              "mean       3046.729177\n",
              "std        3747.865623\n",
              "min          10.204900\n",
              "25%         320.460898\n",
              "50%        1371.598486\n",
              "75%        4383.045241\n",
              "max       18934.376173\n",
              "Name: CloseUSD, dtype: float64"
            ]
          },
          "metadata": {},
          "execution_count": 7
        }
      ]
    },
    {
      "cell_type": "code",
      "metadata": {
        "colab": {
          "base_uri": "https://localhost:8080/"
        },
        "id": "Nhv8WQ9CMKO_",
        "outputId": "ce48dd44-f937-47ad-f0af-3f6b72609bc4"
      },
      "source": [
        "IP['Open'].count()"
      ],
      "execution_count": null,
      "outputs": [
        {
          "output_type": "execute_result",
          "data": {
            "text/plain": [
              "104224"
            ]
          },
          "metadata": {},
          "execution_count": 8
        }
      ]
    },
    {
      "cell_type": "code",
      "metadata": {
        "colab": {
          "base_uri": "https://localhost:8080/"
        },
        "id": "T7_hg6JJNOt1",
        "outputId": "bd2a73d6-d0ce-4b3b-ba3f-af7b6fe291b5"
      },
      "source": [
        "IP['Open'].min()"
      ],
      "execution_count": null,
      "outputs": [
        {
          "output_type": "execute_result",
          "data": {
            "text/plain": [
              "54.869999"
            ]
          },
          "metadata": {},
          "execution_count": 9
        }
      ]
    },
    {
      "cell_type": "code",
      "metadata": {
        "colab": {
          "base_uri": "https://localhost:8080/"
        },
        "id": "BTgqgZwaNVVC",
        "outputId": "63ba8bbe-54f5-4ab5-f7f8-d3ee8e7f4c95"
      },
      "source": [
        "IP['Open'].max()"
      ],
      "execution_count": null,
      "outputs": [
        {
          "output_type": "execute_result",
          "data": {
            "text/plain": [
              "68775.0625"
            ]
          },
          "metadata": {},
          "execution_count": 10
        }
      ]
    },
    {
      "cell_type": "code",
      "metadata": {
        "colab": {
          "base_uri": "https://localhost:8080/"
        },
        "id": "fi0xMLfRNalm",
        "outputId": "9137f995-58cc-42d0-dce1-ccbfa5ef417b"
      },
      "source": [
        "IP['Open'].median()"
      ],
      "execution_count": null,
      "outputs": [
        {
          "output_type": "execute_result",
          "data": {
            "text/plain": [
              "5772.1401365"
            ]
          },
          "metadata": {},
          "execution_count": 11
        }
      ]
    },
    {
      "cell_type": "code",
      "metadata": {
        "colab": {
          "base_uri": "https://localhost:8080/"
        },
        "id": "7vul8B9GNhg2",
        "outputId": "c590044d-b3a8-404c-bb12-185ac1aec3dd"
      },
      "source": [
        "IP['Open'].var()"
      ],
      "execution_count": null,
      "outputs": [
        {
          "output_type": "execute_result",
          "data": {
            "text/plain": [
              "83549899.33809762"
            ]
          },
          "metadata": {},
          "execution_count": 12
        }
      ]
    },
    {
      "cell_type": "code",
      "metadata": {
        "colab": {
          "base_uri": "https://localhost:8080/"
        },
        "id": "5b-ZwLptNmsK",
        "outputId": "e7448daa-fafb-4228-e1bc-5874f292e22e"
      },
      "source": [
        "IP['Open'].std()"
      ],
      "execution_count": null,
      "outputs": [
        {
          "output_type": "execute_result",
          "data": {
            "text/plain": [
              "9140.563403756774"
            ]
          },
          "metadata": {},
          "execution_count": 13
        }
      ]
    },
    {
      "cell_type": "code",
      "metadata": {
        "colab": {
          "base_uri": "https://localhost:8080/"
        },
        "id": "DeQYZonENr7b",
        "outputId": "e5e96f90-2f24-4ea1-a2bd-492337dcee24"
      },
      "source": [
        "IP['Open'].skew()"
      ],
      "execution_count": null,
      "outputs": [
        {
          "output_type": "execute_result",
          "data": {
            "text/plain": [
              "2.837045402781309"
            ]
          },
          "metadata": {},
          "execution_count": 14
        }
      ]
    },
    {
      "cell_type": "code",
      "metadata": {
        "colab": {
          "base_uri": "https://localhost:8080/"
        },
        "id": "meBxEcTANxxk",
        "outputId": "2eb04f4d-a766-4971-e9a1-eee08b1f54bd"
      },
      "source": [
        "IP['Open'].kurt()"
      ],
      "execution_count": null,
      "outputs": [
        {
          "output_type": "execute_result",
          "data": {
            "text/plain": [
              "10.843693455176231"
            ]
          },
          "metadata": {},
          "execution_count": 15
        }
      ]
    },
    {
      "cell_type": "code",
      "metadata": {
        "colab": {
          "base_uri": "https://localhost:8080/",
          "height": 269
        },
        "id": "iBms6zJeN3tS",
        "outputId": "f6b63fb9-6c14-4d84-96cd-29828eba0b78"
      },
      "source": [
        "IP.corr()"
      ],
      "execution_count": null,
      "outputs": [
        {
          "output_type": "execute_result",
          "data": {
            "text/html": [
              "<div>\n",
              "<style scoped>\n",
              "    .dataframe tbody tr th:only-of-type {\n",
              "        vertical-align: middle;\n",
              "    }\n",
              "\n",
              "    .dataframe tbody tr th {\n",
              "        vertical-align: top;\n",
              "    }\n",
              "\n",
              "    .dataframe thead th {\n",
              "        text-align: right;\n",
              "    }\n",
              "</style>\n",
              "<table border=\"1\" class=\"dataframe\">\n",
              "  <thead>\n",
              "    <tr style=\"text-align: right;\">\n",
              "      <th></th>\n",
              "      <th>Open</th>\n",
              "      <th>High</th>\n",
              "      <th>Low</th>\n",
              "      <th>Close</th>\n",
              "      <th>Adj Close</th>\n",
              "      <th>Volume</th>\n",
              "      <th>CloseUSD</th>\n",
              "    </tr>\n",
              "  </thead>\n",
              "  <tbody>\n",
              "    <tr>\n",
              "      <th>Open</th>\n",
              "      <td>1.000000</td>\n",
              "      <td>0.999958</td>\n",
              "      <td>0.999942</td>\n",
              "      <td>0.999904</td>\n",
              "      <td>0.999904</td>\n",
              "      <td>0.129090</td>\n",
              "      <td>0.187904</td>\n",
              "    </tr>\n",
              "    <tr>\n",
              "      <th>High</th>\n",
              "      <td>0.999958</td>\n",
              "      <td>1.000000</td>\n",
              "      <td>0.999929</td>\n",
              "      <td>0.999954</td>\n",
              "      <td>0.999954</td>\n",
              "      <td>0.128926</td>\n",
              "      <td>0.187606</td>\n",
              "    </tr>\n",
              "    <tr>\n",
              "      <th>Low</th>\n",
              "      <td>0.999942</td>\n",
              "      <td>0.999929</td>\n",
              "      <td>1.000000</td>\n",
              "      <td>0.999958</td>\n",
              "      <td>0.999958</td>\n",
              "      <td>0.128964</td>\n",
              "      <td>0.188190</td>\n",
              "    </tr>\n",
              "    <tr>\n",
              "      <th>Close</th>\n",
              "      <td>0.999904</td>\n",
              "      <td>0.999954</td>\n",
              "      <td>0.999958</td>\n",
              "      <td>1.000000</td>\n",
              "      <td>1.000000</td>\n",
              "      <td>0.128971</td>\n",
              "      <td>0.187979</td>\n",
              "    </tr>\n",
              "    <tr>\n",
              "      <th>Adj Close</th>\n",
              "      <td>0.999904</td>\n",
              "      <td>0.999954</td>\n",
              "      <td>0.999958</td>\n",
              "      <td>1.000000</td>\n",
              "      <td>1.000000</td>\n",
              "      <td>0.128976</td>\n",
              "      <td>0.187980</td>\n",
              "    </tr>\n",
              "    <tr>\n",
              "      <th>Volume</th>\n",
              "      <td>0.129090</td>\n",
              "      <td>0.128926</td>\n",
              "      <td>0.128964</td>\n",
              "      <td>0.128971</td>\n",
              "      <td>0.128976</td>\n",
              "      <td>1.000000</td>\n",
              "      <td>0.506375</td>\n",
              "    </tr>\n",
              "    <tr>\n",
              "      <th>CloseUSD</th>\n",
              "      <td>0.187904</td>\n",
              "      <td>0.187606</td>\n",
              "      <td>0.188190</td>\n",
              "      <td>0.187979</td>\n",
              "      <td>0.187980</td>\n",
              "      <td>0.506375</td>\n",
              "      <td>1.000000</td>\n",
              "    </tr>\n",
              "  </tbody>\n",
              "</table>\n",
              "</div>"
            ],
            "text/plain": [
              "               Open      High       Low     Close  Adj Close    Volume  \\\n",
              "Open       1.000000  0.999958  0.999942  0.999904   0.999904  0.129090   \n",
              "High       0.999958  1.000000  0.999929  0.999954   0.999954  0.128926   \n",
              "Low        0.999942  0.999929  1.000000  0.999958   0.999958  0.128964   \n",
              "Close      0.999904  0.999954  0.999958  1.000000   1.000000  0.128971   \n",
              "Adj Close  0.999904  0.999954  0.999958  1.000000   1.000000  0.128976   \n",
              "Volume     0.129090  0.128926  0.128964  0.128971   0.128976  1.000000   \n",
              "CloseUSD   0.187904  0.187606  0.188190  0.187979   0.187980  0.506375   \n",
              "\n",
              "           CloseUSD  \n",
              "Open       0.187904  \n",
              "High       0.187606  \n",
              "Low        0.188190  \n",
              "Close      0.187979  \n",
              "Adj Close  0.187980  \n",
              "Volume     0.506375  \n",
              "CloseUSD   1.000000  "
            ]
          },
          "metadata": {},
          "execution_count": 16
        }
      ]
    },
    {
      "cell_type": "code",
      "metadata": {
        "colab": {
          "base_uri": "https://localhost:8080/",
          "height": 269
        },
        "id": "8iItjy7iOAO2",
        "outputId": "099f0817-fe83-4465-b31f-b16def76cea3"
      },
      "source": [
        "IP.cov()"
      ],
      "execution_count": null,
      "outputs": [
        {
          "output_type": "execute_result",
          "data": {
            "text/html": [
              "<div>\n",
              "<style scoped>\n",
              "    .dataframe tbody tr th:only-of-type {\n",
              "        vertical-align: middle;\n",
              "    }\n",
              "\n",
              "    .dataframe tbody tr th {\n",
              "        vertical-align: top;\n",
              "    }\n",
              "\n",
              "    .dataframe thead th {\n",
              "        text-align: right;\n",
              "    }\n",
              "</style>\n",
              "<table border=\"1\" class=\"dataframe\">\n",
              "  <thead>\n",
              "    <tr style=\"text-align: right;\">\n",
              "      <th></th>\n",
              "      <th>Open</th>\n",
              "      <th>High</th>\n",
              "      <th>Low</th>\n",
              "      <th>Close</th>\n",
              "      <th>Adj Close</th>\n",
              "      <th>Volume</th>\n",
              "      <th>CloseUSD</th>\n",
              "    </tr>\n",
              "  </thead>\n",
              "  <tbody>\n",
              "    <tr>\n",
              "      <th>Open</th>\n",
              "      <td>8.354990e+07</td>\n",
              "      <td>8.405835e+07</td>\n",
              "      <td>8.301680e+07</td>\n",
              "      <td>8.354231e+07</td>\n",
              "      <td>8.354332e+07</td>\n",
              "      <td>5.224439e+12</td>\n",
              "      <td>6.437138e+06</td>\n",
              "    </tr>\n",
              "    <tr>\n",
              "      <th>High</th>\n",
              "      <td>8.405835e+07</td>\n",
              "      <td>8.457701e+07</td>\n",
              "      <td>8.352444e+07</td>\n",
              "      <td>8.405846e+07</td>\n",
              "      <td>8.405948e+07</td>\n",
              "      <td>5.249789e+12</td>\n",
              "      <td>6.466328e+06</td>\n",
              "    </tr>\n",
              "    <tr>\n",
              "      <th>Low</th>\n",
              "      <td>8.301680e+07</td>\n",
              "      <td>8.352444e+07</td>\n",
              "      <td>8.249667e+07</td>\n",
              "      <td>8.301858e+07</td>\n",
              "      <td>8.301959e+07</td>\n",
              "      <td>5.186334e+12</td>\n",
              "      <td>6.406185e+06</td>\n",
              "    </tr>\n",
              "    <tr>\n",
              "      <th>Close</th>\n",
              "      <td>8.354231e+07</td>\n",
              "      <td>8.405846e+07</td>\n",
              "      <td>8.301858e+07</td>\n",
              "      <td>8.355075e+07</td>\n",
              "      <td>8.355176e+07</td>\n",
              "      <td>5.219651e+12</td>\n",
              "      <td>6.439728e+06</td>\n",
              "    </tr>\n",
              "    <tr>\n",
              "      <th>Adj Close</th>\n",
              "      <td>8.354332e+07</td>\n",
              "      <td>8.405948e+07</td>\n",
              "      <td>8.301959e+07</td>\n",
              "      <td>8.355176e+07</td>\n",
              "      <td>8.355277e+07</td>\n",
              "      <td>5.219925e+12</td>\n",
              "      <td>6.439860e+06</td>\n",
              "    </tr>\n",
              "    <tr>\n",
              "      <th>Volume</th>\n",
              "      <td>5.224439e+12</td>\n",
              "      <td>5.249789e+12</td>\n",
              "      <td>5.186334e+12</td>\n",
              "      <td>5.219651e+12</td>\n",
              "      <td>5.219925e+12</td>\n",
              "      <td>1.960419e+19</td>\n",
              "      <td>8.402926e+12</td>\n",
              "    </tr>\n",
              "    <tr>\n",
              "      <th>CloseUSD</th>\n",
              "      <td>6.437138e+06</td>\n",
              "      <td>6.466328e+06</td>\n",
              "      <td>6.406185e+06</td>\n",
              "      <td>6.439728e+06</td>\n",
              "      <td>6.439860e+06</td>\n",
              "      <td>8.402926e+12</td>\n",
              "      <td>1.404650e+07</td>\n",
              "    </tr>\n",
              "  </tbody>\n",
              "</table>\n",
              "</div>"
            ],
            "text/plain": [
              "                   Open          High           Low         Close  \\\n",
              "Open       8.354990e+07  8.405835e+07  8.301680e+07  8.354231e+07   \n",
              "High       8.405835e+07  8.457701e+07  8.352444e+07  8.405846e+07   \n",
              "Low        8.301680e+07  8.352444e+07  8.249667e+07  8.301858e+07   \n",
              "Close      8.354231e+07  8.405846e+07  8.301858e+07  8.355075e+07   \n",
              "Adj Close  8.354332e+07  8.405948e+07  8.301959e+07  8.355176e+07   \n",
              "Volume     5.224439e+12  5.249789e+12  5.186334e+12  5.219651e+12   \n",
              "CloseUSD   6.437138e+06  6.466328e+06  6.406185e+06  6.439728e+06   \n",
              "\n",
              "              Adj Close        Volume      CloseUSD  \n",
              "Open       8.354332e+07  5.224439e+12  6.437138e+06  \n",
              "High       8.405948e+07  5.249789e+12  6.466328e+06  \n",
              "Low        8.301959e+07  5.186334e+12  6.406185e+06  \n",
              "Close      8.355176e+07  5.219651e+12  6.439728e+06  \n",
              "Adj Close  8.355277e+07  5.219925e+12  6.439860e+06  \n",
              "Volume     5.219925e+12  1.960419e+19  8.402926e+12  \n",
              "CloseUSD   6.439860e+06  8.402926e+12  1.404650e+07  "
            ]
          },
          "metadata": {},
          "execution_count": 17
        }
      ]
    },
    {
      "cell_type": "markdown",
      "metadata": {
        "id": "d5A7RDjei543"
      },
      "source": [
        "## **Gráficas**"
      ]
    },
    {
      "cell_type": "code",
      "metadata": {
        "colab": {
          "base_uri": "https://localhost:8080/",
          "height": 238
        },
        "id": "G_PnKQF0Jv3G",
        "outputId": "2f5b6932-048e-4e92-dd60-c2e26c2fd0d0"
      },
      "source": [
        "#Eliminando columnas redudantes (presentan la misma información)\n",
        "NIP=IP.drop(columns=['Open','High','Low','Close','Adj Close'])\n",
        "NIP.head(6)"
      ],
      "execution_count": null,
      "outputs": [
        {
          "output_type": "execute_result",
          "data": {
            "text/html": [
              "<div>\n",
              "<style scoped>\n",
              "    .dataframe tbody tr th:only-of-type {\n",
              "        vertical-align: middle;\n",
              "    }\n",
              "\n",
              "    .dataframe tbody tr th {\n",
              "        vertical-align: top;\n",
              "    }\n",
              "\n",
              "    .dataframe thead th {\n",
              "        text-align: right;\n",
              "    }\n",
              "</style>\n",
              "<table border=\"1\" class=\"dataframe\">\n",
              "  <thead>\n",
              "    <tr style=\"text-align: right;\">\n",
              "      <th></th>\n",
              "      <th>Index</th>\n",
              "      <th>Date</th>\n",
              "      <th>Volume</th>\n",
              "      <th>CloseUSD</th>\n",
              "    </tr>\n",
              "  </thead>\n",
              "  <tbody>\n",
              "    <tr>\n",
              "      <th>0</th>\n",
              "      <td>HSI</td>\n",
              "      <td>1986-12-31</td>\n",
              "      <td>0.0</td>\n",
              "      <td>333.879006</td>\n",
              "    </tr>\n",
              "    <tr>\n",
              "      <th>1</th>\n",
              "      <td>HSI</td>\n",
              "      <td>1987-01-02</td>\n",
              "      <td>0.0</td>\n",
              "      <td>330.213013</td>\n",
              "    </tr>\n",
              "    <tr>\n",
              "      <th>2</th>\n",
              "      <td>HSI</td>\n",
              "      <td>1987-01-05</td>\n",
              "      <td>0.0</td>\n",
              "      <td>331.811987</td>\n",
              "    </tr>\n",
              "    <tr>\n",
              "      <th>3</th>\n",
              "      <td>HSI</td>\n",
              "      <td>1987-01-06</td>\n",
              "      <td>0.0</td>\n",
              "      <td>335.906987</td>\n",
              "    </tr>\n",
              "    <tr>\n",
              "      <th>4</th>\n",
              "      <td>HSI</td>\n",
              "      <td>1987-01-07</td>\n",
              "      <td>0.0</td>\n",
              "      <td>338.923013</td>\n",
              "    </tr>\n",
              "    <tr>\n",
              "      <th>5</th>\n",
              "      <td>HSI</td>\n",
              "      <td>1987-01-08</td>\n",
              "      <td>0.0</td>\n",
              "      <td>338.429006</td>\n",
              "    </tr>\n",
              "  </tbody>\n",
              "</table>\n",
              "</div>"
            ],
            "text/plain": [
              "  Index        Date  Volume    CloseUSD\n",
              "0   HSI  1986-12-31     0.0  333.879006\n",
              "1   HSI  1987-01-02     0.0  330.213013\n",
              "2   HSI  1987-01-05     0.0  331.811987\n",
              "3   HSI  1987-01-06     0.0  335.906987\n",
              "4   HSI  1987-01-07     0.0  338.923013\n",
              "5   HSI  1987-01-08     0.0  338.429006"
            ]
          },
          "metadata": {},
          "execution_count": 3
        }
      ]
    },
    {
      "cell_type": "markdown",
      "metadata": {
        "id": "vbJMGz-TOr7C"
      },
      "source": [
        "### **Graficar datos univariantes.**\n",
        "### **Grafica de barras y datos categoricos:**\n"
      ]
    },
    {
      "cell_type": "code",
      "metadata": {
        "colab": {
          "base_uri": "https://localhost:8080/",
          "height": 327
        },
        "id": "mCKcmjsHMMAW",
        "outputId": "82b8ae2f-184d-44e1-870a-155d0bd8bcfc"
      },
      "source": [
        "NIP['Index'].value_counts().plot.bar()"
      ],
      "execution_count": null,
      "outputs": [
        {
          "output_type": "execute_result",
          "data": {
            "text/plain": [
              "<matplotlib.axes._subplots.AxesSubplot at 0x7f6d54b7df90>"
            ]
          },
          "metadata": {},
          "execution_count": 4
        },
        {
          "output_type": "display_data",
          "data": {
            "image/png": "[encoded data removed]",
            "text/plain": [
              "<Figure size 432x288 with 1 Axes>"
            ]
          },
          "metadata": {
            "needs_background": "light"
          }
        }
      ]
    },
    {
      "cell_type": "code",
      "metadata": {
        "colab": {
          "base_uri": "https://localhost:8080/",
          "height": 330
        },
        "id": "-Svy7W2sNTBu",
        "outputId": "75d24bcd-08ea-4170-fe1f-ad558f3992cd"
      },
      "source": [
        "(NIP['Index'].value_counts() / len(NIP)).plot.bar()"
      ],
      "execution_count": null,
      "outputs": [
        {
          "output_type": "execute_result",
          "data": {
            "text/plain": [
              "<matplotlib.axes._subplots.AxesSubplot at 0x7f6d54ab18d0>"
            ]
          },
          "metadata": {},
          "execution_count": 5
        },
        {
          "output_type": "display_data",
          "data": {
            "image/png": "[encoded data removed]",
            "text/plain": [
              "<Figure size 432x288 with 1 Axes>"
            ]
          },
          "metadata": {
            "needs_background": "light"
          }
        }
      ]
    },
    {
      "cell_type": "markdown",
      "metadata": {
        "id": "fPPFfhRs4MLu"
      },
      "source": [
        "### Las **gráficas de lineas** no se pueden realizar porque nuestra base de datos no cuenta con valores unicos que puedan estar en el eje x."
      ]
    },
    {
      "cell_type": "markdown",
      "metadata": {
        "id": "wrpuk5sc6fBu"
      },
      "source": [
        "### **Histogramas**"
      ]
    },
    {
      "cell_type": "code",
      "metadata": {
        "colab": {
          "base_uri": "https://localhost:8080/",
          "height": 282
        },
        "id": "VzNxZrdA4uQL",
        "outputId": "36dbcfd8-ef5f-430e-e9be-edca213c9661"
      },
      "source": [
        "NIP['CloseUSD'].plot.hist()"
      ],
      "execution_count": null,
      "outputs": [
        {
          "output_type": "execute_result",
          "data": {
            "text/plain": [
              "<matplotlib.axes._subplots.AxesSubplot at 0x7f6d542fe410>"
            ]
          },
          "metadata": {},
          "execution_count": 6
        },
        {
          "output_type": "display_data",
          "data": {
            "image/png": "[encoded data removed]",
            "text/plain": [
              "<Figure size 432x288 with 1 Axes>"
            ]
          },
          "metadata": {
            "needs_background": "light"
          }
        }
      ]
    },
    {
      "cell_type": "code",
      "metadata": {
        "colab": {
          "base_uri": "https://localhost:8080/",
          "height": 286
        },
        "id": "c_TvkmPXZhsq",
        "outputId": "07454b4d-7e4a-4fa0-b0f6-7cd76470b981"
      },
      "source": [
        "NIP[NIP['CloseUSD'] < 500]['CloseUSD'].plot.hist()"
      ],
      "execution_count": null,
      "outputs": [
        {
          "output_type": "execute_result",
          "data": {
            "text/plain": [
              "<matplotlib.axes._subplots.AxesSubplot at 0x7f6d54288dd0>"
            ]
          },
          "metadata": {},
          "execution_count": 7
        },
        {
          "output_type": "display_data",
          "data": {
            "image/png": "[encoded data removed]",
            "text/plain": [
              "<Figure size 432x288 with 1 Axes>"
            ]
          },
          "metadata": {
            "needs_background": "light"
          }
        }
      ]
    },
    {
      "cell_type": "markdown",
      "metadata": {
        "id": "bkIiDqTDai7A"
      },
      "source": [
        "### **Graficar datos bi-variantes.**\n",
        "### **Scatter plot**"
      ]
    },
    {
      "cell_type": "code",
      "metadata": {
        "id": "4n2rQGzj837l"
      },
      "source": [
        "NYA=NIP[NIP.Index==\"NYA\"]"
      ],
      "execution_count": null,
      "outputs": []
    },
    {
      "cell_type": "code",
      "metadata": {
        "id": "3ye8k05ECr_M"
      },
      "source": [
        "NNIP = pd.read_csv(\"indexProcessed.csv\",parse_dates=['Date'],index_col= ['Date'])"
      ],
      "execution_count": null,
      "outputs": []
    },
    {
      "cell_type": "code",
      "metadata": {
        "colab": {
          "base_uri": "https://localhost:8080/",
          "height": 238
        },
        "id": "mzFCFEdBDonh",
        "outputId": "d3d2c161-5476-4c78-b25d-137ddb29816a"
      },
      "source": [
        "NNYA=NNIP[NNIP.Index==\"NYA\"]\n",
        "NNYA.head(5)"
      ],
      "execution_count": null,
      "outputs": [
        {
          "output_type": "execute_result",
          "data": {
            "text/html": [
              "<div>\n",
              "<style scoped>\n",
              "    .dataframe tbody tr th:only-of-type {\n",
              "        vertical-align: middle;\n",
              "    }\n",
              "\n",
              "    .dataframe tbody tr th {\n",
              "        vertical-align: top;\n",
              "    }\n",
              "\n",
              "    .dataframe thead th {\n",
              "        text-align: right;\n",
              "    }\n",
              "</style>\n",
              "<table border=\"1\" class=\"dataframe\">\n",
              "  <thead>\n",
              "    <tr style=\"text-align: right;\">\n",
              "      <th></th>\n",
              "      <th>Index</th>\n",
              "      <th>Open</th>\n",
              "      <th>High</th>\n",
              "      <th>Low</th>\n",
              "      <th>Close</th>\n",
              "      <th>Adj Close</th>\n",
              "      <th>Volume</th>\n",
              "      <th>CloseUSD</th>\n",
              "    </tr>\n",
              "    <tr>\n",
              "      <th>Date</th>\n",
              "      <th></th>\n",
              "      <th></th>\n",
              "      <th></th>\n",
              "      <th></th>\n",
              "      <th></th>\n",
              "      <th></th>\n",
              "      <th></th>\n",
              "      <th></th>\n",
              "    </tr>\n",
              "  </thead>\n",
              "  <tbody>\n",
              "    <tr>\n",
              "      <th>1965-12-31</th>\n",
              "      <td>NYA</td>\n",
              "      <td>528.690002</td>\n",
              "      <td>528.690002</td>\n",
              "      <td>528.690002</td>\n",
              "      <td>528.690002</td>\n",
              "      <td>528.690002</td>\n",
              "      <td>0.0</td>\n",
              "      <td>528.690002</td>\n",
              "    </tr>\n",
              "    <tr>\n",
              "      <th>1966-01-03</th>\n",
              "      <td>NYA</td>\n",
              "      <td>527.210022</td>\n",
              "      <td>527.210022</td>\n",
              "      <td>527.210022</td>\n",
              "      <td>527.210022</td>\n",
              "      <td>527.210022</td>\n",
              "      <td>0.0</td>\n",
              "      <td>527.210022</td>\n",
              "    </tr>\n",
              "    <tr>\n",
              "      <th>1966-01-04</th>\n",
              "      <td>NYA</td>\n",
              "      <td>527.840027</td>\n",
              "      <td>527.840027</td>\n",
              "      <td>527.840027</td>\n",
              "      <td>527.840027</td>\n",
              "      <td>527.840027</td>\n",
              "      <td>0.0</td>\n",
              "      <td>527.840027</td>\n",
              "    </tr>\n",
              "    <tr>\n",
              "      <th>1966-01-05</th>\n",
              "      <td>NYA</td>\n",
              "      <td>531.119995</td>\n",
              "      <td>531.119995</td>\n",
              "      <td>531.119995</td>\n",
              "      <td>531.119995</td>\n",
              "      <td>531.119995</td>\n",
              "      <td>0.0</td>\n",
              "      <td>531.119995</td>\n",
              "    </tr>\n",
              "    <tr>\n",
              "      <th>1966-01-06</th>\n",
              "      <td>NYA</td>\n",
              "      <td>532.070007</td>\n",
              "      <td>532.070007</td>\n",
              "      <td>532.070007</td>\n",
              "      <td>532.070007</td>\n",
              "      <td>532.070007</td>\n",
              "      <td>0.0</td>\n",
              "      <td>532.070007</td>\n",
              "    </tr>\n",
              "  </tbody>\n",
              "</table>\n",
              "</div>"
            ],
            "text/plain": [
              "           Index        Open        High  ...   Adj Close  Volume    CloseUSD\n",
              "Date                                      ...                                \n",
              "1965-12-31   NYA  528.690002  528.690002  ...  528.690002     0.0  528.690002\n",
              "1966-01-03   NYA  527.210022  527.210022  ...  527.210022     0.0  527.210022\n",
              "1966-01-04   NYA  527.840027  527.840027  ...  527.840027     0.0  527.840027\n",
              "1966-01-05   NYA  531.119995  531.119995  ...  531.119995     0.0  531.119995\n",
              "1966-01-06   NYA  532.070007  532.070007  ...  532.070007     0.0  532.070007\n",
              "\n",
              "[5 rows x 8 columns]"
            ]
          },
          "metadata": {},
          "execution_count": 9
        }
      ]
    },
    {
      "cell_type": "code",
      "metadata": {
        "colab": {
          "base_uri": "https://localhost:8080/",
          "height": 269
        },
        "id": "AISX6Y-JEAeL",
        "outputId": "e2a99098-b14a-4e89-8c97-0f57f3e3bb70"
      },
      "source": [
        "ENYA=NNYA.drop(columns=['Open','High','Low','Close','Adj Close'])\n",
        "ENYA.head(6)"
      ],
      "execution_count": null,
      "outputs": [
        {
          "output_type": "execute_result",
          "data": {
            "text/html": [
              "<div>\n",
              "<style scoped>\n",
              "    .dataframe tbody tr th:only-of-type {\n",
              "        vertical-align: middle;\n",
              "    }\n",
              "\n",
              "    .dataframe tbody tr th {\n",
              "        vertical-align: top;\n",
              "    }\n",
              "\n",
              "    .dataframe thead th {\n",
              "        text-align: right;\n",
              "    }\n",
              "</style>\n",
              "<table border=\"1\" class=\"dataframe\">\n",
              "  <thead>\n",
              "    <tr style=\"text-align: right;\">\n",
              "      <th></th>\n",
              "      <th>Index</th>\n",
              "      <th>Volume</th>\n",
              "      <th>CloseUSD</th>\n",
              "    </tr>\n",
              "    <tr>\n",
              "      <th>Date</th>\n",
              "      <th></th>\n",
              "      <th></th>\n",
              "      <th></th>\n",
              "    </tr>\n",
              "  </thead>\n",
              "  <tbody>\n",
              "    <tr>\n",
              "      <th>1965-12-31</th>\n",
              "      <td>NYA</td>\n",
              "      <td>0.0</td>\n",
              "      <td>528.690002</td>\n",
              "    </tr>\n",
              "    <tr>\n",
              "      <th>1966-01-03</th>\n",
              "      <td>NYA</td>\n",
              "      <td>0.0</td>\n",
              "      <td>527.210022</td>\n",
              "    </tr>\n",
              "    <tr>\n",
              "      <th>1966-01-04</th>\n",
              "      <td>NYA</td>\n",
              "      <td>0.0</td>\n",
              "      <td>527.840027</td>\n",
              "    </tr>\n",
              "    <tr>\n",
              "      <th>1966-01-05</th>\n",
              "      <td>NYA</td>\n",
              "      <td>0.0</td>\n",
              "      <td>531.119995</td>\n",
              "    </tr>\n",
              "    <tr>\n",
              "      <th>1966-01-06</th>\n",
              "      <td>NYA</td>\n",
              "      <td>0.0</td>\n",
              "      <td>532.070007</td>\n",
              "    </tr>\n",
              "    <tr>\n",
              "      <th>1966-01-07</th>\n",
              "      <td>NYA</td>\n",
              "      <td>0.0</td>\n",
              "      <td>532.599976</td>\n",
              "    </tr>\n",
              "  </tbody>\n",
              "</table>\n",
              "</div>"
            ],
            "text/plain": [
              "           Index  Volume    CloseUSD\n",
              "Date                                \n",
              "1965-12-31   NYA     0.0  528.690002\n",
              "1966-01-03   NYA     0.0  527.210022\n",
              "1966-01-04   NYA     0.0  527.840027\n",
              "1966-01-05   NYA     0.0  531.119995\n",
              "1966-01-06   NYA     0.0  532.070007\n",
              "1966-01-07   NYA     0.0  532.599976"
            ]
          },
          "metadata": {},
          "execution_count": 11
        }
      ]
    },
    {
      "cell_type": "code",
      "metadata": {
        "colab": {
          "base_uri": "https://localhost:8080/",
          "height": 238
        },
        "id": "dsLT_q2ADu1U",
        "outputId": "1864d899-7c56-404d-d9b2-e2124a0c690d"
      },
      "source": [
        "IPP = ENYA['2020-01-01':'2021-01-01']\n",
        "IPP.head()"
      ],
      "execution_count": null,
      "outputs": [
        {
          "output_type": "execute_result",
          "data": {
            "text/html": [
              "<div>\n",
              "<style scoped>\n",
              "    .dataframe tbody tr th:only-of-type {\n",
              "        vertical-align: middle;\n",
              "    }\n",
              "\n",
              "    .dataframe tbody tr th {\n",
              "        vertical-align: top;\n",
              "    }\n",
              "\n",
              "    .dataframe thead th {\n",
              "        text-align: right;\n",
              "    }\n",
              "</style>\n",
              "<table border=\"1\" class=\"dataframe\">\n",
              "  <thead>\n",
              "    <tr style=\"text-align: right;\">\n",
              "      <th></th>\n",
              "      <th>Index</th>\n",
              "      <th>Volume</th>\n",
              "      <th>CloseUSD</th>\n",
              "    </tr>\n",
              "    <tr>\n",
              "      <th>Date</th>\n",
              "      <th></th>\n",
              "      <th></th>\n",
              "      <th></th>\n",
              "    </tr>\n",
              "  </thead>\n",
              "  <tbody>\n",
              "    <tr>\n",
              "      <th>2020-01-02</th>\n",
              "      <td>NYA</td>\n",
              "      <td>3.458250e+09</td>\n",
              "      <td>14002.49023</td>\n",
              "    </tr>\n",
              "    <tr>\n",
              "      <th>2020-01-03</th>\n",
              "      <td>NYA</td>\n",
              "      <td>3.461290e+09</td>\n",
              "      <td>13917.04981</td>\n",
              "    </tr>\n",
              "    <tr>\n",
              "      <th>2020-01-06</th>\n",
              "      <td>NYA</td>\n",
              "      <td>3.674070e+09</td>\n",
              "      <td>13941.79981</td>\n",
              "    </tr>\n",
              "    <tr>\n",
              "      <th>2020-01-07</th>\n",
              "      <td>NYA</td>\n",
              "      <td>3.420380e+09</td>\n",
              "      <td>13898.45020</td>\n",
              "    </tr>\n",
              "    <tr>\n",
              "      <th>2020-01-08</th>\n",
              "      <td>NYA</td>\n",
              "      <td>3.720890e+09</td>\n",
              "      <td>13934.44043</td>\n",
              "    </tr>\n",
              "  </tbody>\n",
              "</table>\n",
              "</div>"
            ],
            "text/plain": [
              "           Index        Volume     CloseUSD\n",
              "Date                                       \n",
              "2020-01-02   NYA  3.458250e+09  14002.49023\n",
              "2020-01-03   NYA  3.461290e+09  13917.04981\n",
              "2020-01-06   NYA  3.674070e+09  13941.79981\n",
              "2020-01-07   NYA  3.420380e+09  13898.45020\n",
              "2020-01-08   NYA  3.720890e+09  13934.44043"
            ]
          },
          "metadata": {},
          "execution_count": 12
        }
      ]
    },
    {
      "cell_type": "code",
      "metadata": {
        "colab": {
          "base_uri": "https://localhost:8080/",
          "height": 424
        },
        "id": "5nf-cdEyIk9-",
        "outputId": "4039851d-c4c1-4777-eddd-0cdce8e763e6"
      },
      "source": [
        "IPP.reset_index()"
      ],
      "execution_count": null,
      "outputs": [
        {
          "output_type": "execute_result",
          "data": {
            "text/html": [
              "<div>\n",
              "<style scoped>\n",
              "    .dataframe tbody tr th:only-of-type {\n",
              "        vertical-align: middle;\n",
              "    }\n",
              "\n",
              "    .dataframe tbody tr th {\n",
              "        vertical-align: top;\n",
              "    }\n",
              "\n",
              "    .dataframe thead th {\n",
              "        text-align: right;\n",
              "    }\n",
              "</style>\n",
              "<table border=\"1\" class=\"dataframe\">\n",
              "  <thead>\n",
              "    <tr style=\"text-align: right;\">\n",
              "      <th></th>\n",
              "      <th>Date</th>\n",
              "      <th>Index</th>\n",
              "      <th>Volume</th>\n",
              "      <th>CloseUSD</th>\n",
              "    </tr>\n",
              "  </thead>\n",
              "  <tbody>\n",
              "    <tr>\n",
              "      <th>0</th>\n",
              "      <td>2020-01-02</td>\n",
              "      <td>NYA</td>\n",
              "      <td>3.458250e+09</td>\n",
              "      <td>14002.49023</td>\n",
              "    </tr>\n",
              "    <tr>\n",
              "      <th>1</th>\n",
              "      <td>2020-01-03</td>\n",
              "      <td>NYA</td>\n",
              "      <td>3.461290e+09</td>\n",
              "      <td>13917.04981</td>\n",
              "    </tr>\n",
              "    <tr>\n",
              "      <th>2</th>\n",
              "      <td>2020-01-06</td>\n",
              "      <td>NYA</td>\n",
              "      <td>3.674070e+09</td>\n",
              "      <td>13941.79981</td>\n",
              "    </tr>\n",
              "    <tr>\n",
              "      <th>3</th>\n",
              "      <td>2020-01-07</td>\n",
              "      <td>NYA</td>\n",
              "      <td>3.420380e+09</td>\n",
              "      <td>13898.45020</td>\n",
              "    </tr>\n",
              "    <tr>\n",
              "      <th>4</th>\n",
              "      <td>2020-01-08</td>\n",
              "      <td>NYA</td>\n",
              "      <td>3.720890e+09</td>\n",
              "      <td>13934.44043</td>\n",
              "    </tr>\n",
              "    <tr>\n",
              "      <th>...</th>\n",
              "      <td>...</td>\n",
              "      <td>...</td>\n",
              "      <td>...</td>\n",
              "      <td>...</td>\n",
              "    </tr>\n",
              "    <tr>\n",
              "      <th>248</th>\n",
              "      <td>2020-12-24</td>\n",
              "      <td>NYA</td>\n",
              "      <td>1.885090e+09</td>\n",
              "      <td>14382.50000</td>\n",
              "    </tr>\n",
              "    <tr>\n",
              "      <th>249</th>\n",
              "      <td>2020-12-28</td>\n",
              "      <td>NYA</td>\n",
              "      <td>3.527460e+09</td>\n",
              "      <td>14405.76953</td>\n",
              "    </tr>\n",
              "    <tr>\n",
              "      <th>250</th>\n",
              "      <td>2020-12-29</td>\n",
              "      <td>NYA</td>\n",
              "      <td>3.387030e+09</td>\n",
              "      <td>14397.91992</td>\n",
              "    </tr>\n",
              "    <tr>\n",
              "      <th>251</th>\n",
              "      <td>2020-12-30</td>\n",
              "      <td>NYA</td>\n",
              "      <td>3.145200e+09</td>\n",
              "      <td>14477.48047</td>\n",
              "    </tr>\n",
              "    <tr>\n",
              "      <th>252</th>\n",
              "      <td>2020-12-31</td>\n",
              "      <td>NYA</td>\n",
              "      <td>3.172510e+09</td>\n",
              "      <td>14524.79981</td>\n",
              "    </tr>\n",
              "  </tbody>\n",
              "</table>\n",
              "<p>253 rows × 4 columns</p>\n",
              "</div>"
            ],
            "text/plain": [
              "          Date Index        Volume     CloseUSD\n",
              "0   2020-01-02   NYA  3.458250e+09  14002.49023\n",
              "1   2020-01-03   NYA  3.461290e+09  13917.04981\n",
              "2   2020-01-06   NYA  3.674070e+09  13941.79981\n",
              "3   2020-01-07   NYA  3.420380e+09  13898.45020\n",
              "4   2020-01-08   NYA  3.720890e+09  13934.44043\n",
              "..         ...   ...           ...          ...\n",
              "248 2020-12-24   NYA  1.885090e+09  14382.50000\n",
              "249 2020-12-28   NYA  3.527460e+09  14405.76953\n",
              "250 2020-12-29   NYA  3.387030e+09  14397.91992\n",
              "251 2020-12-30   NYA  3.145200e+09  14477.48047\n",
              "252 2020-12-31   NYA  3.172510e+09  14524.79981\n",
              "\n",
              "[253 rows x 4 columns]"
            ]
          },
          "metadata": {},
          "execution_count": 13
        }
      ]
    },
    {
      "cell_type": "code",
      "metadata": {
        "colab": {
          "base_uri": "https://localhost:8080/",
          "height": 296
        },
        "id": "5p9t0AwnIted",
        "outputId": "fef00380-a846-4d11-939a-609b4c00b6b0"
      },
      "source": [
        "IPP.reset_index().plot.scatter(x='Date', y='CloseUSD')"
      ],
      "execution_count": null,
      "outputs": [
        {
          "output_type": "execute_result",
          "data": {
            "text/plain": [
              "<matplotlib.axes._subplots.AxesSubplot at 0x7f6d542121d0>"
            ]
          },
          "metadata": {},
          "execution_count": 14
        },
        {
          "output_type": "display_data",
          "data": {
            "image/png": "[encoded data removed]",
            "text/plain": [
              "<Figure size 432x288 with 1 Axes>"
            ]
          },
          "metadata": {
            "needs_background": "light"
          }
        }
      ]
    },
    {
      "cell_type": "code",
      "metadata": {
        "colab": {
          "base_uri": "https://localhost:8080/",
          "height": 282
        },
        "id": "pI_EJEgFJ-Pq",
        "outputId": "678bfee9-ae3c-4ed8-82c5-cc8d952c82c9"
      },
      "source": [
        "IPP.reset_index().plot.hexbin(x='Volume', y='CloseUSD')"
      ],
      "execution_count": null,
      "outputs": [
        {
          "output_type": "execute_result",
          "data": {
            "text/plain": [
              "<matplotlib.axes._subplots.AxesSubplot at 0x7f6d54105f10>"
            ]
          },
          "metadata": {},
          "execution_count": 15
        },
        {
          "output_type": "display_data",
          "data": {
            "image/png": "[encoded data removed]",
            "text/plain": [
              "<Figure size 432x288 with 2 Axes>"
            ]
          },
          "metadata": {
            "needs_background": "light"
          }
        }
      ]
    },
    {
      "cell_type": "markdown",
      "metadata": {
        "id": "p0gsEb97i55D"
      },
      "source": [
        "### **Staked plot**"
      ]
    },
    {
      "cell_type": "code",
      "metadata": {
        "id": "wKbo1TZBi55E",
        "colab": {
          "base_uri": "https://localhost:8080/",
          "height": 402
        },
        "outputId": "8153bc9f-b20a-4386-a347-43a89e68c8bd"
      },
      "source": [
        "IPP.head(30).plot.bar(stacked=True)"
      ],
      "execution_count": null,
      "outputs": [
        {
          "output_type": "execute_result",
          "data": {
            "text/plain": [
              "<matplotlib.axes._subplots.AxesSubplot at 0x7f6d540d2850>"
            ]
          },
          "metadata": {},
          "execution_count": 16
        },
        {
          "output_type": "display_data",
          "data": {
            "image/png": "[encoded data removed]",
            "text/plain": [
              "<Figure size 432x288 with 1 Axes>"
            ]
          },
          "metadata": {
            "needs_background": "light"
          }
        }
      ]
    },
    {
      "cell_type": "code",
      "metadata": {
        "id": "Na_vDM-3i55F",
        "colab": {
          "base_uri": "https://localhost:8080/",
          "height": 391
        },
        "outputId": "d75718bd-fb61-417b-ae28-1fadec24d323"
      },
      "source": [
        "#CloseUSD de la gráfica anterior\n",
        "IPP[\"CloseUSD\"].head(30).plot.bar(stacked=True)"
      ],
      "execution_count": null,
      "outputs": [
        {
          "output_type": "execute_result",
          "data": {
            "text/plain": [
              "<matplotlib.axes._subplots.AxesSubplot at 0x7f6d53ef4850>"
            ]
          },
          "metadata": {},
          "execution_count": 17
        },
        {
          "output_type": "display_data",
          "data": {
            "image/png": "[encoded data removed]",
            "text/plain": [
              "<Figure size 432x288 with 1 Axes>"
            ]
          },
          "metadata": {
            "needs_background": "light"
          }
        }
      ]
    },
    {
      "cell_type": "code",
      "metadata": {
        "id": "06AGRpkOi55F",
        "colab": {
          "base_uri": "https://localhost:8080/",
          "height": 305
        },
        "outputId": "93596f58-ab43-45fd-93be-cba41c0decda"
      },
      "source": [
        "IPP.plot.area()"
      ],
      "execution_count": null,
      "outputs": [
        {
          "output_type": "execute_result",
          "data": {
            "text/plain": [
              "<matplotlib.axes._subplots.AxesSubplot at 0x7f6d53efc850>"
            ]
          },
          "metadata": {},
          "execution_count": 18
        },
        {
          "output_type": "display_data",
          "data": {
            "image/png": "[encoded data removed]",
            "text/plain": [
              "<Figure size 432x288 with 1 Axes>"
            ]
          },
          "metadata": {
            "needs_background": "light"
          }
        }
      ]
    },
    {
      "cell_type": "code",
      "metadata": {
        "id": "yKtc3ke_i55G",
        "colab": {
          "base_uri": "https://localhost:8080/",
          "height": 305
        },
        "outputId": "a1211b06-3c81-48ac-faa5-3f82579017b5"
      },
      "source": [
        "IPP.plot.line()"
      ],
      "execution_count": null,
      "outputs": [
        {
          "output_type": "execute_result",
          "data": {
            "text/plain": [
              "<matplotlib.axes._subplots.AxesSubplot at 0x7f6d53d8c590>"
            ]
          },
          "metadata": {},
          "execution_count": 19
        },
        {
          "output_type": "display_data",
          "data": {
            "image/png": "[encoded data removed]",
            "text/plain": [
              "<Figure size 432x288 with 1 Axes>"
            ]
          },
          "metadata": {
            "needs_background": "light"
          }
        }
      ]
    },
    {
      "cell_type": "code",
      "metadata": {
        "id": "Xdz8vTVIi55G",
        "colab": {
          "base_uri": "https://localhost:8080/",
          "height": 294
        },
        "outputId": "b0a38120-1601-4094-df02-8e91c54bfaad"
      },
      "source": [
        "#CloseUSD de la gráfica anterior\n",
        "IPP[\"CloseUSD\"].plot.line()"
      ],
      "execution_count": null,
      "outputs": [
        {
          "output_type": "execute_result",
          "data": {
            "text/plain": [
              "<matplotlib.axes._subplots.AxesSubplot at 0x7f6d5428b110>"
            ]
          },
          "metadata": {},
          "execution_count": 20
        },
        {
          "output_type": "display_data",
          "data": {
            "image/png": "[encoded data removed]",
            "text/plain": [
              "<Figure size 432x288 with 1 Axes>"
            ]
          },
          "metadata": {
            "needs_background": "light"
          }
        }
      ]
    },
    {
      "cell_type": "markdown",
      "metadata": {
        "id": "UoI73ECti55G"
      },
      "source": [
        "### **Usando libreria seaborn**"
      ]
    },
    {
      "cell_type": "code",
      "metadata": {
        "id": "N2dGWpZ0i55H",
        "colab": {
          "base_uri": "https://localhost:8080/",
          "height": 351
        },
        "outputId": "05ffdf10-0458-48e0-c9ae-a470b1e02f7b"
      },
      "source": [
        "import seaborn as sns\n",
        "T1=NIP[(NIP[\"Index\"]==\"NYA\") | (NIP[\"Index\"]==\"N225\")| (NIP[\"Index\"]==\"HSI\") | (NIP[\"Index\"]==\"IXIC\") | (NIP[\"Index\"]==\"GSPTSE\")]\n",
        "sns.countplot(T1[\"Index\"])"
      ],
      "execution_count": null,
      "outputs": [
        {
          "output_type": "stream",
          "name": "stderr",
          "text": [
            "/usr/local/lib/python3.7/dist-packages/seaborn/_decorators.py:43: FutureWarning: Pass the following variable as a keyword arg: x. From version 0.12, the only valid positional argument will be `data`, and passing other arguments without an explicit keyword will result in an error or misinterpretation.\n",
            "  FutureWarning\n"
          ]
        },
        {
          "output_type": "execute_result",
          "data": {
            "text/plain": [
              "<matplotlib.axes._subplots.AxesSubplot at 0x7f99586be610>"
            ]
          },
          "metadata": {},
          "execution_count": 37
        },
        {
          "output_type": "display_data",
          "data": {
            "image/png": "[encoded data removed]",
            "text/plain": [
              "<Figure size 432x288 with 1 Axes>"
            ]
          },
          "metadata": {
            "needs_background": "light"
          }
        }
      ]
    },
    {
      "cell_type": "code",
      "metadata": {
        "id": "UI_AfOvVi55H",
        "colab": {
          "base_uri": "https://localhost:8080/",
          "height": 296
        },
        "outputId": "ca055c40-f2b2-40b5-a44c-a6569a6b853b"
      },
      "source": [
        "sns.kdeplot(IP.CloseUSD)"
      ],
      "execution_count": null,
      "outputs": [
        {
          "output_type": "execute_result",
          "data": {
            "text/plain": [
              "<matplotlib.axes._subplots.AxesSubplot at 0x7f6d451e5c10>"
            ]
          },
          "metadata": {},
          "execution_count": 22
        },
        {
          "output_type": "display_data",
          "data": {
            "image/png": "[encoded data removed]",
            "text/plain": [
              "<Figure size 432x288 with 1 Axes>"
            ]
          },
          "metadata": {
            "needs_background": "light"
          }
        }
      ]
    },
    {
      "cell_type": "code",
      "metadata": {
        "id": "wiho6sjEi55H",
        "colab": {
          "base_uri": "https://localhost:8080/",
          "height": 282
        },
        "outputId": "56ae5a74-f30b-440c-9d90-27fadb873e22"
      },
      "source": [
        "IP[IP[\"CloseUSD\"]<5000][\"CloseUSD\"].value_counts().sort_index().plot.line()"
      ],
      "execution_count": null,
      "outputs": [
        {
          "output_type": "execute_result",
          "data": {
            "text/plain": [
              "<matplotlib.axes._subplots.AxesSubplot at 0x7f6d3a972e50>"
            ]
          },
          "metadata": {},
          "execution_count": 23
        },
        {
          "output_type": "display_data",
          "data": {
            "image/png": "[encoded data removed]",
            "text/plain": [
              "<Figure size 432x288 with 1 Axes>"
            ]
          },
          "metadata": {
            "needs_background": "light"
          }
        }
      ]
    },
    {
      "cell_type": "code",
      "metadata": {
        "id": "MBVDbmt7i55I",
        "colab": {
          "base_uri": "https://localhost:8080/",
          "height": 351
        },
        "outputId": "766c8905-b4fc-4a97-81a7-982165f25c95"
      },
      "source": [
        "sns.distplot(IP[\"CloseUSD\"], bins=10, kde=False)"
      ],
      "execution_count": null,
      "outputs": [
        {
          "output_type": "stream",
          "name": "stderr",
          "text": [
            "/usr/local/lib/python3.7/dist-packages/seaborn/distributions.py:2619: FutureWarning: `distplot` is a deprecated function and will be removed in a future version. Please adapt your code to use either `displot` (a figure-level function with similar flexibility) or `histplot` (an axes-level function for histograms).\n",
            "  warnings.warn(msg, FutureWarning)\n"
          ]
        },
        {
          "output_type": "execute_result",
          "data": {
            "text/plain": [
              "<matplotlib.axes._subplots.AxesSubplot at 0x7f6d3a8df990>"
            ]
          },
          "metadata": {},
          "execution_count": 25
        },
        {
          "output_type": "display_data",
          "data": {
            "image/png": "[encoded data removed]",
            "text/plain": [
              "<Figure size 432x288 with 1 Axes>"
            ]
          },
          "metadata": {
            "needs_background": "light"
          }
        }
      ]
    },
    {
      "cell_type": "code",
      "metadata": {
        "id": "wbnpjoj8i55J",
        "colab": {
          "base_uri": "https://localhost:8080/",
          "height": 458
        },
        "outputId": "0b0e7e98-1c4f-471c-8479-bba316c72671"
      },
      "source": [
        "sns.jointplot(x=\"CloseUSD\", y=\"Volume\", data=IPP[IPP[\"CloseUSD\"]<7000])"
      ],
      "execution_count": null,
      "outputs": [
        {
          "output_type": "execute_result",
          "data": {
            "text/plain": [
              "<seaborn.axisgrid.JointGrid at 0x7f6d3a79a7d0>"
            ]
          },
          "metadata": {},
          "execution_count": 26
        },
        {
          "output_type": "display_data",
          "data": {
            "image/png": "[encoded data removed]",
            "text/plain": [
              "<Figure size 432x432 with 3 Axes>"
            ]
          },
          "metadata": {
            "needs_background": "light"
          }
        }
      ]
    },
    {
      "cell_type": "markdown",
      "metadata": {
        "id": "iZKnmVCLi55J"
      },
      "source": [
        "### **Box plot**"
      ]
    },
    {
      "cell_type": "code",
      "metadata": {
        "id": "bvxPQW405JVB"
      },
      "source": [
        "NNIP = pd.read_csv(\"indexProcessed.csv\",parse_dates=['Date'],index_col=['Date'])"
      ],
      "execution_count": null,
      "outputs": []
    },
    {
      "cell_type": "code",
      "metadata": {
        "id": "UlrJkVXPwOHk",
        "colab": {
          "base_uri": "https://localhost:8080/",
          "height": 238
        },
        "outputId": "c648b511-d1ff-4e0e-a58b-e8fa5dceda29"
      },
      "source": [
        "TI=NNIP[(NNIP[\"Index\"]==\"NYA\") | (NNIP[\"Index\"]==\"N225\")| (NNIP[\"Index\"]==\"HSI\") | (NNIP[\"Index\"]==\"IXIC\") | (NNIP[\"Index\"]==\"GSPTSE\")]\n",
        "TI.head()"
      ],
      "execution_count": null,
      "outputs": [
        {
          "output_type": "execute_result",
          "data": {
            "text/html": [
              "<div>\n",
              "<style scoped>\n",
              "    .dataframe tbody tr th:only-of-type {\n",
              "        vertical-align: middle;\n",
              "    }\n",
              "\n",
              "    .dataframe tbody tr th {\n",
              "        vertical-align: top;\n",
              "    }\n",
              "\n",
              "    .dataframe thead th {\n",
              "        text-align: right;\n",
              "    }\n",
              "</style>\n",
              "<table border=\"1\" class=\"dataframe\">\n",
              "  <thead>\n",
              "    <tr style=\"text-align: right;\">\n",
              "      <th></th>\n",
              "      <th>Index</th>\n",
              "      <th>Open</th>\n",
              "      <th>High</th>\n",
              "      <th>Low</th>\n",
              "      <th>Close</th>\n",
              "      <th>Adj Close</th>\n",
              "      <th>Volume</th>\n",
              "      <th>CloseUSD</th>\n",
              "    </tr>\n",
              "    <tr>\n",
              "      <th>Date</th>\n",
              "      <th></th>\n",
              "      <th></th>\n",
              "      <th></th>\n",
              "      <th></th>\n",
              "      <th></th>\n",
              "      <th></th>\n",
              "      <th></th>\n",
              "      <th></th>\n",
              "    </tr>\n",
              "  </thead>\n",
              "  <tbody>\n",
              "    <tr>\n",
              "      <th>1986-12-31</th>\n",
              "      <td>HSI</td>\n",
              "      <td>2568.300049</td>\n",
              "      <td>2568.300049</td>\n",
              "      <td>2568.300049</td>\n",
              "      <td>2568.300049</td>\n",
              "      <td>2568.300049</td>\n",
              "      <td>0.0</td>\n",
              "      <td>333.879006</td>\n",
              "    </tr>\n",
              "    <tr>\n",
              "      <th>1987-01-02</th>\n",
              "      <td>HSI</td>\n",
              "      <td>2540.100098</td>\n",
              "      <td>2540.100098</td>\n",
              "      <td>2540.100098</td>\n",
              "      <td>2540.100098</td>\n",
              "      <td>2540.100098</td>\n",
              "      <td>0.0</td>\n",
              "      <td>330.213013</td>\n",
              "    </tr>\n",
              "    <tr>\n",
              "      <th>1987-01-05</th>\n",
              "      <td>HSI</td>\n",
              "      <td>2552.399902</td>\n",
              "      <td>2552.399902</td>\n",
              "      <td>2552.399902</td>\n",
              "      <td>2552.399902</td>\n",
              "      <td>2552.399902</td>\n",
              "      <td>0.0</td>\n",
              "      <td>331.811987</td>\n",
              "    </tr>\n",
              "    <tr>\n",
              "      <th>1987-01-06</th>\n",
              "      <td>HSI</td>\n",
              "      <td>2583.899902</td>\n",
              "      <td>2583.899902</td>\n",
              "      <td>2583.899902</td>\n",
              "      <td>2583.899902</td>\n",
              "      <td>2583.899902</td>\n",
              "      <td>0.0</td>\n",
              "      <td>335.906987</td>\n",
              "    </tr>\n",
              "    <tr>\n",
              "      <th>1987-01-07</th>\n",
              "      <td>HSI</td>\n",
              "      <td>2607.100098</td>\n",
              "      <td>2607.100098</td>\n",
              "      <td>2607.100098</td>\n",
              "      <td>2607.100098</td>\n",
              "      <td>2607.100098</td>\n",
              "      <td>0.0</td>\n",
              "      <td>338.923013</td>\n",
              "    </tr>\n",
              "  </tbody>\n",
              "</table>\n",
              "</div>"
            ],
            "text/plain": [
              "           Index         Open         High  ...    Adj Close  Volume    CloseUSD\n",
              "Date                                        ...                                 \n",
              "1986-12-31   HSI  2568.300049  2568.300049  ...  2568.300049     0.0  333.879006\n",
              "1987-01-02   HSI  2540.100098  2540.100098  ...  2540.100098     0.0  330.213013\n",
              "1987-01-05   HSI  2552.399902  2552.399902  ...  2552.399902     0.0  331.811987\n",
              "1987-01-06   HSI  2583.899902  2583.899902  ...  2583.899902     0.0  335.906987\n",
              "1987-01-07   HSI  2607.100098  2607.100098  ...  2607.100098     0.0  338.923013\n",
              "\n",
              "[5 rows x 8 columns]"
            ]
          },
          "metadata": {},
          "execution_count": 29
        }
      ]
    },
    {
      "cell_type": "code",
      "metadata": {
        "id": "fIlysnDQ2YAq",
        "colab": {
          "base_uri": "https://localhost:8080/",
          "height": 238
        },
        "outputId": "d49b734a-3b5f-4618-fdf7-54fd288eb42a"
      },
      "source": [
        "NTI=TI.drop(columns=['Open','High','Low','Close','Adj Close'])\n",
        "NTI.head()"
      ],
      "execution_count": null,
      "outputs": [
        {
          "output_type": "execute_result",
          "data": {
            "text/html": [
              "<div>\n",
              "<style scoped>\n",
              "    .dataframe tbody tr th:only-of-type {\n",
              "        vertical-align: middle;\n",
              "    }\n",
              "\n",
              "    .dataframe tbody tr th {\n",
              "        vertical-align: top;\n",
              "    }\n",
              "\n",
              "    .dataframe thead th {\n",
              "        text-align: right;\n",
              "    }\n",
              "</style>\n",
              "<table border=\"1\" class=\"dataframe\">\n",
              "  <thead>\n",
              "    <tr style=\"text-align: right;\">\n",
              "      <th></th>\n",
              "      <th>Index</th>\n",
              "      <th>Volume</th>\n",
              "      <th>CloseUSD</th>\n",
              "    </tr>\n",
              "    <tr>\n",
              "      <th>Date</th>\n",
              "      <th></th>\n",
              "      <th></th>\n",
              "      <th></th>\n",
              "    </tr>\n",
              "  </thead>\n",
              "  <tbody>\n",
              "    <tr>\n",
              "      <th>1986-12-31</th>\n",
              "      <td>HSI</td>\n",
              "      <td>0.0</td>\n",
              "      <td>333.879006</td>\n",
              "    </tr>\n",
              "    <tr>\n",
              "      <th>1987-01-02</th>\n",
              "      <td>HSI</td>\n",
              "      <td>0.0</td>\n",
              "      <td>330.213013</td>\n",
              "    </tr>\n",
              "    <tr>\n",
              "      <th>1987-01-05</th>\n",
              "      <td>HSI</td>\n",
              "      <td>0.0</td>\n",
              "      <td>331.811987</td>\n",
              "    </tr>\n",
              "    <tr>\n",
              "      <th>1987-01-06</th>\n",
              "      <td>HSI</td>\n",
              "      <td>0.0</td>\n",
              "      <td>335.906987</td>\n",
              "    </tr>\n",
              "    <tr>\n",
              "      <th>1987-01-07</th>\n",
              "      <td>HSI</td>\n",
              "      <td>0.0</td>\n",
              "      <td>338.923013</td>\n",
              "    </tr>\n",
              "  </tbody>\n",
              "</table>\n",
              "</div>"
            ],
            "text/plain": [
              "           Index  Volume    CloseUSD\n",
              "Date                                \n",
              "1986-12-31   HSI     0.0  333.879006\n",
              "1987-01-02   HSI     0.0  330.213013\n",
              "1987-01-05   HSI     0.0  331.811987\n",
              "1987-01-06   HSI     0.0  335.906987\n",
              "1987-01-07   HSI     0.0  338.923013"
            ]
          },
          "metadata": {},
          "execution_count": 30
        }
      ]
    },
    {
      "cell_type": "code",
      "metadata": {
        "id": "Kksngw7puKnR",
        "colab": {
          "base_uri": "https://localhost:8080/",
          "height": 296
        },
        "outputId": "8ea687da-dce2-4d4e-88e0-66e65c9e14a9"
      },
      "source": [
        "sns.boxplot(x='Index', y='CloseUSD', data=NTI)"
      ],
      "execution_count": null,
      "outputs": [
        {
          "output_type": "execute_result",
          "data": {
            "text/plain": [
              "<matplotlib.axes._subplots.AxesSubplot at 0x7f6d542185d0>"
            ]
          },
          "metadata": {},
          "execution_count": 31
        },
        {
          "output_type": "display_data",
          "data": {
            "image/png": "[encoded data removed]",
            "text/plain": [
              "<Figure size 432x288 with 1 Axes>"
            ]
          },
          "metadata": {
            "needs_background": "light"
          }
        }
      ]
    },
    {
      "cell_type": "markdown",
      "metadata": {
        "id": "UgQEeaQpuat7"
      },
      "source": [
        "(Nota: Solo se tomaron en cuenta los 5 índices con más observaciones dentro de la base)"
      ]
    },
    {
      "cell_type": "code",
      "metadata": {
        "id": "hVTDC_kCvdYH",
        "colab": {
          "base_uri": "https://localhost:8080/",
          "height": 296
        },
        "outputId": "c2b300d5-40ce-4f6e-8e3a-582a497a482d"
      },
      "source": [
        "sns.violinplot(x='Index', y='CloseUSD', data=NTI)"
      ],
      "execution_count": null,
      "outputs": [
        {
          "output_type": "execute_result",
          "data": {
            "text/plain": [
              "<matplotlib.axes._subplots.AxesSubplot at 0x7f6d3a49a6d0>"
            ]
          },
          "metadata": {},
          "execution_count": 32
        },
        {
          "output_type": "display_data",
          "data": {
            "image/png": "[encoded data removed]",
            "text/plain": [
              "<Figure size 432x288 with 1 Axes>"
            ]
          },
          "metadata": {
            "needs_background": "light"
          }
        }
      ]
    },
    {
      "cell_type": "code",
      "metadata": {
        "id": "_Tzn086YJVpn",
        "colab": {
          "base_uri": "https://localhost:8080/",
          "height": 238
        },
        "outputId": "191135e8-27e5-4409-b4ad-662c94c70858"
      },
      "source": [
        "#Solo el índice NYA enfocandonos en el periodo (2020)\n",
        "TNYA=NNIP[(NNIP[\"Index\"]==\"NYA\")]\n",
        "NNYA=TNYA.drop(columns=['Open','High','Low','Close','Adj Close'])\n",
        "NNYA.head()"
      ],
      "execution_count": null,
      "outputs": [
        {
          "output_type": "execute_result",
          "data": {
            "text/html": [
              "<div>\n",
              "<style scoped>\n",
              "    .dataframe tbody tr th:only-of-type {\n",
              "        vertical-align: middle;\n",
              "    }\n",
              "\n",
              "    .dataframe tbody tr th {\n",
              "        vertical-align: top;\n",
              "    }\n",
              "\n",
              "    .dataframe thead th {\n",
              "        text-align: right;\n",
              "    }\n",
              "</style>\n",
              "<table border=\"1\" class=\"dataframe\">\n",
              "  <thead>\n",
              "    <tr style=\"text-align: right;\">\n",
              "      <th></th>\n",
              "      <th>Index</th>\n",
              "      <th>Volume</th>\n",
              "      <th>CloseUSD</th>\n",
              "    </tr>\n",
              "    <tr>\n",
              "      <th>Date</th>\n",
              "      <th></th>\n",
              "      <th></th>\n",
              "      <th></th>\n",
              "    </tr>\n",
              "  </thead>\n",
              "  <tbody>\n",
              "    <tr>\n",
              "      <th>1965-12-31</th>\n",
              "      <td>NYA</td>\n",
              "      <td>0.0</td>\n",
              "      <td>528.690002</td>\n",
              "    </tr>\n",
              "    <tr>\n",
              "      <th>1966-01-03</th>\n",
              "      <td>NYA</td>\n",
              "      <td>0.0</td>\n",
              "      <td>527.210022</td>\n",
              "    </tr>\n",
              "    <tr>\n",
              "      <th>1966-01-04</th>\n",
              "      <td>NYA</td>\n",
              "      <td>0.0</td>\n",
              "      <td>527.840027</td>\n",
              "    </tr>\n",
              "    <tr>\n",
              "      <th>1966-01-05</th>\n",
              "      <td>NYA</td>\n",
              "      <td>0.0</td>\n",
              "      <td>531.119995</td>\n",
              "    </tr>\n",
              "    <tr>\n",
              "      <th>1966-01-06</th>\n",
              "      <td>NYA</td>\n",
              "      <td>0.0</td>\n",
              "      <td>532.070007</td>\n",
              "    </tr>\n",
              "  </tbody>\n",
              "</table>\n",
              "</div>"
            ],
            "text/plain": [
              "           Index  Volume    CloseUSD\n",
              "Date                                \n",
              "1965-12-31   NYA     0.0  528.690002\n",
              "1966-01-03   NYA     0.0  527.210022\n",
              "1966-01-04   NYA     0.0  527.840027\n",
              "1966-01-05   NYA     0.0  531.119995\n",
              "1966-01-06   NYA     0.0  532.070007"
            ]
          },
          "metadata": {},
          "execution_count": 33
        }
      ]
    },
    {
      "cell_type": "code",
      "metadata": {
        "id": "ZjUNfuIJKDRM",
        "colab": {
          "base_uri": "https://localhost:8080/",
          "height": 238
        },
        "outputId": "2b5dc74f-6e32-4dd4-8a3c-1c3cbb4c6a0d"
      },
      "source": [
        "TTNYA = NNYA['2020-01-01':'2021-01-01']\n",
        "TTNYA.head()"
      ],
      "execution_count": null,
      "outputs": [
        {
          "output_type": "execute_result",
          "data": {
            "text/html": [
              "<div>\n",
              "<style scoped>\n",
              "    .dataframe tbody tr th:only-of-type {\n",
              "        vertical-align: middle;\n",
              "    }\n",
              "\n",
              "    .dataframe tbody tr th {\n",
              "        vertical-align: top;\n",
              "    }\n",
              "\n",
              "    .dataframe thead th {\n",
              "        text-align: right;\n",
              "    }\n",
              "</style>\n",
              "<table border=\"1\" class=\"dataframe\">\n",
              "  <thead>\n",
              "    <tr style=\"text-align: right;\">\n",
              "      <th></th>\n",
              "      <th>Index</th>\n",
              "      <th>Volume</th>\n",
              "      <th>CloseUSD</th>\n",
              "    </tr>\n",
              "    <tr>\n",
              "      <th>Date</th>\n",
              "      <th></th>\n",
              "      <th></th>\n",
              "      <th></th>\n",
              "    </tr>\n",
              "  </thead>\n",
              "  <tbody>\n",
              "    <tr>\n",
              "      <th>2020-01-02</th>\n",
              "      <td>NYA</td>\n",
              "      <td>3.458250e+09</td>\n",
              "      <td>14002.49023</td>\n",
              "    </tr>\n",
              "    <tr>\n",
              "      <th>2020-01-03</th>\n",
              "      <td>NYA</td>\n",
              "      <td>3.461290e+09</td>\n",
              "      <td>13917.04981</td>\n",
              "    </tr>\n",
              "    <tr>\n",
              "      <th>2020-01-06</th>\n",
              "      <td>NYA</td>\n",
              "      <td>3.674070e+09</td>\n",
              "      <td>13941.79981</td>\n",
              "    </tr>\n",
              "    <tr>\n",
              "      <th>2020-01-07</th>\n",
              "      <td>NYA</td>\n",
              "      <td>3.420380e+09</td>\n",
              "      <td>13898.45020</td>\n",
              "    </tr>\n",
              "    <tr>\n",
              "      <th>2020-01-08</th>\n",
              "      <td>NYA</td>\n",
              "      <td>3.720890e+09</td>\n",
              "      <td>13934.44043</td>\n",
              "    </tr>\n",
              "  </tbody>\n",
              "</table>\n",
              "</div>"
            ],
            "text/plain": [
              "           Index        Volume     CloseUSD\n",
              "Date                                       \n",
              "2020-01-02   NYA  3.458250e+09  14002.49023\n",
              "2020-01-03   NYA  3.461290e+09  13917.04981\n",
              "2020-01-06   NYA  3.674070e+09  13941.79981\n",
              "2020-01-07   NYA  3.420380e+09  13898.45020\n",
              "2020-01-08   NYA  3.720890e+09  13934.44043"
            ]
          },
          "metadata": {},
          "execution_count": 34
        }
      ]
    },
    {
      "cell_type": "code",
      "metadata": {
        "id": "CBuc0-XGKOSm",
        "colab": {
          "base_uri": "https://localhost:8080/",
          "height": 296
        },
        "outputId": "52873e55-de2b-4f27-a72b-b837970dffab"
      },
      "source": [
        "sns.boxplot(x='Index', y='CloseUSD', data=TTNYA)"
      ],
      "execution_count": null,
      "outputs": [
        {
          "output_type": "execute_result",
          "data": {
            "text/plain": [
              "<matplotlib.axes._subplots.AxesSubplot at 0x7f6d3a407190>"
            ]
          },
          "metadata": {},
          "execution_count": 35
        },
        {
          "output_type": "display_data",
          "data": {
            "image/png": "[encoded data removed]",
            "text/plain": [
              "<Figure size 432x288 with 1 Axes>"
            ]
          },
          "metadata": {
            "needs_background": "light"
          }
        }
      ]
    },
    {
      "cell_type": "code",
      "metadata": {
        "id": "UmmJ4L_yKXCS",
        "colab": {
          "base_uri": "https://localhost:8080/",
          "height": 296
        },
        "outputId": "4df673e6-55a1-4e47-b4d9-ac687fd9adb4"
      },
      "source": [
        "sns.violinplot(x='Index', y='CloseUSD', data=TTNYA)"
      ],
      "execution_count": null,
      "outputs": [
        {
          "output_type": "execute_result",
          "data": {
            "text/plain": [
              "<matplotlib.axes._subplots.AxesSubplot at 0x7f6d3a407250>"
            ]
          },
          "metadata": {},
          "execution_count": 36
        },
        {
          "output_type": "display_data",
          "data": {
            "image/png": "[encoded data removed]",
            "text/plain": [
              "<Figure size 432x288 with 1 Axes>"
            ]
          },
          "metadata": {
            "needs_background": "light"
          }
        }
      ]
    },
    {
      "cell_type": "code",
      "metadata": {
        "id": "VhoD5Fp6wQ7z",
        "colab": {
          "base_uri": "https://localhost:8080/",
          "height": 391
        },
        "outputId": "ed4f4435-8999-49b2-b5a3-0f57a725c339"
      },
      "source": [
        "import pandas_profiling\n",
        "sns.pairplot(IP[['Date','Index', 'CloseUSD','Volume']])"
      ],
      "execution_count": null,
      "outputs": [
        {
          "output_type": "execute_result",
          "data": {
            "text/plain": [
              "<seaborn.axisgrid.PairGrid at 0x7f6d3a293e50>"
            ]
          },
          "metadata": {},
          "execution_count": 37
        },
        {
          "output_type": "display_data",
          "data": {
            "image/png": "[encoded data removed]",
            "text/plain": [
              "<Figure size 360x360 with 6 Axes>"
            ]
          },
          "metadata": {
            "needs_background": "light"
          }
        }
      ]
    },
    {
      "cell_type": "markdown",
      "metadata": {
        "id": "1Uyt5dfNi55O"
      },
      "source": [
        "#### **Graficar datos multi-variantes.**\n",
        "\n",
        "No hay suficientes variables útiles para graficas multi-variantes."
      ]
    },
    {
      "cell_type": "markdown",
      "metadata": {
        "id": "MasTdr7gi55Q"
      },
      "source": [
        "## **Countries Life Expectancy**\n",
        "URL: https://www.kaggle.com/brendan45774/countries-life-expectancy"
      ]
    },
    {
      "cell_type": "markdown",
      "metadata": {
        "id": "lZNjd8sXi55R"
      },
      "source": [
        "## **Estadística básica de los datos**"
      ]
    },
    {
      "cell_type": "code",
      "metadata": {
        "id": "4kKn1NSsERs1"
      },
      "source": [
        "import pandas as pd\n",
        "import numpy as np\n",
        "import json\n",
        "#Importando la base de datos bajo el nombre LE\n",
        "LE = pd.read_csv(\"Life expectancy.csv\", encoding='utf8')"
      ],
      "execution_count": null,
      "outputs": []
    },
    {
      "cell_type": "code",
      "metadata": {
        "colab": {
          "base_uri": "https://localhost:8080/"
        },
        "id": "jW4Ukhx2E6hU",
        "outputId": "1e7c9e2c-2a3d-4b27-e830-05094cd4ccba"
      },
      "source": [
        "LE.shape"
      ],
      "execution_count": null,
      "outputs": [
        {
          "output_type": "execute_result",
          "data": {
            "text/plain": [
              "(3253, 3)"
            ]
          },
          "metadata": {},
          "execution_count": 45
        }
      ]
    },
    {
      "cell_type": "code",
      "metadata": {
        "colab": {
          "base_uri": "https://localhost:8080/",
          "height": 238
        },
        "id": "4KocFXu6FDRl",
        "outputId": "90a85aba-2f26-4198-f88c-f087d6a88633"
      },
      "source": [
        "#Mostrando las primeras 6 filas de la base de datos LE para visualizar una parte de la base\n",
        "LE.head(6)"
      ],
      "execution_count": null,
      "outputs": [
        {
          "output_type": "execute_result",
          "data": {
            "text/html": [
              "<div>\n",
              "<style scoped>\n",
              "    .dataframe tbody tr th:only-of-type {\n",
              "        vertical-align: middle;\n",
              "    }\n",
              "\n",
              "    .dataframe tbody tr th {\n",
              "        vertical-align: top;\n",
              "    }\n",
              "\n",
              "    .dataframe thead th {\n",
              "        text-align: right;\n",
              "    }\n",
              "</style>\n",
              "<table border=\"1\" class=\"dataframe\">\n",
              "  <thead>\n",
              "    <tr style=\"text-align: right;\">\n",
              "      <th></th>\n",
              "      <th>Entity</th>\n",
              "      <th>Year</th>\n",
              "      <th>Life expectancy</th>\n",
              "    </tr>\n",
              "  </thead>\n",
              "  <tbody>\n",
              "    <tr>\n",
              "      <th>0</th>\n",
              "      <td>Australia</td>\n",
              "      <td>1802</td>\n",
              "      <td>34.049999</td>\n",
              "    </tr>\n",
              "    <tr>\n",
              "      <th>1</th>\n",
              "      <td>Australia</td>\n",
              "      <td>1803</td>\n",
              "      <td>34.049999</td>\n",
              "    </tr>\n",
              "    <tr>\n",
              "      <th>2</th>\n",
              "      <td>Australia</td>\n",
              "      <td>1804</td>\n",
              "      <td>34.049999</td>\n",
              "    </tr>\n",
              "    <tr>\n",
              "      <th>3</th>\n",
              "      <td>Australia</td>\n",
              "      <td>1805</td>\n",
              "      <td>34.049999</td>\n",
              "    </tr>\n",
              "    <tr>\n",
              "      <th>4</th>\n",
              "      <td>Australia</td>\n",
              "      <td>1806</td>\n",
              "      <td>34.049999</td>\n",
              "    </tr>\n",
              "    <tr>\n",
              "      <th>5</th>\n",
              "      <td>Australia</td>\n",
              "      <td>1807</td>\n",
              "      <td>34.049999</td>\n",
              "    </tr>\n",
              "  </tbody>\n",
              "</table>\n",
              "</div>"
            ],
            "text/plain": [
              "      Entity  Year  Life expectancy\n",
              "0  Australia  1802        34.049999\n",
              "1  Australia  1803        34.049999\n",
              "2  Australia  1804        34.049999\n",
              "3  Australia  1805        34.049999\n",
              "4  Australia  1806        34.049999\n",
              "5  Australia  1807        34.049999"
            ]
          },
          "metadata": {},
          "execution_count": 5
        }
      ]
    },
    {
      "cell_type": "code",
      "metadata": {
        "colab": {
          "base_uri": "https://localhost:8080/"
        },
        "id": "8E9jDY56FIZR",
        "outputId": "de29306b-23d5-4232-a198-64576271aeff"
      },
      "source": [
        "#Suma de todos los elementos de la columna Life expectancy(Esperanza de vida)\n",
        "LE[\"Life expectancy\"].sum()"
      ],
      "execution_count": null,
      "outputs": [
        {
          "output_type": "execute_result",
          "data": {
            "text/plain": [
              "158357.27508420002"
            ]
          },
          "metadata": {},
          "execution_count": 6
        }
      ]
    },
    {
      "cell_type": "code",
      "metadata": {
        "colab": {
          "base_uri": "https://localhost:8080/"
        },
        "id": "jmpChXOEFUw-",
        "outputId": "e01237da-4ca3-4f3b-e624-c5682c7828bb"
      },
      "source": [
        "#Mostrar el promedio de la columna Life expectancy(Esperanza de vida)\n",
        "LE[\"Life expectancy\"].mean()"
      ],
      "execution_count": null,
      "outputs": [
        {
          "output_type": "execute_result",
          "data": {
            "text/plain": [
              "48.680379675437884"
            ]
          },
          "metadata": {},
          "execution_count": 7
        }
      ]
    },
    {
      "cell_type": "code",
      "metadata": {
        "colab": {
          "base_uri": "https://localhost:8080/"
        },
        "id": "JigS_T6LFZ5D",
        "outputId": "4cdf6261-fbe0-4a51-d494-776546accfa3"
      },
      "source": [
        "#Suma acumulada de los años de vida esperados \n",
        "LE[\"Life expectancy\"].cumsum()"
      ],
      "execution_count": null,
      "outputs": [
        {
          "output_type": "execute_result",
          "data": {
            "text/plain": [
              "0           34.049999\n",
              "1           68.099998\n",
              "2          102.149997\n",
              "3          136.199996\n",
              "4          170.249995\n",
              "            ...      \n",
              "3248    158041.645079\n",
              "3249    158120.605078\n",
              "3250    158199.545080\n",
              "3251    158278.415083\n",
              "3252    158357.275084\n",
              "Name: Life expectancy, Length: 3253, dtype: float64"
            ]
          },
          "metadata": {},
          "execution_count": 8
        }
      ]
    },
    {
      "cell_type": "code",
      "metadata": {
        "colab": {
          "base_uri": "https://localhost:8080/"
        },
        "id": "9O4orn5iFg9y",
        "outputId": "cb970a91-1d33-4908-f60a-fa406274f771"
      },
      "source": [
        "#resumen estadistico de la columna Life expectancy\n",
        "LE[\"Life expectancy\"].describe()"
      ],
      "execution_count": null,
      "outputs": [
        {
          "output_type": "execute_result",
          "data": {
            "text/plain": [
              "count    3253.000000\n",
              "mean       48.680380\n",
              "std        17.965669\n",
              "min         8.108836\n",
              "25%        32.000000\n",
              "50%        41.880001\n",
              "75%        66.820000\n",
              "max        83.940002\n",
              "Name: Life expectancy, dtype: float64"
            ]
          },
          "metadata": {},
          "execution_count": 9
        }
      ]
    },
    {
      "cell_type": "code",
      "metadata": {
        "colab": {
          "base_uri": "https://localhost:8080/"
        },
        "id": "OP1HHXMEFm4D",
        "outputId": "8e809d4a-68b2-4864-88a2-089d64be71f2"
      },
      "source": [
        "LE[\"Life expectancy\"].count()"
      ],
      "execution_count": null,
      "outputs": [
        {
          "output_type": "execute_result",
          "data": {
            "text/plain": [
              "3253"
            ]
          },
          "metadata": {},
          "execution_count": 10
        }
      ]
    },
    {
      "cell_type": "code",
      "metadata": {
        "colab": {
          "base_uri": "https://localhost:8080/"
        },
        "id": "zNLF5L6WFq7n",
        "outputId": "0633bb5d-78c7-4252-d624-eb1d7fed267b"
      },
      "source": [
        "LE[\"Life expectancy\"].min()"
      ],
      "execution_count": null,
      "outputs": [
        {
          "output_type": "execute_result",
          "data": {
            "text/plain": [
              "8.1088362"
            ]
          },
          "metadata": {},
          "execution_count": 11
        }
      ]
    },
    {
      "cell_type": "code",
      "metadata": {
        "colab": {
          "base_uri": "https://localhost:8080/"
        },
        "id": "bFxenC0CFwP0",
        "outputId": "8b4e6309-d63f-422b-a996-d04418b10e4f"
      },
      "source": [
        "LE[\"Life expectancy\"].max()"
      ],
      "execution_count": null,
      "outputs": [
        {
          "output_type": "execute_result",
          "data": {
            "text/plain": [
              "83.940002"
            ]
          },
          "metadata": {},
          "execution_count": 12
        }
      ]
    },
    {
      "cell_type": "code",
      "metadata": {
        "colab": {
          "base_uri": "https://localhost:8080/"
        },
        "id": "_SRcr3ZRF0K-",
        "outputId": "7e74eb72-d748-4407-a5eb-1c9f9a5c9754"
      },
      "source": [
        "LE[\"Life expectancy\"].median()"
      ],
      "execution_count": null,
      "outputs": [
        {
          "output_type": "execute_result",
          "data": {
            "text/plain": [
              "41.880001"
            ]
          },
          "metadata": {},
          "execution_count": 13
        }
      ]
    },
    {
      "cell_type": "code",
      "metadata": {
        "colab": {
          "base_uri": "https://localhost:8080/"
        },
        "id": "A8R4ShlHF43A",
        "outputId": "9cf484e3-e185-458c-8836-bc3c56d34dd0"
      },
      "source": [
        "LE[\"Life expectancy\"].var()"
      ],
      "execution_count": null,
      "outputs": [
        {
          "output_type": "execute_result",
          "data": {
            "text/plain": [
              "322.7652796192206"
            ]
          },
          "metadata": {},
          "execution_count": 14
        }
      ]
    },
    {
      "cell_type": "code",
      "metadata": {
        "colab": {
          "base_uri": "https://localhost:8080/"
        },
        "id": "sWAvUrgli55W",
        "outputId": "d75b20d3-3f34-483b-d620-6d45407282a8"
      },
      "source": [
        "LE[\"Life expectancy\"].std()"
      ],
      "execution_count": null,
      "outputs": [
        {
          "output_type": "execute_result",
          "data": {
            "text/plain": [
              "17.965669473170784"
            ]
          },
          "metadata": {},
          "execution_count": 15
        }
      ]
    },
    {
      "cell_type": "code",
      "metadata": {
        "colab": {
          "base_uri": "https://localhost:8080/"
        },
        "id": "26uNvxRoi55X",
        "outputId": "d0b21f1b-7689-4d5c-c4d7-ffe279db3664"
      },
      "source": [
        "LE[\"Life expectancy\"].skew()"
      ],
      "execution_count": null,
      "outputs": [
        {
          "output_type": "execute_result",
          "data": {
            "text/plain": [
              "0.4320957132582497"
            ]
          },
          "metadata": {},
          "execution_count": 16
        }
      ]
    },
    {
      "cell_type": "code",
      "metadata": {
        "colab": {
          "base_uri": "https://localhost:8080/"
        },
        "id": "u4xUie9xi55X",
        "outputId": "9cf83712-3897-4d71-cf8b-2642a48df54f"
      },
      "source": [
        "LE[\"Life expectancy\"].kurt()"
      ],
      "execution_count": null,
      "outputs": [
        {
          "output_type": "execute_result",
          "data": {
            "text/plain": [
              "-1.2344074833769916"
            ]
          },
          "metadata": {},
          "execution_count": 17
        }
      ]
    },
    {
      "cell_type": "code",
      "metadata": {
        "colab": {
          "base_uri": "https://localhost:8080/",
          "height": 112
        },
        "id": "9L9ARmQji55Y",
        "outputId": "ce599352-5351-45c2-8f12-df7fb29d29a7"
      },
      "source": [
        "LE.corr()"
      ],
      "execution_count": null,
      "outputs": [
        {
          "output_type": "execute_result",
          "data": {
            "text/html": [
              "<div>\n",
              "<style scoped>\n",
              "    .dataframe tbody tr th:only-of-type {\n",
              "        vertical-align: middle;\n",
              "    }\n",
              "\n",
              "    .dataframe tbody tr th {\n",
              "        vertical-align: top;\n",
              "    }\n",
              "\n",
              "    .dataframe thead th {\n",
              "        text-align: right;\n",
              "    }\n",
              "</style>\n",
              "<table border=\"1\" class=\"dataframe\">\n",
              "  <thead>\n",
              "    <tr style=\"text-align: right;\">\n",
              "      <th></th>\n",
              "      <th>Year</th>\n",
              "      <th>Life expectancy</th>\n",
              "    </tr>\n",
              "  </thead>\n",
              "  <tbody>\n",
              "    <tr>\n",
              "      <th>Year</th>\n",
              "      <td>1.000000</td>\n",
              "      <td>0.843842</td>\n",
              "    </tr>\n",
              "    <tr>\n",
              "      <th>Life expectancy</th>\n",
              "      <td>0.843842</td>\n",
              "      <td>1.000000</td>\n",
              "    </tr>\n",
              "  </tbody>\n",
              "</table>\n",
              "</div>"
            ],
            "text/plain": [
              "                     Year  Life expectancy\n",
              "Year             1.000000         0.843842\n",
              "Life expectancy  0.843842         1.000000"
            ]
          },
          "metadata": {},
          "execution_count": 18
        }
      ]
    },
    {
      "cell_type": "code",
      "metadata": {
        "colab": {
          "base_uri": "https://localhost:8080/",
          "height": 112
        },
        "id": "k9YUMRi3i55Y",
        "outputId": "cc978d71-b200-4e7e-a0e9-a2629666545f"
      },
      "source": [
        "LE.cov()"
      ],
      "execution_count": null,
      "outputs": [
        {
          "output_type": "execute_result",
          "data": {
            "text/html": [
              "<div>\n",
              "<style scoped>\n",
              "    .dataframe tbody tr th:only-of-type {\n",
              "        vertical-align: middle;\n",
              "    }\n",
              "\n",
              "    .dataframe tbody tr th {\n",
              "        vertical-align: top;\n",
              "    }\n",
              "\n",
              "    .dataframe thead th {\n",
              "        text-align: right;\n",
              "    }\n",
              "</style>\n",
              "<table border=\"1\" class=\"dataframe\">\n",
              "  <thead>\n",
              "    <tr style=\"text-align: right;\">\n",
              "      <th></th>\n",
              "      <th>Year</th>\n",
              "      <th>Life expectancy</th>\n",
              "    </tr>\n",
              "  </thead>\n",
              "  <tbody>\n",
              "    <tr>\n",
              "      <th>Year</th>\n",
              "      <td>3920.508238</td>\n",
              "      <td>949.239768</td>\n",
              "    </tr>\n",
              "    <tr>\n",
              "      <th>Life expectancy</th>\n",
              "      <td>949.239768</td>\n",
              "      <td>322.765280</td>\n",
              "    </tr>\n",
              "  </tbody>\n",
              "</table>\n",
              "</div>"
            ],
            "text/plain": [
              "                        Year  Life expectancy\n",
              "Year             3920.508238       949.239768\n",
              "Life expectancy   949.239768       322.765280"
            ]
          },
          "metadata": {},
          "execution_count": 19
        }
      ]
    },
    {
      "cell_type": "markdown",
      "metadata": {
        "id": "1_1eYuIvi55Y"
      },
      "source": [
        "## **Gráficas**"
      ]
    },
    {
      "cell_type": "code",
      "metadata": {
        "colab": {
          "base_uri": "https://localhost:8080/",
          "height": 238
        },
        "id": "PdL_PH8tOZ31",
        "outputId": "b468ff68-7367-471d-c6af-c1646eb3032e"
      },
      "source": [
        "import pandas as pd\n",
        "import matplotlib as plt\n",
        "%matplotlib inline\n",
        "NLE = pd.read_csv(\"Life expectancy.csv\", index_col=0)\n",
        "NLE.head()"
      ],
      "execution_count": null,
      "outputs": [
        {
          "output_type": "execute_result",
          "data": {
            "text/html": [
              "<div>\n",
              "<style scoped>\n",
              "    .dataframe tbody tr th:only-of-type {\n",
              "        vertical-align: middle;\n",
              "    }\n",
              "\n",
              "    .dataframe tbody tr th {\n",
              "        vertical-align: top;\n",
              "    }\n",
              "\n",
              "    .dataframe thead th {\n",
              "        text-align: right;\n",
              "    }\n",
              "</style>\n",
              "<table border=\"1\" class=\"dataframe\">\n",
              "  <thead>\n",
              "    <tr style=\"text-align: right;\">\n",
              "      <th></th>\n",
              "      <th>Year</th>\n",
              "      <th>Life expectancy</th>\n",
              "    </tr>\n",
              "    <tr>\n",
              "      <th>Entity</th>\n",
              "      <th></th>\n",
              "      <th></th>\n",
              "    </tr>\n",
              "  </thead>\n",
              "  <tbody>\n",
              "    <tr>\n",
              "      <th>Australia</th>\n",
              "      <td>1802</td>\n",
              "      <td>34.049999</td>\n",
              "    </tr>\n",
              "    <tr>\n",
              "      <th>Australia</th>\n",
              "      <td>1803</td>\n",
              "      <td>34.049999</td>\n",
              "    </tr>\n",
              "    <tr>\n",
              "      <th>Australia</th>\n",
              "      <td>1804</td>\n",
              "      <td>34.049999</td>\n",
              "    </tr>\n",
              "    <tr>\n",
              "      <th>Australia</th>\n",
              "      <td>1805</td>\n",
              "      <td>34.049999</td>\n",
              "    </tr>\n",
              "    <tr>\n",
              "      <th>Australia</th>\n",
              "      <td>1806</td>\n",
              "      <td>34.049999</td>\n",
              "    </tr>\n",
              "  </tbody>\n",
              "</table>\n",
              "</div>"
            ],
            "text/plain": [
              "           Year  Life expectancy\n",
              "Entity                          \n",
              "Australia  1802        34.049999\n",
              "Australia  1803        34.049999\n",
              "Australia  1804        34.049999\n",
              "Australia  1805        34.049999\n",
              "Australia  1806        34.049999"
            ]
          },
          "metadata": {},
          "execution_count": 46
        }
      ]
    },
    {
      "cell_type": "code",
      "metadata": {
        "colab": {
          "base_uri": "https://localhost:8080/"
        },
        "id": "ljVLY_o-OlcT",
        "outputId": "5f24f886-77dd-4c5a-a6d6-bc22297fae5b"
      },
      "source": [
        "NLE.columns"
      ],
      "execution_count": null,
      "outputs": [
        {
          "output_type": "execute_result",
          "data": {
            "text/plain": [
              "Index(['Year', 'Life expectancy'], dtype='object')"
            ]
          },
          "metadata": {},
          "execution_count": 71
        }
      ]
    },
    {
      "cell_type": "markdown",
      "metadata": {
        "id": "kWtpC87vGuOc"
      },
      "source": [
        "### **Graficar datos univariantes.**\n",
        "### **Grafica de barras y datos categoricos:**\n"
      ]
    },
    {
      "cell_type": "code",
      "metadata": {
        "colab": {
          "base_uri": "https://localhost:8080/",
          "height": 383
        },
        "id": "7jUK6swSG4am",
        "outputId": "e8db0c43-78b5-4576-ffc4-a882947915ae"
      },
      "source": [
        "(NLE['Life expectancy'].value_counts().head(10) / len(NLE)).plot.bar()"
      ],
      "execution_count": null,
      "outputs": [
        {
          "output_type": "execute_result",
          "data": {
            "text/plain": [
              "<matplotlib.axes._subplots.AxesSubplot at 0x7f6d32e16150>"
            ]
          },
          "metadata": {},
          "execution_count": 47
        },
        {
          "output_type": "display_data",
          "data": {
            "image/png": "[encoded data removed]",
            "text/plain": [
              "<Figure size 432x288 with 1 Axes>"
            ]
          },
          "metadata": {
            "needs_background": "light"
          }
        }
      ]
    },
    {
      "cell_type": "markdown",
      "metadata": {
        "id": "lt8ghdC5I7e6"
      },
      "source": [
        "Claramente vemos que el promedio de vida de 32 años es el que mas se repite entre todos los paises esto porque toma desde los años de 1800 a 2016 "
      ]
    },
    {
      "cell_type": "code",
      "metadata": {
        "colab": {
          "base_uri": "https://localhost:8080/",
          "height": 384
        },
        "id": "Fzp2b2YdJJJA",
        "outputId": "ae7435e8-5082-4e74-bc81-1e081adb7aea"
      },
      "source": [
        "NLE['Life expectancy'].value_counts().sort_index().plot.bar()"
      ],
      "execution_count": null,
      "outputs": [
        {
          "output_type": "execute_result",
          "data": {
            "text/plain": [
              "<matplotlib.axes._subplots.AxesSubplot at 0x7f6d328119d0>"
            ]
          },
          "metadata": {},
          "execution_count": 48
        },
        {
          "output_type": "display_data",
          "data": {
            "image/png": "[encoded data removed]",
            "text/plain": [
              "<Figure size 432x288 with 1 Axes>"
            ]
          },
          "metadata": {
            "needs_background": "light"
          }
        }
      ]
    },
    {
      "cell_type": "markdown",
      "metadata": {
        "id": "Gs3rXSZ1JPhj"
      },
      "source": [
        "Claramente hace mucho ruido este histograma asi que realizaremos un analisis mas congruente "
      ]
    },
    {
      "cell_type": "code",
      "metadata": {
        "colab": {
          "base_uri": "https://localhost:8080/",
          "height": 282
        },
        "id": "fwWDqz_zJWvC",
        "outputId": "18385b04-7a47-4a16-f734-6f3e8f6eba99"
      },
      "source": [
        "NLE['Life expectancy'].plot.hist()"
      ],
      "execution_count": null,
      "outputs": [
        {
          "output_type": "execute_result",
          "data": {
            "text/plain": [
              "<matplotlib.axes._subplots.AxesSubplot at 0x7f6d32d88790>"
            ]
          },
          "metadata": {},
          "execution_count": 49
        },
        {
          "output_type": "display_data",
          "data": {
            "image/png": "[encoded data removed]",
            "text/plain": [
              "<Figure size 432x288 with 1 Axes>"
            ]
          },
          "metadata": {
            "needs_background": "light"
          }
        }
      ]
    },
    {
      "cell_type": "markdown",
      "metadata": {
        "id": "ehxMX59uJs_c"
      },
      "source": [
        "Como podemos ver las edades promedio de vida que mas se repiten son de 30 a 40 en un  periodo de 1800 a 2016"
      ]
    },
    {
      "cell_type": "code",
      "metadata": {
        "colab": {
          "base_uri": "https://localhost:8080/",
          "height": 282
        },
        "id": "K7TMmHO3Jsgl",
        "outputId": "86a292ee-7111-421b-b062-1582a1934e13"
      },
      "source": [
        "NLE[NLE['Life expectancy'] < 200]['Life expectancy'].plot.hist()"
      ],
      "execution_count": null,
      "outputs": [
        {
          "output_type": "execute_result",
          "data": {
            "text/plain": [
              "<matplotlib.axes._subplots.AxesSubplot at 0x7f6d2f590f10>"
            ]
          },
          "metadata": {},
          "execution_count": 50
        },
        {
          "output_type": "display_data",
          "data": {
            "image/png": "[encoded data removed]",
            "text/plain": [
              "<Figure size 432x288 with 1 Axes>"
            ]
          },
          "metadata": {
            "needs_background": "light"
          }
        }
      ]
    },
    {
      "cell_type": "markdown",
      "metadata": {
        "id": "pqFXw41yNUyh"
      },
      "source": [
        "### **Graficar datos bi-variantes.**\n",
        "### **Scatter plot**\n"
      ]
    },
    {
      "cell_type": "code",
      "metadata": {
        "colab": {
          "base_uri": "https://localhost:8080/",
          "height": 296
        },
        "id": "wMkqRxT6NXOA",
        "outputId": "6478c1f7-9f9c-4990-c49f-3f495d6f5ce8"
      },
      "source": [
        "NLE[NLE['Life expectancy'] < 100].sample(100).plot.scatter(x='Year', y='Life expectancy')"
      ],
      "execution_count": null,
      "outputs": [
        {
          "output_type": "execute_result",
          "data": {
            "text/plain": [
              "<matplotlib.axes._subplots.AxesSubplot at 0x7f6d2f48e5d0>"
            ]
          },
          "metadata": {},
          "execution_count": 52
        },
        {
          "output_type": "display_data",
          "data": {
            "image/png": "[encoded data removed]",
            "text/plain": [
              "<Figure size 432x288 with 1 Axes>"
            ]
          },
          "metadata": {
            "needs_background": "light"
          }
        }
      ]
    },
    {
      "cell_type": "markdown",
      "metadata": {
        "id": "CaHNvA-BNyrf"
      },
      "source": [
        "Esto significa que entre mas reciente sea el año aumenta la esperanza de vida promedio "
      ]
    },
    {
      "cell_type": "code",
      "metadata": {
        "colab": {
          "base_uri": "https://localhost:8080/",
          "height": 271
        },
        "id": "MzT0zjsyN98M",
        "outputId": "2270f826-fdba-4140-f507-db9eee1f6b53"
      },
      "source": [
        "NLE[NLE['Life expectancy'] < 100].plot.hexbin(x='Year', y='Life expectancy', gridsize=15)"
      ],
      "execution_count": null,
      "outputs": [
        {
          "output_type": "execute_result",
          "data": {
            "text/plain": [
              "<matplotlib.axes._subplots.AxesSubplot at 0x7f6d2f633bd0>"
            ]
          },
          "metadata": {},
          "execution_count": 53
        },
        {
          "output_type": "display_data",
          "data": {
            "image/png": "[encoded data removed]",
            "text/plain": [
              "<Figure size 432x288 with 2 Axes>"
            ]
          },
          "metadata": {
            "needs_background": "light"
          }
        }
      ]
    },
    {
      "cell_type": "markdown",
      "metadata": {
        "id": "gnWj8Dg_OFhH"
      },
      "source": [
        "Como se puede ver en el periodo de 1950 a 2000 se presenta una mayor consentracion de cluster"
      ]
    },
    {
      "cell_type": "markdown",
      "metadata": {
        "id": "Xg1t3vupOa6S"
      },
      "source": [
        "### **Stacked plots**\n"
      ]
    },
    {
      "cell_type": "markdown",
      "metadata": {
        "id": "72pVSzrKPlmO"
      },
      "source": [
        "Aqui usamos un resumen de los datos la Esperanza de vida para poder realizar la grafica."
      ]
    },
    {
      "cell_type": "code",
      "metadata": {
        "id": "8qns9hIiPtqg"
      },
      "source": [
        "import pandas as pd\n",
        "import numpy as np\n",
        "import json\n",
        "#Importando la base de datos bajo el nombre IP\n",
        "LER = pd.read_csv(\"Life expectancyResumencopia.csv\", encoding='utf8')"
      ],
      "execution_count": 59,
      "outputs": []
    },
    {
      "cell_type": "code",
      "metadata": {
        "id": "PGy3PIigP7CX"
      },
      "source": [
        "LER = pd.read_csv(\"Life expectancyResumencopia.csv\",index_col=0)"
      ],
      "execution_count": 60,
      "outputs": []
    },
    {
      "cell_type": "code",
      "metadata": {
        "colab": {
          "base_uri": "https://localhost:8080/",
          "height": 238
        },
        "id": "u0dnB67AQJ-m",
        "outputId": "f4682b47-1ae6-4403-d999-214f0acda1c1"
      },
      "source": [
        "LER.head()"
      ],
      "execution_count": 61,
      "outputs": [
        {
          "output_type": "execute_result",
          "data": {
            "text/html": [
              "<div>\n",
              "<style scoped>\n",
              "    .dataframe tbody tr th:only-of-type {\n",
              "        vertical-align: middle;\n",
              "    }\n",
              "\n",
              "    .dataframe tbody tr th {\n",
              "        vertical-align: top;\n",
              "    }\n",
              "\n",
              "    .dataframe thead th {\n",
              "        text-align: right;\n",
              "    }\n",
              "</style>\n",
              "<table border=\"1\" class=\"dataframe\">\n",
              "  <thead>\n",
              "    <tr style=\"text-align: right;\">\n",
              "      <th></th>\n",
              "      <th>Entity</th>\n",
              "      <th>Life expectancy</th>\n",
              "    </tr>\n",
              "    <tr>\n",
              "      <th>Year</th>\n",
              "      <th></th>\n",
              "      <th></th>\n",
              "    </tr>\n",
              "  </thead>\n",
              "  <tbody>\n",
              "    <tr>\n",
              "      <th>2000</th>\n",
              "      <td>China</td>\n",
              "      <td>69.940002</td>\n",
              "    </tr>\n",
              "    <tr>\n",
              "      <th>2001</th>\n",
              "      <td>China</td>\n",
              "      <td>70.220001</td>\n",
              "    </tr>\n",
              "    <tr>\n",
              "      <th>2002</th>\n",
              "      <td>China</td>\n",
              "      <td>70.519997</td>\n",
              "    </tr>\n",
              "    <tr>\n",
              "      <th>2003</th>\n",
              "      <td>China</td>\n",
              "      <td>71.220001</td>\n",
              "    </tr>\n",
              "    <tr>\n",
              "      <th>2004</th>\n",
              "      <td>China</td>\n",
              "      <td>71.779999</td>\n",
              "    </tr>\n",
              "  </tbody>\n",
              "</table>\n",
              "</div>"
            ],
            "text/plain": [
              "     Entity  Life expectancy\n",
              "Year                        \n",
              "2000  China        69.940002\n",
              "2001  China        70.220001\n",
              "2002  China        70.519997\n",
              "2003  China        71.220001\n",
              "2004  China        71.779999"
            ]
          },
          "metadata": {},
          "execution_count": 61
        }
      ]
    },
    {
      "cell_type": "code",
      "metadata": {
        "colab": {
          "base_uri": "https://localhost:8080/",
          "height": 315
        },
        "id": "zJUzFiN4Q55i",
        "outputId": "134a1804-a61c-4bd1-e622-c8e604d69d5a"
      },
      "source": [
        "LER.plot.bar(stacked=True)"
      ],
      "execution_count": 62,
      "outputs": [
        {
          "output_type": "execute_result",
          "data": {
            "text/plain": [
              "<matplotlib.axes._subplots.AxesSubplot at 0x7f6d279fae90>"
            ]
          },
          "metadata": {},
          "execution_count": 62
        },
        {
          "output_type": "display_data",
          "data": {
            "image/png": "[encoded data removed]",
            "text/plain": [
              "<Figure size 432x288 with 1 Axes>"
            ]
          },
          "metadata": {
            "needs_background": "light"
          }
        }
      ]
    },
    {
      "cell_type": "markdown",
      "metadata": {
        "id": "Ud0o9SO3TISJ"
      },
      "source": [
        "Como podemos ver la esperanza de vida de China conforme los años a ido aumentando "
      ]
    },
    {
      "cell_type": "code",
      "metadata": {
        "colab": {
          "base_uri": "https://localhost:8080/",
          "height": 300
        },
        "id": "bynH1QZPRBip",
        "outputId": "6e44814f-0e5a-43c9-a24c-25a2e93c6cab"
      },
      "source": [
        "LER.plot.area()"
      ],
      "execution_count": 64,
      "outputs": [
        {
          "output_type": "execute_result",
          "data": {
            "text/plain": [
              "<matplotlib.axes._subplots.AxesSubplot at 0x7f6d279465d0>"
            ]
          },
          "metadata": {},
          "execution_count": 64
        },
        {
          "output_type": "display_data",
          "data": {
            "image/png": "[encoded data removed]",
            "text/plain": [
              "<Figure size 432x288 with 1 Axes>"
            ]
          },
          "metadata": {
            "needs_background": "light"
          }
        }
      ]
    },
    {
      "cell_type": "code",
      "metadata": {
        "colab": {
          "base_uri": "https://localhost:8080/",
          "height": 296
        },
        "id": "tEz-6N7RRD_4",
        "outputId": "1374d5ea-c6ef-4b84-c19a-d45064942ab3"
      },
      "source": [
        "LER.plot.line()"
      ],
      "execution_count": 65,
      "outputs": [
        {
          "output_type": "execute_result",
          "data": {
            "text/plain": [
              "<matplotlib.axes._subplots.AxesSubplot at 0x7f6d2782c710>"
            ]
          },
          "metadata": {},
          "execution_count": 65
        },
        {
          "output_type": "display_data",
          "data": {
            "image/png": "[encoded data removed]",
            "text/plain": [
              "<Figure size 432x288 with 1 Axes>"
            ]
          },
          "metadata": {
            "needs_background": "light"
          }
        }
      ]
    },
    {
      "cell_type": "code",
      "metadata": {
        "id": "vcQc44_qRHnx"
      },
      "source": [
        "import seaborn as sns"
      ],
      "execution_count": 66,
      "outputs": []
    },
    {
      "cell_type": "code",
      "metadata": {
        "id": "DEX2n-q1TYam",
        "colab": {
          "base_uri": "https://localhost:8080/",
          "height": 282
        },
        "outputId": "fcc191ea-2110-4831-b903-2178e1108b46"
      },
      "source": [
        "NLE[NLE['Life expectancy'] < 200]['Life expectancy'].value_counts().sort_index().plot.line()"
      ],
      "execution_count": 68,
      "outputs": [
        {
          "output_type": "execute_result",
          "data": {
            "text/plain": [
              "<matplotlib.axes._subplots.AxesSubplot at 0x7f6d2c1b9c10>"
            ]
          },
          "metadata": {},
          "execution_count": 68
        },
        {
          "output_type": "display_data",
          "data": {
            "image/png": "[encoded data removed]",
            "text/plain": [
              "<Figure size 432x288 with 1 Axes>"
            ]
          },
          "metadata": {
            "needs_background": "light"
          }
        }
      ]
    },
    {
      "cell_type": "code",
      "metadata": {
        "id": "8LaW6joNWNQy",
        "colab": {
          "base_uri": "https://localhost:8080/",
          "height": 351
        },
        "outputId": "8fc816c1-cb83-430a-eabf-bdd863236509"
      },
      "source": [
        "sns.distplot(NLE['Life expectancy'], bins=10, kde=False)"
      ],
      "execution_count": 70,
      "outputs": [
        {
          "output_type": "stream",
          "name": "stderr",
          "text": [
            "/usr/local/lib/python3.7/dist-packages/seaborn/distributions.py:2619: FutureWarning: `distplot` is a deprecated function and will be removed in a future version. Please adapt your code to use either `displot` (a figure-level function with similar flexibility) or `histplot` (an axes-level function for histograms).\n",
            "  warnings.warn(msg, FutureWarning)\n"
          ]
        },
        {
          "output_type": "execute_result",
          "data": {
            "text/plain": [
              "<matplotlib.axes._subplots.AxesSubplot at 0x7f6d2e1c00d0>"
            ]
          },
          "metadata": {},
          "execution_count": 70
        },
        {
          "output_type": "display_data",
          "data": {
            "image/png": "[encoded data removed]",
            "text/plain": [
              "<Figure size 432x288 with 1 Axes>"
            ]
          },
          "metadata": {
            "needs_background": "light"
          }
        }
      ]
    },
    {
      "cell_type": "markdown",
      "metadata": {
        "id": "KksoLXhCWioU"
      },
      "source": [
        "### **Box plots**\n"
      ]
    },
    {
      "cell_type": "code",
      "metadata": {
        "colab": {
          "base_uri": "https://localhost:8080/",
          "height": 296
        },
        "id": "LJs-XmnTWlJF",
        "outputId": "d483e275-7eaa-49b2-d5f5-ec87a53bb29a"
      },
      "source": [
        "sns.boxplot(x='Entity', y='Life expectancy', data=LER)"
      ],
      "execution_count": 94,
      "outputs": [
        {
          "output_type": "execute_result",
          "data": {
            "text/plain": [
              "<matplotlib.axes._subplots.AxesSubplot at 0x7f6d285c5810>"
            ]
          },
          "metadata": {},
          "execution_count": 94
        },
        {
          "output_type": "display_data",
          "data": {
            "image/png": "[encoded data removed]",
            "text/plain": [
              "<Figure size 432x288 with 1 Axes>"
            ]
          },
          "metadata": {
            "needs_background": "light"
          }
        }
      ]
    },
    {
      "cell_type": "code",
      "metadata": {
        "colab": {
          "base_uri": "https://localhost:8080/",
          "height": 296
        },
        "id": "R6lNrtkFXDKU",
        "outputId": "559156a6-0fb8-4665-a874-74426d6f465f"
      },
      "source": [
        "sns.violinplot(x='Entity', y='Life expectancy', data=LER)"
      ],
      "execution_count": 95,
      "outputs": [
        {
          "output_type": "execute_result",
          "data": {
            "text/plain": [
              "<matplotlib.axes._subplots.AxesSubplot at 0x7f6d28468cd0>"
            ]
          },
          "metadata": {},
          "execution_count": 95
        },
        {
          "output_type": "display_data",
          "data": {
            "image/png": "[encoded data removed]",
            "text/plain": [
              "<Figure size 432x288 with 1 Axes>"
            ]
          },
          "metadata": {
            "needs_background": "light"
          }
        }
      ]
    },
    {
      "cell_type": "markdown",
      "metadata": {
        "id": "Zet0E8pIZJyO"
      },
      "source": [
        "####**Graficas multi-variantes**\n",
        "\n",
        "No hay suficientes variables útiles para graficas multi-variantes."
      ]
    }
  ]
}